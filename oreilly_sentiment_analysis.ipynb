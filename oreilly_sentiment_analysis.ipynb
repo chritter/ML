{
    "nbformat_minor": 1, 
    "cells": [
        {
            "source": "## Sentiment Analysis with TF", 
            "cell_type": "markdown", 
            "metadata": {
                "collapsed": true
            }
        }, 
        {
            "source": "https://www.oreilly.com/learning/perform-sentiment-analysis-with-lstms-using-tensorflow\n\nhttps://github.com/adeshpande3/LSTM-Sentiment-Analysis\n\n### (Currently not supported for 1.2, 1.3, 1.4 !", 
            "cell_type": "markdown", 
            "metadata": {}
        }, 
        {
            "source": "", 
            "cell_type": "code", 
            "metadata": {}, 
            "outputs": [], 
            "execution_count": null
        }, 
        {
            "source": "%%bash\ngit clone https://github.com/adeshpande3/LSTM-Sentiment-Analysis.git", 
            "cell_type": "code", 
            "metadata": {}, 
            "outputs": [
                {
                    "output_type": "stream", 
                    "name": "stdout", 
                    "text": "Cloning into 'LSTM-Sentiment-Analysis'...\n"
                }
            ], 
            "execution_count": 1
        }, 
        {
            "source": "import tensorflow as tf", 
            "cell_type": "code", 
            "metadata": {}, 
            "outputs": [], 
            "execution_count": 2
        }, 
        {
            "source": "tf.__version__", 
            "cell_type": "code", 
            "metadata": {}, 
            "outputs": [
                {
                    "output_type": "execute_result", 
                    "data": {
                        "text/plain": "'1.3.0'"
                    }, 
                    "execution_count": 3, 
                    "metadata": {}
                }
            ], 
            "execution_count": 3
        }, 
        {
            "source": "", 
            "cell_type": "code", 
            "metadata": {}, 
            "outputs": [], 
            "execution_count": null
        }
    ], 
    "metadata": {
        "kernelspec": {
            "display_name": "Python 3.5", 
            "name": "python3", 
            "language": "python"
        }, 
        "language_info": {
            "mimetype": "text/x-python", 
            "nbconvert_exporter": "python", 
            "version": "3.5.4", 
            "name": "python", 
            "file_extension": ".py", 
            "pygments_lexer": "ipython3", 
            "codemirror_mode": {
                "version": 3, 
                "name": "ipython"
            }
        }
    }, 
    "nbformat": 4
}