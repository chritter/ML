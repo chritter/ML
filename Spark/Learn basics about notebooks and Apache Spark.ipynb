{
    "nbformat_minor": 1, 
    "cells": [
        {
            "source": "# Learn the basics about notebooks and Apache Spark\n\nThis notebook introduces you to the basics of analytics notebooks and explains what Apache Spark is and how to use Spark in notebooks. The notebook shows you how to load data into the notebook, parse and explore the data, run queries on the data to extract information, plot your analysis results, and save your result in Object Storage.\n\nThis notebooks runs on Python 2 with Spark 2.x, and Object Storage (Swift API).\n\n## Table of contents\n- [What is Apache Spark](#apache_spark)\n- [Get data](#data_set)\n- [Load data](#load_data)\n- [Access data](#access_data)\n- [Add header](#add_header)\n- [Parse data](#parse_data)\n- [Explore data](#explore_data)\n- [Use Spark SQL](#use_spark_sql)\n- [Save results in Object Storage](#save)\n- [Summary](#summary)", 
            "cell_type": "markdown", 
            "metadata": {}
        }, 
        {
            "source": "<a id=\"apache_spark\"></a>\n## What is Apache Spark\n\n[Spark](http://spark.apache.org/) is a fast open-source engine for large-scale data processing. It is built for speed and ease of use. Through the advanced DAG execution engine that supports cyclic data flow and in-memory computing, programs can run up to 100 times faster than Hadoop MapReduce in memory, or 10 times faster on disc.\n\nSpark consists of multiple components:\n\n* Spark Core is the underlying computation engine with the fundamental programming abstraction called resilient distributed datasets (RDDs)\n* Spark SQL provides a new data abstraction called DataFrames for structured data processing with SQL and domain-specific language\n* MLlib is a scalable machine learning framework for delivering fast distributed algorithms for mining big data\n* Streaming leverages Spark's fast scheduling capability to perform real-time analysis on streams of new data\n* GraphX is the graph processing framework for the analysis of graph structured data\n\nIn this sample, you will focus on Spark Core and Spark SQL by using the Python API.", 
            "cell_type": "markdown", 
            "metadata": {}
        }, 
        {
            "source": "<a id=\"data_set\"></a>\n## Get data\n\nIn the sample, you will use Apache Spark to analyze weather data collected from weather stations in 2017. This data is provided by the NOAA National Climatic Data Center (NCDC).\n\nTo get at the raw data from the NOAA National Climatic Data Center (NCDC):\n\n1. Visit the NCDC site at http://www.ncdc.noaa.gov/data-access/quick-links.\n2. Click **Global Historical Climatology Network-Daily (GHCN-D)**.\n3. Click **GHCN-Daily FTP Access**.\n4. Click the `by_year` folder.\n5. Scroll to the bottom and click **2017.cs.gz** to download the data set.\n6. After the file was downloaded, extract it.\n7. Click **ghcn-daily-by_year-format.rtf** to download additional infromation, e.g. header, for the data set.", 
            "cell_type": "markdown", 
            "metadata": {}
        }, 
        {
            "source": "The data in the base file has the following format:\n\n<table border=\"1\" style=\"width:90%\">\n  <tr>\n    <th>STATION</th><th>DATE</th><th>METRIC</th><th>VALUE</th><th>C5</th><th>C6</th><th>C7</th><th>C8</th>\n  </tr>\n  <tr>\n    <td>US1NCBC0113</td><td>20170101</td><td>PRCP</td><td>5</td><td></td><td></td><td>N</td><td></td>\n  </tr>\n  <tr>\n    <td>CA1MB000296</td><td>20170101</td><td>PRCP</td><td>0</td><td></td><td></td><td>N</td><td></td>\n  </tr>\n  <tr>\n    <td>...</td><td>...</td><td>...</td><td>...</td><td>...</td><td>...</td><td>...</td><td></td>\n  </tr>\n  <tr>\n    <td>US1MTMH0019</td><td>20170101</td><td>SNOW</td><td>28</td><td></td><td></td><td>N</td><td></td>\n  </tr>\n  <tr>\n    <td>...</td><td>...</td><td>...</td><td>...</td><td>...</td><td>...</td><td>...</td><td></td>\n  </tr>\n  <tr>\n    <td>USW00024229</td><td>20170101</td><td>TMAX</td><td>44</td><td></td><td></td><td>W</td><td>2400</td>\n  </tr>\n</table>\n<p>\n\nEach row contains a weather station identifier, a date, a metric which is collected (like precipitation, daily maximum and minimum temperatures, temperature at the time of observation, snowfall, snow depth, and so on) and some additional values.\n\n**Note**: The header is not included in the CSV file and is documented in **ghcn-daily-by_year-format.rtf**. It was added to the table above to provide clarity on what information each column contains.", 
            "cell_type": "markdown", 
            "metadata": {}
        }, 
        {
            "source": "<a id=\"load_data\"></a>\n## Load data\nTo load the CSV file to your notebook: \n\n1. Click the **Data** icon on the notebook action bar. \n2. Click on **browse** to add 2017.csv file.\n\nThe data file is now listed on the **Files** tab of the **Data** panel and is stored in Object Storage.\n\n**Note**: Because the CSV file is relatively large, it might take a few minutes to load the data file. ", 
            "cell_type": "markdown", 
            "metadata": {}
        }, 
        {
            "source": "<a id=\"access_data\"></a>\n## Access data\nBefore you can access data in the data file in the Object Storage, you must setup the Spark configuration with your Object Storage credentials. \n\nTo do this, click on the cell below and select the **Insert to code > Insert Credentials** function from the Files tab below the data file you want to work with.", 
            "cell_type": "markdown", 
            "metadata": {}
        }, 
        {
            "source": "<div class=\"alert alert-block alert-info\">The credentials object that is created for you is given a generic name. Rename it to `YourCredentials` before you run the cell.</div>", 
            "cell_type": "markdown", 
            "metadata": {}
        }, 
        {
            "execution_count": 7, 
            "cell_type": "code", 
            "metadata": {}, 
            "outputs": [], 
            "source": "# The code was removed by DSX for sharing."
        }, 
        {
            "source": "Now let's load the data into a `Spark RDD` we will call `weather` by using the `SparkContext`.", 
            "cell_type": "markdown", 
            "metadata": {}
        }, 
        {
            "execution_count": 9, 
            "cell_type": "code", 
            "metadata": {}, 
            "outputs": [
                {
                    "execution_count": 9, 
                    "metadata": {}, 
                    "data": {
                        "text/plain": "[Row(US1MNHN0184=u'US1MNHN0184', 20170101=u'20170101', PRCP=u'SNOW', 0=u'0', _c4=None, _c5=None, N=u'N', _c7=None),\n Row(US1MNHN0184=u'US1MNHN0184', 20170101=u'20170101', PRCP=u'SNWD', 0=u'274', _c4=None, _c5=None, N=u'N', _c7=None),\n Row(US1MNHN0184=u'US1MNWR0029', 20170101=u'20170101', PRCP=u'PRCP', 0=u'0', _c4=None, _c5=None, N=u'N', _c7=None),\n Row(US1MNHN0184=u'CA1MB000296', 20170101=u'20170101', PRCP=u'PRCP', 0=u'0', _c4=None, _c5=None, N=u'N', _c7=None),\n Row(US1MNHN0184=u'ASN00015643', 20170101=u'20170101', PRCP=u'TMAX', 0=u'274', _c4=None, _c5=None, N=u'a', _c7=None)]"
                    }, 
                    "output_type": "execute_result"
                }
            ], 
            "source": "# The code was removed by DSX for sharing."
        }, 
        {
            "execution_count": 11, 
            "cell_type": "code", 
            "metadata": {}, 
            "outputs": [], 
            "source": "weather = df_data_1"
        }, 
        {
            "execution_count": 12, 
            "cell_type": "code", 
            "metadata": {}, 
            "outputs": [
                {
                    "execution_count": 12, 
                    "metadata": {}, 
                    "data": {
                        "text/plain": "[Row(US1MNHN0184=u'US1MNHN0184', 20170101=u'20170101', PRCP=u'SNOW', 0=u'0', _c4=None, _c5=None, N=u'N', _c7=None),\n Row(US1MNHN0184=u'US1MNHN0184', 20170101=u'20170101', PRCP=u'SNWD', 0=u'274', _c4=None, _c5=None, N=u'N', _c7=None),\n Row(US1MNHN0184=u'US1MNWR0029', 20170101=u'20170101', PRCP=u'PRCP', 0=u'0', _c4=None, _c5=None, N=u'N', _c7=None),\n Row(US1MNHN0184=u'CA1MB000296', 20170101=u'20170101', PRCP=u'PRCP', 0=u'0', _c4=None, _c5=None, N=u'N', _c7=None),\n Row(US1MNHN0184=u'ASN00015643', 20170101=u'20170101', PRCP=u'TMAX', 0=u'274', _c4=None, _c5=None, N=u'a', _c7=None)]"
                    }, 
                    "output_type": "execute_result"
                }
            ], 
            "source": "#import ibmos2spark\n\n#bmos = ibmos2spark.bluemix(sc, YourCredentials, 'learnspark')\n\n#weather = sc.textFile(bmos.url(YourCredentials['container'], '2017.csv'))\nweather.take(5)"
        }, 
        {
            "source": "You can now access the data by using the preconfigured `SparkContext` function in your notebook.", 
            "cell_type": "markdown", 
            "metadata": {}
        }, 
        {
            "source": "The RDD you created is a collection of strings corresponding to the individual lines in the raw data file. It is also important to remember that the RDD is defined but not instantiated. By applying an action like `count` to the RDD, you effectively instantiate the RDD.", 
            "cell_type": "markdown", 
            "metadata": {}
        }, 
        {
            "execution_count": 13, 
            "cell_type": "code", 
            "metadata": {}, 
            "outputs": [
                {
                    "output_type": "stream", 
                    "name": "stdout", 
                    "text": "Total records in the data set: 34061506\n"
                }
            ], 
            "source": "print \"Total records in the data set:\", weather.count()"
        }, 
        {
            "source": "Apply another action to the same RDD that reads the first row of the data.", 
            "cell_type": "markdown", 
            "metadata": {}
        }, 
        {
            "execution_count": 14, 
            "cell_type": "code", 
            "metadata": {}, 
            "outputs": [
                {
                    "output_type": "stream", 
                    "name": "stdout", 
                    "text": "The first row in the data set: Row(US1MNHN0184=u'US1MNHN0184', 20170101=u'20170101', PRCP=u'SNOW', 0=u'0', _c4=None, _c5=None, N=u'N', _c7=None)\n"
                }
            ], 
            "source": "print \"The first row in the data set:\", weather.first()"
        }, 
        {
            "source": "<a id=\"add_header\"></a>\n## Add header", 
            "cell_type": "markdown", 
            "metadata": {}
        }, 
        {
            "source": "Since the header is not included in the CSV file, it has to be added programmatically.  ", 
            "cell_type": "markdown", 
            "metadata": {}
        }, 
        {
            "execution_count": 19, 
            "cell_type": "code", 
            "metadata": {}, 
            "outputs": [
                {
                    "execution_count": 19, 
                    "metadata": {}, 
                    "data": {
                        "text/plain": "['STATION,DATE,METRIC,VALUE,C5,C6,C7,C8',\n Row(US1MNHN0184=u'US1MNHN0184', 20170101=u'20170101', PRCP=u'SNOW', 0=u'0', _c4=None, _c5=None, N=u'N', _c7=None)]"
                    }, 
                    "output_type": "execute_result"
                }
            ], 
            "source": "header = sc.parallelize(['STATION,DATE,METRIC,VALUE,C5,C6,C7,C8'])\nunion = header.union(weather.rdd)\nweather = union\nweather.take(2)"
        }, 
        {
            "source": "<a id=\"parse_data\"></a>\n## Parse data", 
            "cell_type": "markdown", 
            "metadata": {}
        }, 
        {
            "source": "To really begin working with the data, you need to parse it into columns. You can do this by mapping each line in the RDD to a function that splits the line by commas.\n\nThe lambda notation in Python is used to create anonymous functions, in other words, functions which are not bound to a name. This concept is used in the previous code cell to pass a function as a parameter to the `map` function. The anonymous function receives each line from the `weather` RDD  and splits it at comma boundaries. As a result, the new `weatherParse` RDD is defined as a list of lists. Each list in `weatherParse` corresponds to a line in `weather`, and the strings in each list are the individual elements of the row.", 
            "cell_type": "markdown", 
            "metadata": {
                "collapsed": true
            }
        }, 
        {
            "execution_count": 20, 
            "cell_type": "code", 
            "metadata": {}, 
            "outputs": [], 
            "source": "weatherParse = weather.map(lambda line : line.split(\",\"))"
        }, 
        {
            "execution_count": 38, 
            "cell_type": "code", 
            "metadata": {}, 
            "outputs": [
                {
                    "output_type": "stream", 
                    "name": "stdout", 
                    "text": "Pixiedust database opened successfully\nTable VERSION_TRACKER created successfully\n"
                }, 
                {
                    "output_type": "display_data", 
                    "data": {
                        "text/html": "\n        <div style=\"margin:10px\">\n            <a href=\"https://github.com/ibm-watson-data-lab/pixiedust\" target=\"_new\">\n                <img src=\"https://github.com/ibm-watson-data-lab/pixiedust/raw/master/docs/_static/pd_icon32.png\" style=\"float:left;margin-right:10px\"/>\n            </a>\n            <span>Pixiedust version 1.1.7</span>\n        </div>\n        ", 
                        "text/plain": "<IPython.core.display.HTML object>"
                    }, 
                    "metadata": {}
                }, 
                {
                    "output_type": "stream", 
                    "name": "stdout", 
                    "text": "Pixiedust runtime updated. Please restart kernel\nTable SPARK_PACKAGES created successfully\nTable USER_PREFERENCES created successfully\nTable service_connections created successfully\n"
                }, 
                {
                    "output_type": "display_data", 
                    "data": {
                        "text/html": "<div>Warning: You are not running the latest version of PixieDust. Current is 1.1.7, Latest is 1.1.7.1</div>", 
                        "text/plain": "<IPython.core.display.HTML object>"
                    }, 
                    "metadata": {}
                }, 
                {
                    "output_type": "display_data", 
                    "data": {
                        "text/html": "\n                <div>Please copy and run the following command in a new cell to upgrade: <span style=\"background-color:#ececec;font-family:monospace;padding:0 5px\">!pip install --user --upgrade pixiedust</span></div>\n            ", 
                        "text/plain": "<IPython.core.display.HTML object>"
                    }, 
                    "metadata": {}
                }, 
                {
                    "output_type": "display_data", 
                    "data": {
                        "text/html": "<div>Please restart kernel after upgrading.</div>", 
                        "text/plain": "<IPython.core.display.HTML object>"
                    }, 
                    "metadata": {}
                }, 
                {
                    "output_type": "stream", 
                    "name": "stdout", 
                    "text": "Spark Job Progress Monitoring cannot be started on DSX\n"
                }
            ], 
            "source": "import pixiedust\npixiedust.enableJobMonitor()\n\n"
        }, 
        {
            "execution_count": 39, 
            "cell_type": "code", 
            "metadata": {}, 
            "outputs": [], 
            "source": "def find_bad_lines(line):\n    return line\n    #try:\n    #    return line.split(\",\")\n    #    \n    #except:\n    #    print('Exception with :',line)\n    #    return [' ']\nweatherParse_test = weather.map(find_bad_lines)"
        }, 
        {
            "execution_count": null, 
            "cell_type": "code", 
            "metadata": {}, 
            "outputs": [], 
            "source": "test =weatherParse_test.collect()"
        }, 
        {
            "execution_count": null, 
            "cell_type": "code", 
            "metadata": {}, 
            "outputs": [], 
            "source": ""
        }, 
        {
            "source": "Run the next cell for a quick look at the first list:", 
            "cell_type": "markdown", 
            "metadata": {}
        }, 
        {
            "execution_count": 21, 
            "cell_type": "code", 
            "metadata": {
                "scrolled": true
            }, 
            "outputs": [
                {
                    "execution_count": 21, 
                    "metadata": {}, 
                    "data": {
                        "text/plain": "['STATION', 'DATE', 'METRIC', 'VALUE', 'C5', 'C6', 'C7', 'C8']"
                    }, 
                    "output_type": "execute_result"
                }
            ], 
            "source": "weatherParse.first()"
        }, 
        {
            "source": "Now take a look at the individual elements of this first list where the first entry starts at offset zero.", 
            "cell_type": "markdown", 
            "metadata": {}
        }, 
        {
            "execution_count": 22, 
            "cell_type": "code", 
            "metadata": {
                "scrolled": true
            }, 
            "outputs": [
                {
                    "execution_count": 22, 
                    "metadata": {}, 
                    "data": {
                        "text/plain": "'STATION'"
                    }, 
                    "output_type": "execute_result"
                }
            ], 
            "source": "weatherParse.first()[0]"
        }, 
        {
            "source": "You can also pull elements by index.", 
            "cell_type": "markdown", 
            "metadata": {}
        }, 
        {
            "execution_count": 23, 
            "cell_type": "code", 
            "metadata": {}, 
            "outputs": [
                {
                    "execution_count": 23, 
                    "metadata": {}, 
                    "data": {
                        "text/plain": "'METRIC'"
                    }, 
                    "output_type": "execute_result"
                }
            ], 
            "source": "weatherParse.first()[2]"
        }, 
        {
            "source": "<a id=\"explore_data\"></a>\n## Explore data\nTo better consume the precipitation data, it has to be converted or mapped from one raw form into another format.\n", 
            "cell_type": "markdown", 
            "metadata": {}
        }, 
        {
            "source": "### Calculate the average precipitation by weather station\nTo calculate the average precipitation that was recorded at each weather station in the data set, reduce the data set by selecting only those rows with precipitation data values, in other words, those rows where the METRIC column equals `PRCP`.", 
            "cell_type": "markdown", 
            "metadata": {}
        }, 
        {
            "execution_count": 24, 
            "cell_type": "code", 
            "metadata": {}, 
            "outputs": [], 
            "source": "weatherPrecp = weatherParse.filter(lambda x: x[2] == \"PRCP\")"
        }, 
        {
            "source": "The `weatherPrecp` RDD that you created contains a list of pairs (v1, v2), where v1 is a weather station identifier and v2 is one precipitation data point (one day) for that station. Table 1. depicts this structure.", 
            "cell_type": "markdown", 
            "metadata": {}
        }, 
        {
            "source": "#### Table 1.\n\n<table border=1 style=\"width:80%\" align=\"left\">\n  <tr>\n    <th>Key</th><th>Value</th>\n  </tr>\n  <tr>\n    <td>Station 1</td><td>Value 1</td>\n  </tr>\n  <tr>\n    <td>Station 2</td><td>Value 2</td>\n  </tr>\n    <tr>\n    <td>Station 1</td><td>Value 3</td>\n  </tr>\n    <tr>\n    <td>Station 2</td><td>Value 4</td>\n  </tr>\n    <tr>\n    <td>Station 3</td><td>Value 5</td>\n  </tr>\n  <tr>\n    <td>...</td><td>...</td>\n  </tr>\n</table>\n<p>", 
            "cell_type": "markdown", 
            "metadata": {}
        }, 
        {
            "source": "Next, transform (map) this data set into a new one where each row (data pair) is augmented with the value `1`. Table 2. shows this new structure.", 
            "cell_type": "markdown", 
            "metadata": {}
        }, 
        {
            "source": "#### Table 2.\n\n<table border=\"1\" style=\"width:80%\" align=\"left\">\n  <tr>\n    <th>Key</th><th>Value</th>\n  </tr>\n  <tr>\n    <td>Station 1</td><td>(Value 1,1)</td>\n  </tr>\n  <tr>\n    <td>Station 2</td><td>(Value 2,1)</td>\n  </tr>\n    <tr>\n    <td>Station 1</td><td>(Value 3,1)</td>\n  </tr>\n    <tr>\n    <td>Station 2</td><td>(Value 4,1)</td>\n  </tr>\n    <tr>\n    <td>Station 3</td><td>(Value 5,1)</td>\n  </tr>\n  <tr>\n    <td>...</td><td>...</td>\n  </tr>\n</table>\n<p>", 
            "cell_type": "markdown", 
            "metadata": {}
        }, 
        {
            "source": "The reason for this mapping is to reduce the table into the form represented by Table 3.", 
            "cell_type": "markdown", 
            "metadata": {}
        }, 
        {
            "source": "#### Table 3.\n\n<table border=\"1\" style=\"width:80%\" align=\"left\">\n  <tr>\n    <th>Key</th><th>Value</th>\n  </tr>\n  <tr>\n    <td>Station 1</td><td>(Value 1 + Value 3,2)</td>\n  </tr>\n  <tr>\n    <td>Station 2</td><td>(Value 2 + Value 4,2)</td>\n  </tr>\n    <tr>\n    <td>Station 3</td><td>(Value 5,1)</td>\n  </tr>\n  <tr>\n    <td>...</td><td>...</td>\n  </tr>\n</table>\n<p>", 
            "cell_type": "markdown", 
            "metadata": {}
        }, 
        {
            "source": "Using this table, you can compute the average precipitation for each station by dividing the summation of the values by the corresponding count.\n\nRun the next code cell to create `weatherPrecpCountByKey`. The outcome is the equivalent to what you see in Table 2.", 
            "cell_type": "markdown", 
            "metadata": {}
        }, 
        {
            "execution_count": 25, 
            "cell_type": "code", 
            "metadata": {}, 
            "outputs": [], 
            "source": "# x[0] is the station\n# x[3] is the precipitation value\nweatherPrecpCountByKey = weatherPrecp.map(lambda x : (x[0], (int(x[3]), 1)))"
        }, 
        {
            "source": "The same Python lambda function notation is used to pass a function into the mapping function which transforms `weatherPrecp` into the new RDD. \n\nTo confirm that the mapping produced the expected results, run the next cell:", 
            "cell_type": "markdown", 
            "metadata": {}
        }, 
        {
            "execution_count": 26, 
            "cell_type": "code", 
            "metadata": {}, 
            "outputs": [
                {
                    "ename": "Py4JJavaError", 
                    "evalue": "An error occurred while calling z:org.apache.spark.api.python.PythonRDD.runJob.\n: org.apache.spark.SparkException: Job aborted due to stage failure: Task 1 in stage 18.0 failed 10 times, most recent failure: Lost task 1.9 in stage 18.0 (TID 110, yp-spark-dal09-env5-0021, executor b0dbd96f-8b26-4fd1-a838-bbfe53f3c303): org.apache.spark.api.python.PythonException: Traceback (most recent call last):\n  File \"/usr/local/src/spark21master/spark-2.1.2-bin-2.7.3/python/lib/pyspark.zip/pyspark/worker.py\", line 171, in main\n    process()\n  File \"/usr/local/src/spark21master/spark-2.1.2-bin-2.7.3/python/lib/pyspark.zip/pyspark/worker.py\", line 166, in process\n    serializer.dump_stream(func(split_index, iterator), outfile)\n  File \"/usr/local/src/spark21master/spark-2.1.2-bin-2.7.3/python/lib/pyspark.zip/pyspark/serializers.py\", line 268, in dump_stream\n    vs = list(itertools.islice(iterator, batch))\n  File \"/usr/local/src/spark21master/spark/python/pyspark/rdd.py\", line 1338, in takeUpToNumLeft\n    yield next(iterator)\n  File \"<ipython-input-20-c95f760dff03>\", line 1, in <lambda>\n  File \"/usr/local/src/spark21master/spark-2.1.2-bin-2.7.3/python/lib/pyspark.zip/pyspark/sql/types.py\", line 1502, in __getattr__\n    raise AttributeError(item)\nAttributeError: split\n\n\tat org.apache.spark.api.python.PythonRunner$$anon$1.read(PythonRDD.scala:193)\n\tat org.apache.spark.api.python.PythonRunner$$anon$1.<init>(PythonRDD.scala:234)\n\tat org.apache.spark.api.python.PythonRunner.compute(PythonRDD.scala:152)\n\tat org.apache.spark.api.python.PythonRDD.compute(PythonRDD.scala:63)\n\tat org.apache.spark.rdd.RDD.computeOrReadCheckpoint(RDD.scala:326)\n\tat org.apache.spark.rdd.RDD.iterator(RDD.scala:290)\n\tat org.apache.spark.scheduler.ResultTask.runTask(ResultTask.scala:87)\n\tat org.apache.spark.scheduler.Task.run(Task.scala:99)\n\tat org.apache.spark.executor.Executor$TaskRunner.run(Executor.scala:326)\n\tat java.util.concurrent.ThreadPoolExecutor.runWorker(ThreadPoolExecutor.java:1153)\n\tat java.util.concurrent.ThreadPoolExecutor$Worker.run(ThreadPoolExecutor.java:628)\n\tat java.lang.Thread.run(Thread.java:785)\n\nDriver stacktrace:\n\tat org.apache.spark.scheduler.DAGScheduler.org$apache$spark$scheduler$DAGScheduler$$failJobAndIndependentStages(DAGScheduler.scala:1442)\n\tat org.apache.spark.scheduler.DAGScheduler$$anonfun$abortStage$1.apply(DAGScheduler.scala:1430)\n\tat org.apache.spark.scheduler.DAGScheduler$$anonfun$abortStage$1.apply(DAGScheduler.scala:1429)\n\tat scala.collection.mutable.ResizableArray$class.foreach(ResizableArray.scala:59)\n\tat scala.collection.mutable.ArrayBuffer.foreach(ArrayBuffer.scala:48)\n\tat org.apache.spark.scheduler.DAGScheduler.abortStage(DAGScheduler.scala:1429)\n\tat org.apache.spark.scheduler.DAGScheduler$$anonfun$handleTaskSetFailed$1.apply(DAGScheduler.scala:803)\n\tat org.apache.spark.scheduler.DAGScheduler$$anonfun$handleTaskSetFailed$1.apply(DAGScheduler.scala:803)\n\tat scala.Option.foreach(Option.scala:257)\n\tat org.apache.spark.scheduler.DAGScheduler.handleTaskSetFailed(DAGScheduler.scala:803)\n\tat org.apache.spark.scheduler.DAGSchedulerEventProcessLoop.doOnReceive(DAGScheduler.scala:1657)\n\tat org.apache.spark.scheduler.DAGSchedulerEventProcessLoop.onReceive(DAGScheduler.scala:1612)\n\tat org.apache.spark.scheduler.DAGSchedulerEventProcessLoop.onReceive(DAGScheduler.scala:1601)\n\tat org.apache.spark.util.EventLoop$$anon$1.run(EventLoop.scala:48)\n\tat java.lang.Thread.getStackTrace(Thread.java:1117)\n\tat org.apache.spark.scheduler.DAGScheduler.runJob(DAGScheduler.scala:629)\n\tat org.apache.spark.SparkContext.runJob(SparkContext.scala:1941)\n\tat org.apache.spark.SparkContext.runJob(SparkContext.scala:1954)\n\tat org.apache.spark.SparkContext.runJob(SparkContext.scala:1967)\n\tat org.apache.spark.api.python.PythonRDD$.runJob(PythonRDD.scala:441)\n\tat org.apache.spark.api.python.PythonRDD.runJob(PythonRDD.scala)\n\tat sun.reflect.NativeMethodAccessorImpl.invoke0(Native Method)\n\tat sun.reflect.NativeMethodAccessorImpl.invoke(NativeMethodAccessorImpl.java:95)\n\tat sun.reflect.DelegatingMethodAccessorImpl.invoke(DelegatingMethodAccessorImpl.java:55)\n\tat java.lang.reflect.Method.invoke(Method.java:507)\n\tat py4j.reflection.MethodInvoker.invoke(MethodInvoker.java:244)\n\tat py4j.reflection.ReflectionEngine.invoke(ReflectionEngine.java:357)\n\tat py4j.Gateway.invoke(Gateway.java:280)\n\tat py4j.commands.AbstractCommand.invokeMethod(AbstractCommand.java:132)\n\tat py4j.commands.CallCommand.execute(CallCommand.java:79)\n\tat py4j.GatewayConnection.run(GatewayConnection.java:214)\n\tat java.lang.Thread.run(Thread.java:785)\nCaused by: org.apache.spark.api.python.PythonException: Traceback (most recent call last):\n  File \"/usr/local/src/spark21master/spark-2.1.2-bin-2.7.3/python/lib/pyspark.zip/pyspark/worker.py\", line 171, in main\n    process()\n  File \"/usr/local/src/spark21master/spark-2.1.2-bin-2.7.3/python/lib/pyspark.zip/pyspark/worker.py\", line 166, in process\n    serializer.dump_stream(func(split_index, iterator), outfile)\n  File \"/usr/local/src/spark21master/spark-2.1.2-bin-2.7.3/python/lib/pyspark.zip/pyspark/serializers.py\", line 268, in dump_stream\n    vs = list(itertools.islice(iterator, batch))\n  File \"/usr/local/src/spark21master/spark/python/pyspark/rdd.py\", line 1338, in takeUpToNumLeft\n    yield next(iterator)\n  File \"<ipython-input-20-c95f760dff03>\", line 1, in <lambda>\n  File \"/usr/local/src/spark21master/spark-2.1.2-bin-2.7.3/python/lib/pyspark.zip/pyspark/sql/types.py\", line 1502, in __getattr__\n    raise AttributeError(item)\nAttributeError: split\n\n\tat org.apache.spark.api.python.PythonRunner$$anon$1.read(PythonRDD.scala:193)\n\tat org.apache.spark.api.python.PythonRunner$$anon$1.<init>(PythonRDD.scala:234)\n\tat org.apache.spark.api.python.PythonRunner.compute(PythonRDD.scala:152)\n\tat org.apache.spark.api.python.PythonRDD.compute(PythonRDD.scala:63)\n\tat org.apache.spark.rdd.RDD.computeOrReadCheckpoint(RDD.scala:326)\n\tat org.apache.spark.rdd.RDD.iterator(RDD.scala:290)\n\tat org.apache.spark.scheduler.ResultTask.runTask(ResultTask.scala:87)\n\tat org.apache.spark.scheduler.Task.run(Task.scala:99)\n\tat org.apache.spark.executor.Executor$TaskRunner.run(Executor.scala:326)\n\tat java.util.concurrent.ThreadPoolExecutor.runWorker(ThreadPoolExecutor.java:1153)\n\tat java.util.concurrent.ThreadPoolExecutor$Worker.run(ThreadPoolExecutor.java:628)\n\t... 1 more\n", 
                    "traceback": [
                        "\u001b[0;31m\u001b[0m", 
                        "\u001b[0;31mPy4JJavaError\u001b[0mTraceback (most recent call last)", 
                        "\u001b[0;32m<ipython-input-26-2a17924afb66>\u001b[0m in \u001b[0;36m<module>\u001b[0;34m()\u001b[0m\n\u001b[0;32m----> 1\u001b[0;31m \u001b[0mweatherPrecpCountByKey\u001b[0m\u001b[0;34m.\u001b[0m\u001b[0mfirst\u001b[0m\u001b[0;34m(\u001b[0m\u001b[0;34m)\u001b[0m\u001b[0;34m\u001b[0m\u001b[0m\n\u001b[0m", 
                        "\u001b[0;32m/usr/local/src/spark21master/spark/python/pyspark/rdd.py\u001b[0m in \u001b[0;36mfirst\u001b[0;34m(self)\u001b[0m\n\u001b[1;32m   1358\u001b[0m         \u001b[0mValueError\u001b[0m\u001b[0;34m:\u001b[0m \u001b[0mRDD\u001b[0m \u001b[0;32mis\u001b[0m \u001b[0mempty\u001b[0m\u001b[0;34m\u001b[0m\u001b[0m\n\u001b[1;32m   1359\u001b[0m         \"\"\"\n\u001b[0;32m-> 1360\u001b[0;31m         \u001b[0mrs\u001b[0m \u001b[0;34m=\u001b[0m \u001b[0mself\u001b[0m\u001b[0;34m.\u001b[0m\u001b[0mtake\u001b[0m\u001b[0;34m(\u001b[0m\u001b[0;36m1\u001b[0m\u001b[0;34m)\u001b[0m\u001b[0;34m\u001b[0m\u001b[0m\n\u001b[0m\u001b[1;32m   1361\u001b[0m         \u001b[0;32mif\u001b[0m \u001b[0mrs\u001b[0m\u001b[0;34m:\u001b[0m\u001b[0;34m\u001b[0m\u001b[0m\n\u001b[1;32m   1362\u001b[0m             \u001b[0;32mreturn\u001b[0m \u001b[0mrs\u001b[0m\u001b[0;34m[\u001b[0m\u001b[0;36m0\u001b[0m\u001b[0;34m]\u001b[0m\u001b[0;34m\u001b[0m\u001b[0m\n", 
                        "\u001b[0;32m/usr/local/src/spark21master/spark/python/pyspark/rdd.py\u001b[0m in \u001b[0;36mtake\u001b[0;34m(self, num)\u001b[0m\n\u001b[1;32m   1340\u001b[0m \u001b[0;34m\u001b[0m\u001b[0m\n\u001b[1;32m   1341\u001b[0m             \u001b[0mp\u001b[0m \u001b[0;34m=\u001b[0m \u001b[0mrange\u001b[0m\u001b[0;34m(\u001b[0m\u001b[0mpartsScanned\u001b[0m\u001b[0;34m,\u001b[0m \u001b[0mmin\u001b[0m\u001b[0;34m(\u001b[0m\u001b[0mpartsScanned\u001b[0m \u001b[0;34m+\u001b[0m \u001b[0mnumPartsToTry\u001b[0m\u001b[0;34m,\u001b[0m \u001b[0mtotalParts\u001b[0m\u001b[0;34m)\u001b[0m\u001b[0;34m)\u001b[0m\u001b[0;34m\u001b[0m\u001b[0m\n\u001b[0;32m-> 1342\u001b[0;31m             \u001b[0mres\u001b[0m \u001b[0;34m=\u001b[0m \u001b[0mself\u001b[0m\u001b[0;34m.\u001b[0m\u001b[0mcontext\u001b[0m\u001b[0;34m.\u001b[0m\u001b[0mrunJob\u001b[0m\u001b[0;34m(\u001b[0m\u001b[0mself\u001b[0m\u001b[0;34m,\u001b[0m \u001b[0mtakeUpToNumLeft\u001b[0m\u001b[0;34m,\u001b[0m \u001b[0mp\u001b[0m\u001b[0;34m)\u001b[0m\u001b[0;34m\u001b[0m\u001b[0m\n\u001b[0m\u001b[1;32m   1343\u001b[0m \u001b[0;34m\u001b[0m\u001b[0m\n\u001b[1;32m   1344\u001b[0m             \u001b[0mitems\u001b[0m \u001b[0;34m+=\u001b[0m \u001b[0mres\u001b[0m\u001b[0;34m\u001b[0m\u001b[0m\n", 
                        "\u001b[0;32m/usr/local/src/spark21master/spark/python/pyspark/context.py\u001b[0m in \u001b[0;36mrunJob\u001b[0;34m(self, rdd, partitionFunc, partitions, allowLocal)\u001b[0m\n\u001b[1;32m    966\u001b[0m         \u001b[0;31m# SparkContext#runJob.\u001b[0m\u001b[0;34m\u001b[0m\u001b[0;34m\u001b[0m\u001b[0m\n\u001b[1;32m    967\u001b[0m         \u001b[0mmappedRDD\u001b[0m \u001b[0;34m=\u001b[0m \u001b[0mrdd\u001b[0m\u001b[0;34m.\u001b[0m\u001b[0mmapPartitions\u001b[0m\u001b[0;34m(\u001b[0m\u001b[0mpartitionFunc\u001b[0m\u001b[0;34m)\u001b[0m\u001b[0;34m\u001b[0m\u001b[0m\n\u001b[0;32m--> 968\u001b[0;31m         \u001b[0mport\u001b[0m \u001b[0;34m=\u001b[0m \u001b[0mself\u001b[0m\u001b[0;34m.\u001b[0m\u001b[0m_jvm\u001b[0m\u001b[0;34m.\u001b[0m\u001b[0mPythonRDD\u001b[0m\u001b[0;34m.\u001b[0m\u001b[0mrunJob\u001b[0m\u001b[0;34m(\u001b[0m\u001b[0mself\u001b[0m\u001b[0;34m.\u001b[0m\u001b[0m_jsc\u001b[0m\u001b[0;34m.\u001b[0m\u001b[0msc\u001b[0m\u001b[0;34m(\u001b[0m\u001b[0;34m)\u001b[0m\u001b[0;34m,\u001b[0m \u001b[0mmappedRDD\u001b[0m\u001b[0;34m.\u001b[0m\u001b[0m_jrdd\u001b[0m\u001b[0;34m,\u001b[0m \u001b[0mpartitions\u001b[0m\u001b[0;34m)\u001b[0m\u001b[0;34m\u001b[0m\u001b[0m\n\u001b[0m\u001b[1;32m    969\u001b[0m         \u001b[0;32mreturn\u001b[0m \u001b[0mlist\u001b[0m\u001b[0;34m(\u001b[0m\u001b[0m_load_from_socket\u001b[0m\u001b[0;34m(\u001b[0m\u001b[0mport\u001b[0m\u001b[0;34m,\u001b[0m \u001b[0mmappedRDD\u001b[0m\u001b[0;34m.\u001b[0m\u001b[0m_jrdd_deserializer\u001b[0m\u001b[0;34m)\u001b[0m\u001b[0;34m)\u001b[0m\u001b[0;34m\u001b[0m\u001b[0m\n\u001b[1;32m    970\u001b[0m \u001b[0;34m\u001b[0m\u001b[0m\n", 
                        "\u001b[0;32m/usr/local/src/spark21master/spark/python/lib/py4j-0.10.4-src.zip/py4j/java_gateway.py\u001b[0m in \u001b[0;36m__call__\u001b[0;34m(self, *args)\u001b[0m\n\u001b[1;32m   1131\u001b[0m         \u001b[0manswer\u001b[0m \u001b[0;34m=\u001b[0m \u001b[0mself\u001b[0m\u001b[0;34m.\u001b[0m\u001b[0mgateway_client\u001b[0m\u001b[0;34m.\u001b[0m\u001b[0msend_command\u001b[0m\u001b[0;34m(\u001b[0m\u001b[0mcommand\u001b[0m\u001b[0;34m)\u001b[0m\u001b[0;34m\u001b[0m\u001b[0m\n\u001b[1;32m   1132\u001b[0m         return_value = get_return_value(\n\u001b[0;32m-> 1133\u001b[0;31m             answer, self.gateway_client, self.target_id, self.name)\n\u001b[0m\u001b[1;32m   1134\u001b[0m \u001b[0;34m\u001b[0m\u001b[0m\n\u001b[1;32m   1135\u001b[0m         \u001b[0;32mfor\u001b[0m \u001b[0mtemp_arg\u001b[0m \u001b[0;32min\u001b[0m \u001b[0mtemp_args\u001b[0m\u001b[0;34m:\u001b[0m\u001b[0;34m\u001b[0m\u001b[0m\n", 
                        "\u001b[0;32m/usr/local/src/spark21master/spark/python/pyspark/sql/utils.py\u001b[0m in \u001b[0;36mdeco\u001b[0;34m(*a, **kw)\u001b[0m\n\u001b[1;32m     61\u001b[0m     \u001b[0;32mdef\u001b[0m \u001b[0mdeco\u001b[0m\u001b[0;34m(\u001b[0m\u001b[0;34m*\u001b[0m\u001b[0ma\u001b[0m\u001b[0;34m,\u001b[0m \u001b[0;34m**\u001b[0m\u001b[0mkw\u001b[0m\u001b[0;34m)\u001b[0m\u001b[0;34m:\u001b[0m\u001b[0;34m\u001b[0m\u001b[0m\n\u001b[1;32m     62\u001b[0m         \u001b[0;32mtry\u001b[0m\u001b[0;34m:\u001b[0m\u001b[0;34m\u001b[0m\u001b[0m\n\u001b[0;32m---> 63\u001b[0;31m             \u001b[0;32mreturn\u001b[0m \u001b[0mf\u001b[0m\u001b[0;34m(\u001b[0m\u001b[0;34m*\u001b[0m\u001b[0ma\u001b[0m\u001b[0;34m,\u001b[0m \u001b[0;34m**\u001b[0m\u001b[0mkw\u001b[0m\u001b[0;34m)\u001b[0m\u001b[0;34m\u001b[0m\u001b[0m\n\u001b[0m\u001b[1;32m     64\u001b[0m         \u001b[0;32mexcept\u001b[0m \u001b[0mpy4j\u001b[0m\u001b[0;34m.\u001b[0m\u001b[0mprotocol\u001b[0m\u001b[0;34m.\u001b[0m\u001b[0mPy4JJavaError\u001b[0m \u001b[0;32mas\u001b[0m \u001b[0me\u001b[0m\u001b[0;34m:\u001b[0m\u001b[0;34m\u001b[0m\u001b[0m\n\u001b[1;32m     65\u001b[0m             \u001b[0ms\u001b[0m \u001b[0;34m=\u001b[0m \u001b[0me\u001b[0m\u001b[0;34m.\u001b[0m\u001b[0mjava_exception\u001b[0m\u001b[0;34m.\u001b[0m\u001b[0mtoString\u001b[0m\u001b[0;34m(\u001b[0m\u001b[0;34m)\u001b[0m\u001b[0;34m\u001b[0m\u001b[0m\n", 
                        "\u001b[0;32m/usr/local/src/spark21master/spark/python/lib/py4j-0.10.4-src.zip/py4j/protocol.py\u001b[0m in \u001b[0;36mget_return_value\u001b[0;34m(answer, gateway_client, target_id, name)\u001b[0m\n\u001b[1;32m    317\u001b[0m                 raise Py4JJavaError(\n\u001b[1;32m    318\u001b[0m                     \u001b[0;34m\"An error occurred while calling {0}{1}{2}.\\n\"\u001b[0m\u001b[0;34m.\u001b[0m\u001b[0;34m\u001b[0m\u001b[0m\n\u001b[0;32m--> 319\u001b[0;31m                     format(target_id, \".\", name), value)\n\u001b[0m\u001b[1;32m    320\u001b[0m             \u001b[0;32melse\u001b[0m\u001b[0;34m:\u001b[0m\u001b[0;34m\u001b[0m\u001b[0m\n\u001b[1;32m    321\u001b[0m                 raise Py4JError(\n", 
                        "\u001b[0;31mPy4JJavaError\u001b[0m: An error occurred while calling z:org.apache.spark.api.python.PythonRDD.runJob.\n: org.apache.spark.SparkException: Job aborted due to stage failure: Task 1 in stage 18.0 failed 10 times, most recent failure: Lost task 1.9 in stage 18.0 (TID 110, yp-spark-dal09-env5-0021, executor b0dbd96f-8b26-4fd1-a838-bbfe53f3c303): org.apache.spark.api.python.PythonException: Traceback (most recent call last):\n  File \"/usr/local/src/spark21master/spark-2.1.2-bin-2.7.3/python/lib/pyspark.zip/pyspark/worker.py\", line 171, in main\n    process()\n  File \"/usr/local/src/spark21master/spark-2.1.2-bin-2.7.3/python/lib/pyspark.zip/pyspark/worker.py\", line 166, in process\n    serializer.dump_stream(func(split_index, iterator), outfile)\n  File \"/usr/local/src/spark21master/spark-2.1.2-bin-2.7.3/python/lib/pyspark.zip/pyspark/serializers.py\", line 268, in dump_stream\n    vs = list(itertools.islice(iterator, batch))\n  File \"/usr/local/src/spark21master/spark/python/pyspark/rdd.py\", line 1338, in takeUpToNumLeft\n    yield next(iterator)\n  File \"<ipython-input-20-c95f760dff03>\", line 1, in <lambda>\n  File \"/usr/local/src/spark21master/spark-2.1.2-bin-2.7.3/python/lib/pyspark.zip/pyspark/sql/types.py\", line 1502, in __getattr__\n    raise AttributeError(item)\nAttributeError: split\n\n\tat org.apache.spark.api.python.PythonRunner$$anon$1.read(PythonRDD.scala:193)\n\tat org.apache.spark.api.python.PythonRunner$$anon$1.<init>(PythonRDD.scala:234)\n\tat org.apache.spark.api.python.PythonRunner.compute(PythonRDD.scala:152)\n\tat org.apache.spark.api.python.PythonRDD.compute(PythonRDD.scala:63)\n\tat org.apache.spark.rdd.RDD.computeOrReadCheckpoint(RDD.scala:326)\n\tat org.apache.spark.rdd.RDD.iterator(RDD.scala:290)\n\tat org.apache.spark.scheduler.ResultTask.runTask(ResultTask.scala:87)\n\tat org.apache.spark.scheduler.Task.run(Task.scala:99)\n\tat org.apache.spark.executor.Executor$TaskRunner.run(Executor.scala:326)\n\tat java.util.concurrent.ThreadPoolExecutor.runWorker(ThreadPoolExecutor.java:1153)\n\tat java.util.concurrent.ThreadPoolExecutor$Worker.run(ThreadPoolExecutor.java:628)\n\tat java.lang.Thread.run(Thread.java:785)\n\nDriver stacktrace:\n\tat org.apache.spark.scheduler.DAGScheduler.org$apache$spark$scheduler$DAGScheduler$$failJobAndIndependentStages(DAGScheduler.scala:1442)\n\tat org.apache.spark.scheduler.DAGScheduler$$anonfun$abortStage$1.apply(DAGScheduler.scala:1430)\n\tat org.apache.spark.scheduler.DAGScheduler$$anonfun$abortStage$1.apply(DAGScheduler.scala:1429)\n\tat scala.collection.mutable.ResizableArray$class.foreach(ResizableArray.scala:59)\n\tat scala.collection.mutable.ArrayBuffer.foreach(ArrayBuffer.scala:48)\n\tat org.apache.spark.scheduler.DAGScheduler.abortStage(DAGScheduler.scala:1429)\n\tat org.apache.spark.scheduler.DAGScheduler$$anonfun$handleTaskSetFailed$1.apply(DAGScheduler.scala:803)\n\tat org.apache.spark.scheduler.DAGScheduler$$anonfun$handleTaskSetFailed$1.apply(DAGScheduler.scala:803)\n\tat scala.Option.foreach(Option.scala:257)\n\tat org.apache.spark.scheduler.DAGScheduler.handleTaskSetFailed(DAGScheduler.scala:803)\n\tat org.apache.spark.scheduler.DAGSchedulerEventProcessLoop.doOnReceive(DAGScheduler.scala:1657)\n\tat org.apache.spark.scheduler.DAGSchedulerEventProcessLoop.onReceive(DAGScheduler.scala:1612)\n\tat org.apache.spark.scheduler.DAGSchedulerEventProcessLoop.onReceive(DAGScheduler.scala:1601)\n\tat org.apache.spark.util.EventLoop$$anon$1.run(EventLoop.scala:48)\n\tat java.lang.Thread.getStackTrace(Thread.java:1117)\n\tat org.apache.spark.scheduler.DAGScheduler.runJob(DAGScheduler.scala:629)\n\tat org.apache.spark.SparkContext.runJob(SparkContext.scala:1941)\n\tat org.apache.spark.SparkContext.runJob(SparkContext.scala:1954)\n\tat org.apache.spark.SparkContext.runJob(SparkContext.scala:1967)\n\tat org.apache.spark.api.python.PythonRDD$.runJob(PythonRDD.scala:441)\n\tat org.apache.spark.api.python.PythonRDD.runJob(PythonRDD.scala)\n\tat sun.reflect.NativeMethodAccessorImpl.invoke0(Native Method)\n\tat sun.reflect.NativeMethodAccessorImpl.invoke(NativeMethodAccessorImpl.java:95)\n\tat sun.reflect.DelegatingMethodAccessorImpl.invoke(DelegatingMethodAccessorImpl.java:55)\n\tat java.lang.reflect.Method.invoke(Method.java:507)\n\tat py4j.reflection.MethodInvoker.invoke(MethodInvoker.java:244)\n\tat py4j.reflection.ReflectionEngine.invoke(ReflectionEngine.java:357)\n\tat py4j.Gateway.invoke(Gateway.java:280)\n\tat py4j.commands.AbstractCommand.invokeMethod(AbstractCommand.java:132)\n\tat py4j.commands.CallCommand.execute(CallCommand.java:79)\n\tat py4j.GatewayConnection.run(GatewayConnection.java:214)\n\tat java.lang.Thread.run(Thread.java:785)\nCaused by: org.apache.spark.api.python.PythonException: Traceback (most recent call last):\n  File \"/usr/local/src/spark21master/spark-2.1.2-bin-2.7.3/python/lib/pyspark.zip/pyspark/worker.py\", line 171, in main\n    process()\n  File \"/usr/local/src/spark21master/spark-2.1.2-bin-2.7.3/python/lib/pyspark.zip/pyspark/worker.py\", line 166, in process\n    serializer.dump_stream(func(split_index, iterator), outfile)\n  File \"/usr/local/src/spark21master/spark-2.1.2-bin-2.7.3/python/lib/pyspark.zip/pyspark/serializers.py\", line 268, in dump_stream\n    vs = list(itertools.islice(iterator, batch))\n  File \"/usr/local/src/spark21master/spark/python/pyspark/rdd.py\", line 1338, in takeUpToNumLeft\n    yield next(iterator)\n  File \"<ipython-input-20-c95f760dff03>\", line 1, in <lambda>\n  File \"/usr/local/src/spark21master/spark-2.1.2-bin-2.7.3/python/lib/pyspark.zip/pyspark/sql/types.py\", line 1502, in __getattr__\n    raise AttributeError(item)\nAttributeError: split\n\n\tat org.apache.spark.api.python.PythonRunner$$anon$1.read(PythonRDD.scala:193)\n\tat org.apache.spark.api.python.PythonRunner$$anon$1.<init>(PythonRDD.scala:234)\n\tat org.apache.spark.api.python.PythonRunner.compute(PythonRDD.scala:152)\n\tat org.apache.spark.api.python.PythonRDD.compute(PythonRDD.scala:63)\n\tat org.apache.spark.rdd.RDD.computeOrReadCheckpoint(RDD.scala:326)\n\tat org.apache.spark.rdd.RDD.iterator(RDD.scala:290)\n\tat org.apache.spark.scheduler.ResultTask.runTask(ResultTask.scala:87)\n\tat org.apache.spark.scheduler.Task.run(Task.scala:99)\n\tat org.apache.spark.executor.Executor$TaskRunner.run(Executor.scala:326)\n\tat java.util.concurrent.ThreadPoolExecutor.runWorker(ThreadPoolExecutor.java:1153)\n\tat java.util.concurrent.ThreadPoolExecutor$Worker.run(ThreadPoolExecutor.java:628)\n\t... 1 more\n"
                    ], 
                    "output_type": "error"
                }
            ], 
            "source": "weatherPrecpCountByKey.first()"
        }, 
        {
            "source": "### Calculate the total precipitation by weather station\n\nTo calculate the total precipitation by weather station, sum (reduce) the precipitation amounts and total readings for every station. Use the `reduceByKey` function for this purpose.", 
            "cell_type": "markdown", 
            "metadata": {}
        }, 
        {
            "execution_count": 13, 
            "cell_type": "code", 
            "metadata": {}, 
            "outputs": [], 
            "source": "weatherPrecpAddByKey = weatherPrecpCountByKey.reduceByKey(lambda v1,v2 : (v1[0]+v2[0], v1[1]+v2[1]))"
        }, 
        {
            "source": "Using the `first` function, you can inspect the precipitation values and read the totals for the first station ID. Note that this operation might take some time to complete as the whole chain of RDDs that you created are reinstantiated.", 
            "cell_type": "markdown", 
            "metadata": {}
        }, 
        {
            "execution_count": 14, 
            "cell_type": "code", 
            "metadata": {}, 
            "outputs": [
                {
                    "execution_count": 14, 
                    "metadata": {}, 
                    "data": {
                        "text/plain": "(u'US1COLR0036', (4315, 363))"
                    }, 
                    "output_type": "execute_result"
                }
            ], 
            "source": "weatherPrecpAddByKey.first()"
        }, 
        {
            "execution_count": 5, 
            "cell_type": "code", 
            "metadata": {}, 
            "outputs": [
                {
                    "output_type": "stream", 
                    "name": "stdout", 
                    "text": "import sys\r\nimport types\r\nimport pandas as pd\r\nfrom botocore.client import Config\r\nimport ibm_boto3\r\n\r\ndef __iter__(self): return 0\r\n\r\n# @hidden_cell\r\n# The following code accesses a file in your IBM Cloud Object Storage. It includes your credentials.\r\n# You might want to remove those credentials before you share your notebook.\r\nclient_cfd6857a4f194e3c98225364d85bad45 = ibm_boto3.client(service_name='s3',\r\n    ibm_api_key_id='loMFaVs2IMGcHX6VOhtUOTcoefFcd_jL7A2E7Dvn7HfF',\r\n    ibm_auth_endpoint=\"https://iam.ng.bluemix.net/oidc/token\",\r\n    config=Config(signature_version='oauth'),\r\n    endpoint_url='https://s3-api.us-geo.objectstorage.service.networklayer.com')\r\n\r\nbody = client_cfd6857a4f194e3c98225364d85bad45.get_object(Bucket='tests44c734db65ba4a57ba38d34b597e5326',Key='AddressPoints_cleaned_postal.csv')['Body']\r\n# add missing __iter__ method, so pandas accepts body as file-like object\r\nif not hasattr(body, \"__iter__\"): body.__iter__ = types.MethodType( __iter__, body )\r\n\r\ndf_data_1 = pd.read_csv(body)\r\ndf_data_1.head()"
                }
            ], 
            "source": "! cat /gpfs/fs01/user/s021-08766e6db051ab-1741987fe625/notebook/work/myfile.py"
        }, 
        {
            "source": "### Compute the average values per station\n\nNow that you have transformed the data into the format you need it in, you can finally compute the average precipitation values per weather station. You create the `weatherAverages` RDD by mapping the `weatherPrecpAddByKey` RDD through a function that divides the precipitation total by the total number of readings.", 
            "cell_type": "markdown", 
            "metadata": {}
        }, 
        {
            "execution_count": 15, 
            "cell_type": "code", 
            "metadata": {}, 
            "outputs": [], 
            "source": "weatherAverages = weatherPrecpAddByKey.map(lambda k: (k[0], k[1][0] / float(k[1][1] ) ) )"
        }, 
        {
            "execution_count": 16, 
            "cell_type": "code", 
            "metadata": {}, 
            "outputs": [
                {
                    "execution_count": 16, 
                    "metadata": {}, 
                    "data": {
                        "text/plain": "(u'US1COLR0036', 11.887052341597796)"
                    }, 
                    "output_type": "execute_result"
                }
            ], 
            "source": "weatherAverages.first()"
        }, 
        {
            "source": "Now print the first ten stations and their average precipitation values. The station ID is the sort order in the `top` function because it appears first in the tuple (station ID, average precipitation) in the RDD.", 
            "cell_type": "markdown", 
            "metadata": {}
        }, 
        {
            "execution_count": 17, 
            "cell_type": "code", 
            "metadata": {}, 
            "outputs": [
                {
                    "output_type": "stream", 
                    "name": "stdout", 
                    "text": "Station ZI000067983 had average precipitations of 82.493671\nStation ZI000067975 had average precipitations of 49.165049\nStation ZI000067775 had average precipitations of 67.142857\nStation ZA000067743 had average precipitations of 255.428571\nStation ZA000067475 had average precipitations of 119.000000\nStation WZ004455110 had average precipitations of 55.611111\nStation WQW00041606 had average precipitations of 61.218750\nStation WIM00060096 had average precipitations of 10.555556\nStation WFM00091754 had average precipitations of 108.035714\nStation WF000917530 had average precipitations of 100.651099\n"
                }
            ], 
            "source": "for pair in weatherAverages.top(10):\n    print \"Station %s had average precipitations of %f\" % (pair[0],pair[1])"
        }, 
        {
            "source": "If you want to output the ten weather stations with the highest average precipitation, you need to reverse the order of the tuple to (average precipitation, station ID). You can do this with a `map` function that switches the pair order.", 
            "cell_type": "markdown", 
            "metadata": {}
        }, 
        {
            "execution_count": 18, 
            "cell_type": "code", 
            "metadata": {
                "scrolled": true
            }, 
            "outputs": [
                {
                    "output_type": "stream", 
                    "name": "stdout", 
                    "text": "Station US1TXMNG018 had average precipitations of 2809.000000\nStation US1TXFB0025 had average precipitations of 2161.500000\nStation US1MOCY0024 had average precipitations of 2009.000000\nStation US1ILDP0144 had average precipitations of 1808.000000\nStation US1MOJH0005 had average precipitations of 1803.500000\nStation US1TXJJ0003 had average precipitations of 1489.750000\nStation US1NCCL0021 had average precipitations of 1448.000000\nStation US1TNMT0049 had average precipitations of 1361.000000\nStation US1TXWK0011 had average precipitations of 1346.200000\nStation US1FLBW0046 had average precipitations of 1333.666667\n"
                }
            ], 
            "source": "precTop10=[]\nstationsTop10=[]\nfor pair in weatherAverages.map(lambda (x,y) : (y,x)).top(10):\n    precTop10.append(pair[0])\n    stationsTop10.append(pair[1])\n    print \"Station %s had average precipitations of %f\" % (pair[1],pair[0])"
        }, 
        {
            "source": "Plot your results.", 
            "cell_type": "markdown", 
            "metadata": {}
        }, 
        {
            "execution_count": 19, 
            "cell_type": "code", 
            "metadata": {}, 
            "outputs": [
                {
                    "output_type": "display_data", 
                    "data": {
                        "image/png": "[encoded data removed]", 
                        "text/plain": "<matplotlib.figure.Figure at 0x7f44fe3ee750>"
                    }, 
                    "metadata": {}
                }
            ], 
            "source": "%matplotlib inline\nimport numpy as np\nimport matplotlib.pyplot as plt\n\nN = 10\nindex = np.arange(N)  \nbar_width = 0.5\n\nplt.bar(index, precTop10, bar_width,\n                 color='b')\nplt.xlabel('Stations')\nplt.ylabel('Precipitations')\nplt.title('10 stations with the highest average precipitation')\nplt.xticks(index + bar_width, stationsTop10, rotation=90)\nplt.show()"
        }, 
        {
            "source": "<a id=\"use_spark_sql\"></a>\n## Use Spark SQL\n\n`Spark SQL` lets you query structured data, for example, data in a relational table and can be a very powerful tool for performing complex aggregations.\n\nTo create a relational table that you can query using `Spark SQL` and fill it with snowfall data, you'll use the `Row` class from the `pyspark.sql` package. You will use every line in the `weatherSnow` RDD to create a row object. Each of the row's attributes will be used to access the value of each column.", 
            "cell_type": "markdown", 
            "metadata": {}
        }, 
        {
            "source": "To filter the weather data to show only those weather stations that contain the keyword SNOW, you need to reduce the data set to lines with SNOW in the third column. To do this, run the following commands:", 
            "cell_type": "markdown", 
            "metadata": {}
        }, 
        {
            "execution_count": 20, 
            "cell_type": "code", 
            "metadata": {}, 
            "outputs": [
                {
                    "execution_count": 20, 
                    "metadata": {}, 
                    "data": {
                        "text/plain": "4185631"
                    }, 
                    "output_type": "execute_result"
                }
            ], 
            "source": "weatherSnow = weatherParse.filter(lambda x: x[2]==\"SNOW\")\nweatherSnow.count()"
        }, 
        {
            "source": "The next commands convert each line of the `weatherSnow` RDD into a row object, infer and apply a schema to an RDD of row objects, and register the table name `snow2017`.", 
            "cell_type": "markdown", 
            "metadata": {}
        }, 
        {
            "execution_count": 21, 
            "cell_type": "code", 
            "metadata": {}, 
            "outputs": [], 
            "source": "from datetime import datetime\nfrom pyspark.sql import Row\nspark = SparkSession.builder.getOrCreate()\n\n# Convert each line of snowWeather RDD into a Row object\nsnowRows= weatherSnow.map(lambda p: Row(station=p[0], month=datetime.strptime(p[1], '%Y%m%d').month, date=datetime.strptime(p[1], '%Y%m%d').day,metric=p[2], value=int(p[3])))\n# Apply Row schema\nsnowSchema = spark.createDataFrame(snowRows)\n# Register 'snow2017' table with 5 columns: station, month, date, metric, and value\nsnowSchema.registerTempTable(\"snow2017\")"
        }, 
        {
            "source": "### Compare the number of snow days between two stations\n\nIn this section, you'll calculate the number of snow days for each month of the year at the `US10chey021` \nand `USW00094985` weather stations. With that information, you'll plot a bar chart to compare the number of snow days for each month at the two stations.", 
            "cell_type": "markdown", 
            "metadata": {}
        }, 
        {
            "source": "First, find out on how many days of every month it snowed at the `US10chey021` weather station:", 
            "cell_type": "markdown", 
            "metadata": {}
        }, 
        {
            "execution_count": 22, 
            "cell_type": "code", 
            "metadata": {}, 
            "outputs": [], 
            "source": "snow_US10chey021 = spark.sql(\"SELECT month, COUNT(*) AS snowdays FROM snow2017 WHERE station='US10chey021' GROUP BY month ORDER BY month\").collect()"
        }, 
        {
            "execution_count": 23, 
            "cell_type": "code", 
            "metadata": {}, 
            "outputs": [
                {
                    "output_type": "stream", 
                    "name": "stdout", 
                    "text": "[28, 27, 21, 19, 10, 0, 0, 0, 0, 2, 1, 1]\n"
                }
            ], 
            "source": "US10chey021_snowdays_y=[0] * 12\nfor row in snow_US10chey021:\n    US10chey021_snowdays_y[row.month - 1]=row.snowdays\n    \nprint US10chey021_snowdays_y"
        }, 
        {
            "source": "Next, find out how many days of every month it snowed at the `USW00094985` weather station and plot the results:", 
            "cell_type": "markdown", 
            "metadata": {}
        }, 
        {
            "execution_count": 24, 
            "cell_type": "code", 
            "metadata": {}, 
            "outputs": [], 
            "source": "snow_USW00094985 = spark.sql(\"SELECT  month, COUNT(*) AS snowdays FROM snow2017 WHERE station='USW00094985' GROUP BY month ORDER BY month\").collect()"
        }, 
        {
            "execution_count": 25, 
            "cell_type": "code", 
            "metadata": {}, 
            "outputs": [
                {
                    "output_type": "stream", 
                    "name": "stdout", 
                    "text": "[25, 24, 22, 29, 31, 30, 31, 31, 30, 31, 30, 26]\n"
                }
            ], 
            "source": "USW00094985_snowdays_y=[0] * 12\nfor row in snow_USW00094985:\n    USW00094985_snowdays_y[row.month -1]=row.snowdays\n    \nprint USW00094985_snowdays_y"
        }, 
        {
            "execution_count": 26, 
            "cell_type": "code", 
            "metadata": {}, 
            "outputs": [
                {
                    "output_type": "display_data", 
                    "data": {
                        "image/png": "[encoded data removed]", 
                        "text/plain": "<matplotlib.figure.Figure at 0x7f44bfad6f90>"
                    }, 
                    "metadata": {}
                }
            ], 
            "source": "%matplotlib inline\nimport matplotlib\nimport numpy as np\nimport matplotlib.pyplot as plt\n\nN=12\nind=np.arange(N)\nwidth = 0.35\npUS10chey021 = plt.bar(ind, US10chey021_snowdays_y, width, color='g', label='US10chey021')\npUSW00094985 = plt.bar(ind+width, USW00094985_snowdays_y, width, color='y', label='USW00094985')\n\nplt.ylabel('SNOW DAYS')\nplt.xlabel('MONTH')\nplt.title('Snow Days in 2017 at Stations US10chey021 vs. USW00094985')\nplt.xticks(ind+width, ('Jan', 'Feb', 'Mar', 'Apr', 'May', 'Jun', 'Jul', 'Aug', 'Sep', 'Oct', 'Nov', 'Dec'))\nplt.legend()\n\nplt.show()"
        }, 
        {
            "source": "### Determine the number of snow days at each US weather station\nTo determine how many snow days there were at each of the US weather stations in 2017, run the following command to query the `snow2017` table, using the `COUNT(*)` function to get the total snow days. The table is sorted by station name and limited to only 100 stations.", 
            "cell_type": "markdown", 
            "metadata": {}
        }, 
        {
            "execution_count": 27, 
            "cell_type": "code", 
            "metadata": {}, 
            "outputs": [], 
            "source": "snowStations = spark.sql(\"SELECT  station, COUNT(*) AS snowdays FROM snow2017 WHERE station LIKE 'US%' GROUP BY station ORDER BY station LIMIT 100\")"
        }, 
        {
            "source": "Now print the first 5 rows of the `snowStations` table, including the station name and number of snow days at that station:", 
            "cell_type": "markdown", 
            "metadata": {}
        }, 
        {
            "execution_count": 28, 
            "cell_type": "code", 
            "metadata": {}, 
            "outputs": [
                {
                    "execution_count": 28, 
                    "metadata": {}, 
                    "data": {
                        "text/plain": "[Row(station=u'US10adam001', snowdays=1),\n Row(station=u'US10adam002', snowdays=26),\n Row(station=u'US10adam004', snowdays=101),\n Row(station=u'US10adam008', snowdays=1),\n Row(station=u'US10adam010', snowdays=1)]"
                    }, 
                    "output_type": "execute_result"
                }
            ], 
            "source": "snowStations.head(5)"
        }, 
        {
            "source": "### Save the query results into a new table", 
            "cell_type": "markdown", 
            "metadata": {}
        }, 
        {
            "source": "In this step, you will save the query result of the above `SELECT` query in a new table called `snowdays_2017`. The new table has two columns: STATION (name of station) and SNOWDAYS (number of snow days at the station). ", 
            "cell_type": "markdown", 
            "metadata": {}
        }, 
        {
            "execution_count": 29, 
            "cell_type": "code", 
            "metadata": {}, 
            "outputs": [], 
            "source": "snowStations.registerTempTable('snowdays_2017')"
        }, 
        {
            "source": "Output the five stations with the highest number of snow days in 2017:", 
            "cell_type": "markdown", 
            "metadata": {}
        }, 
        {
            "execution_count": 30, 
            "cell_type": "code", 
            "metadata": {}, 
            "outputs": [
                {
                    "output_type": "stream", 
                    "name": "stdout", 
                    "text": "Row(station=u'US10adam056', snowdays=323)\nRow(station=u'US10dawe026', snowdays=176)\nRow(station=u'US10cust015', snowdays=114)\nRow(station=u'US10chey019', snowdays=112)\nRow(station=u'US10daws001', snowdays=111)\n"
                }
            ], 
            "source": "snowStations_new = spark.sql(\"SELECT station, snowdays FROM snowdays_2017 ORDER BY snowdays DESC LIMIT 5\").collect()\nfor row in snowStations_new:\n    print row"
        }, 
        {
            "source": "### Identify the stations with the same number of snow days in 2017\n\nIn this section, you'll identify the stations that had the same number of snow days in 2017. First, you need to query the table `snowdays_2017` again. \n\nThen, by using the `map` function, you'll transform each row into a key-value pair where the key is the number of snow days and the value is the station name.\n\nNext, you'll apply the `reduceByKey` function to each pair, and the value of those pairs that have the same key are concatenated. As a result, the RDD contains the number of snow days, and the list of all stations that have the same number of snow days.\n\nThe `for` loop prints the number of snow days, and the list of stations that have that number of snow days in 2017.", 
            "cell_type": "markdown", 
            "metadata": {}
        }, 
        {
            "execution_count": 31, 
            "cell_type": "code", 
            "metadata": {}, 
            "outputs": [
                {
                    "output_type": "stream", 
                    "name": "stdout", 
                    "text": "Snow days:1 Stations:US10adam001,US10adam008,US10adam010,US10blai004,US10buff019,US10burt002,US10cher008,US10cher018,US10cher024,US10cher026,US10chey005,US10chey007,US10chey010,US10chey049,US10chey053,US10chey060,US10clay009,US10colf001,US10cust003,US10cust040,US10cust041,US10dawe017\nSnow days:2 Stations:US10butl020,US10chas034,US10chey028,US10cust042\nSnow days:3 Stations:US10adam035,US10buff007\nSnow days:4 Stations:US10bann009,US10butl005,US10ceda009,US10cumi008,US10cust035\nSnow days:5 Stations:US10chas012,US10chey033,US10cumi003\nSnow days:6 Stations:US10chas016\nSnow days:7 Stations:US10clay041,US10cust005\nSnow days:8 Stations:US10boon010,US10clay008,US10colf002\nSnow days:9 Stations:US10adam036,US10cher016,US10cust032,US10dako003\nSnow days:10 Stations:US10buff004,US10chas011,US10clay029\nSnow days:11 Stations:US10butl011\nSnow days:12 Stations:US10buff039,US10cass005\nSnow days:14 Stations:US10butl008,US10ceda006,US10clay004\nSnow days:15 Stations:US10cust045\nSnow days:19 Stations:US10box_024,US10dako002\nSnow days:23 Stations:US10buff002\nSnow days:26 Stations:US10adam002\nSnow days:28 Stations:US10chey002\nSnow days:29 Stations:US10cumi012,US10cust046\nSnow days:30 Stations:US10chas003\nSnow days:32 Stations:US10chas001\nSnow days:33 Stations:US10adam019\nSnow days:34 Stations:US10clay039\nSnow days:40 Stations:US10chas036\nSnow days:44 Stations:US10adam022\nSnow days:176 Stations:US10dawe026\nSnow days:49 Stations:US10box_014\nSnow days:50 Stations:US10buff006\nSnow days:52 Stations:US10ceda002\nSnow days:53 Stations:US10ceda005\nSnow days:62 Stations:US10cass001\nSnow days:323 Stations:US10adam056\nSnow days:72 Stations:US10box_013\nSnow days:73 Stations:US10box_001\nSnow days:82 Stations:US10cust020\nSnow days:83 Stations:US10cust021\nSnow days:84 Stations:US10chey016\nSnow days:86 Stations:US10chey037\nSnow days:88 Stations:US10dawe015\nSnow days:90 Stations:US10chas002,US10chas028\nSnow days:92 Stations:US10dawe030\nSnow days:93 Stations:US10cust039\nSnow days:94 Stations:US10adam032,US10cust014\nSnow days:95 Stations:US10adam051\nSnow days:96 Stations:US10boon005\nSnow days:101 Stations:US10adam004\nSnow days:102 Stations:US10buff008\nSnow days:106 Stations:US10buff036\nSnow days:108 Stations:US10cust022\nSnow days:109 Stations:US10chey021,US10daws002\nSnow days:111 Stations:US10daws001\nSnow days:112 Stations:US10chey019\nSnow days:114 Stations:US10cust015\n"
                }
            ], 
            "source": "snowdays_100 = spark.sql(\"SELECT station, snowdays FROM snowdays_2017\")\nsnowday_stations=snowdays_100.rdd.map(lambda x:  (x.snowdays,x.station)).reduceByKey(lambda x, y: x + ',' + y)\nfor snowday in snowday_stations.collect():\n    print 'Snow days:' + str(snowday[0]) + ' Stations:' + str(snowday[1])"
        }, 
        {
            "source": "<a id=\"save\"></a>\n## Save results in Object Storage\n\nIn this section, you'll save the `snowStations` DataFrame, which is the query result of the `snow2017` table for 100 US weather stations in Object Storage. Each row contains the name of the weather station and the number of snow days at that station.\n\nThe data will be saved in [Apache Parquet](https://parquet.apache.org/documentation/latest/) file format, which saves data as columns.\n\nEach project you create has a container in your object storage. The name of the container is the same as the project name, minus any blank spaces. You can get the name of the container a couple of different ways: (1) from the **Settings** page of the project, and (2) using `YourCredentials['container']` variable that is generated from the **Insert Credentials** function.", 
            "cell_type": "markdown", 
            "metadata": {}
        }, 
        {
            "execution_count": 32, 
            "cell_type": "code", 
            "metadata": {}, 
            "outputs": [], 
            "source": "# Save as parquet file \n\n# If you are running this cell multiple times, you will need to overwrite the data in the parquet file:\n#     snowStations.write.mode('overwrite').parquet(bmos.url('CONTAINER', 'snowStations.parquet'))\n\nsnowStations.write.parquet(bmos.url(YourCredentials['container'], 'snowStations.parquet'))"
        }, 
        {
            "source": "After the DataFrame has been saved to Object Storage, you will see a new data source called `snowStations.parquet` in the `Data` pane. \n\nChange the string `CONTAINER` in the following code cell as well and run the cell to read the parquet file and register it as a table again. Once the parquet file is read, you can use the domain-specific language to access the data. When you register the resulting DataFrame as TempTable, you can run SQL queries on the data as well.", 
            "cell_type": "markdown", 
            "metadata": {}
        }, 
        {
            "execution_count": 33, 
            "cell_type": "code", 
            "metadata": {}, 
            "outputs": [], 
            "source": "parquetFile = spark.read.parquet(bmos.url(YourCredentials['container'], 'snowStations.parquet'))\nparquetFile.registerTempTable(\"snow_from_parquet\")"
        }, 
        {
            "source": "<a id=\"summary\"></a>\n## Summary\n\nIn this sample, you learned how to use Apache Spark, how to use PySpark, the Python API for Spark and the matplotlib plotting library. You also learned how to load data from Object Storage as an RDD, how to define Spark data schemas, and how to save intermediate results in parquet format.", 
            "cell_type": "markdown", 
            "metadata": {}
        }, 
        {
            "source": "<a id=\"resources\"></a>\n### Resources\n- [Apache Spark 2.1.0 Programming Guide](https://spark.apache.org/docs/2.1.0/programming-guide.html)\n- [Apache Spark 2.1.0 SQL and DataFrames](https://spark.apache.org/docs/2.1.0/sql-programming-guide.html)\n- [PySpark 2.1.0 - Python API for Spark](https://spark.apache.org/docs/2.1.0/api/python)", 
            "cell_type": "markdown", 
            "metadata": {
                "collapsed": true
            }
        }, 
        {
            "source": "### Author\nSven Hafeneger is a member of the Data Science Experience development team at IBM in Germany. He holds a M.Sc. in Bioinformatics and is passionate about data analysis, machine learning and the Python ecosystem for data science. ", 
            "cell_type": "markdown", 
            "metadata": {}
        }, 
        {
            "source": "<hr>\nCopyright \u00a9 IBM Corp. 2016, 2018. This notebook and its source code are released under the terms of the MIT License.", 
            "cell_type": "markdown", 
            "metadata": {}
        }
    ], 
    "metadata": {
        "kernelspec": {
            "display_name": "Python 2 with Spark 2.1", 
            "name": "python2-spark21", 
            "language": "python"
        }, 
        "language_info": {
            "mimetype": "text/x-python", 
            "nbconvert_exporter": "python", 
            "version": "2.7.11", 
            "name": "python", 
            "file_extension": ".py", 
            "pygments_lexer": "ipython2", 
            "codemirror_mode": {
                "version": 2, 
                "name": "ipython"
            }
        }, 
        "name": "cds_ax_spark.ipynb"
    }, 
    "nbformat": 4
}