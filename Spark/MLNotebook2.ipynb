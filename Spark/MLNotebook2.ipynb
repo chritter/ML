{
    "nbformat_minor": 1, 
    "cells": [
        {
            "source": "## Focus on using MLIB ", 
            "cell_type": "markdown", 
            "metadata": {}
        }, 
        {
            "execution_count": 15, 
            "cell_type": "code", 
            "metadata": {}, 
            "outputs": [
                {
                    "output_type": "stream", 
                    "name": "stdout", 
                    "text": "s021-08766e6db051ab-1741987fe625 2\n"
                }
            ], 
            "source": "print(str(sc.sparkUser()),sc.defaultParallelism)"
        }, 
        {
            "execution_count": null, 
            "cell_type": "code", 
            "metadata": {}, 
            "outputs": [], 
            "source": ""
        }, 
        {
            "execution_count": 1, 
            "cell_type": "code", 
            "metadata": {}, 
            "outputs": [], 
            "source": "from numpy import array\nfrom pyspark.mllib.linalg import Vectors"
        }, 
        {
            "execution_count": 2, 
            "cell_type": "code", 
            "metadata": {}, 
            "outputs": [], 
            "source": "denseVec1 = array([1.0, 2.0, 3.0]) # NumPy arrays can be passed directly to MLlib \ndenseVec2 = Vectors.dense([1.0, 2.0, 3.0]) # .. or you can use the Vectors class\n# Create the sparse vector <1.0, 0.0, 2.0, 0.0>; the methods for this take only # the size of the vector (4) and the positions and values of nonzero entries. # These can be passed as a dictionary or as two lists of indices and values. \nsparseVec1 = Vectors.sparse(4, {0: 1.0, 2: 2.0})\nsparseVec2 = Vectors.sparse(4, [0, 2], [1.0, 2.0])"
        }, 
        {
            "source": "## Example NLP", 
            "cell_type": "markdown", 
            "metadata": {}
        }, 
        {
            "execution_count": 7, 
            "cell_type": "code", 
            "metadata": {}, 
            "outputs": [
                {
                    "execution_count": 7, 
                    "metadata": {}, 
                    "data": {
                        "text/plain": "SparseVector(10000, {745: 2.0, 2014: 1.0})"
                    }, 
                    "output_type": "execute_result"
                }
            ], 
            "source": "from pyspark.mllib.feature import HashingTF\nsentence = \"hello hello world\"\nwords = sentence.split() # Split sentence into a list of terms >>> \ntf = HashingTF(10000) # Create vectors of size S = 10,000\ntf.transform(words)"
        }, 
        {
            "execution_count": 13, 
            "cell_type": "code", 
            "metadata": {}, 
            "outputs": [], 
            "source": "%%bash\necho 'Text messaging, or texting, is the act of composing and sending electronic messages, typically consisting of alphabetic and numeric characters, between two or more users of mobile phones, tablets, desktops/laptops, or other devices. Text messages may be sent over a cellular network, or may also be sent via an Internet connection. The term originally referred to messages sent using the Short Message Service (SMS). It has grown beyond alphanumeric text to include multimedia messages (known as MMS) containing digital images, videos, and sound content, as well as ideograms known as emoji (happy faces, sad faces, and other icons). As of 2017, text messages are used by youth and adults for personal, family and social purposes and in business. Governmental and non-governmental organizations use text messaging for communication between colleagues. As with emailing, in the 2010s, the sending of short informal messages has become an accepted part of many cultures.[1] This makes texting a quick and easy way to communicate with friends and colleagues, including in contexts where a call would be impolite or inappropriate (e.g., calling very late at night or when one knows the other person is busy with family or work activities). Like e-mail and voice mail, and unlike calls (in which the caller hopes to speak directly with the recipient), texting does not require the caller and recipient to both be free at the same moment; this permits communication even between busy individuals. Text messages can also be used to interact with automated systems, for example, to order products or services from e-commerce websites, or to participate in online contests. Advertisers and service providers use direct text marketing to send messages to mobile users about promotions, payment due dates, and other notifications instead of using postal mail, email, or voicemail.' >> data.txt"
        }, 
        {
            "execution_count": 15, 
            "cell_type": "code", 
            "metadata": {}, 
            "outputs": [
                {
                    "output_type": "stream", 
                    "name": "stdout", 
                    "text": "Text messaging, or texting, is the act of composing and sending electronic messages, typically consisting of alphabetic and numeric characters, between two or more users of mobile phones, tablets, desktops/laptops, or other devices. Text messages may be sent over a cellular network, or may also be sent via an Internet connection. The term originally referred to messages sent using the Short Message Service (SMS). It has grown beyond alphanumeric text to include multimedia messages (known as MMS) containing digital images, videos, and sound content, as well as ideograms known as emoji (happy faces, sad faces, and other icons). As of 2017, text messages are used by youth and adults for personal, family and social purposes and in business. Governmental and non-governmental organizations use text messaging for communication between colleagues. As with emailing, in the 2010s, the sending of short informal messages has become an accepted part of many cultures.[1] This makes texting a quick and easy way to communicate with friends and colleagues, including in contexts where a call would be impolite or inappropriate (e.g., calling very late at night or when one knows the other person is busy with family or work activities). Like e-mail and voice mail, and unlike calls (in which the caller hopes to speak directly with the recipient), texting does not require the caller and recipient to both be free at the same moment; this permits communication even between busy individuals. Text messages can also be used to interact with automated systems, for example, to order products or services from e-commerce websites, or to participate in online contests. Advertisers and service providers use direct text marketing to send messages to mobile users about promotions, payment due dates, and other notifications instead of using postal mail, email, or voicemail.\r\n"
                }
            ], 
            "source": "!cat data.txt"
        }, 
        {
            "execution_count": 16, 
            "cell_type": "code", 
            "metadata": {}, 
            "outputs": [], 
            "source": "rdd = sc.wholeTextFiles(\"data.txt\").map(lambda name, text: text.split())\n\ntfVectors = tf.transform(rdd) # Transforms an entire RDD"
        }, 
        {
            "execution_count": 17, 
            "cell_type": "code", 
            "metadata": {}, 
            "outputs": [
                {
                    "ename": "Py4JJavaError", 
                    "evalue": "An error occurred while calling z:org.apache.spark.api.python.PythonRDD.collectAndServe.\n: org.apache.spark.SparkException: Job aborted due to stage failure: Task 0 in stage 0.0 failed 10 times, most recent failure: Lost task 0.9 in stage 0.0 (TID 9, yp-spark-dal09-env5-0020): org.apache.spark.api.python.PythonException: Traceback (most recent call last):\n  File \"/usr/local/src/spark20master/spark-2.0.2-bin-2.7.3/python/lib/pyspark.zip/pyspark/worker.py\", line 172, in main\n    process()\n  File \"/usr/local/src/spark20master/spark-2.0.2-bin-2.7.3/python/lib/pyspark.zip/pyspark/worker.py\", line 167, in process\n    serializer.dump_stream(func(split_index, iterator), outfile)\n  File \"/usr/local/src/spark20master/spark-2.0.2-bin-2.7.3/python/lib/pyspark.zip/pyspark/serializers.py\", line 263, in dump_stream\n    vs = list(itertools.islice(iterator, batch))\nTypeError: <lambda>() missing 1 required positional argument: 'text'\n\n\tat org.apache.spark.api.python.PythonRunner$$anon$1.read(PythonRDD.scala:193)\n\tat org.apache.spark.api.python.PythonRunner$$anon$1.<init>(PythonRDD.scala:234)\n\tat org.apache.spark.api.python.PythonRunner.compute(PythonRDD.scala:152)\n\tat org.apache.spark.api.python.PythonRDD.compute(PythonRDD.scala:63)\n\tat org.apache.spark.rdd.RDD.computeOrReadCheckpoint(RDD.scala:322)\n\tat org.apache.spark.rdd.RDD.iterator(RDD.scala:286)\n\tat org.apache.spark.scheduler.ResultTask.runTask(ResultTask.scala:70)\n\tat org.apache.spark.scheduler.Task.run(Task.scala:86)\n\tat org.apache.spark.executor.Executor$TaskRunner.run(Executor.scala:274)\n\tat java.util.concurrent.ThreadPoolExecutor.runWorker(ThreadPoolExecutor.java:1153)\n\tat java.util.concurrent.ThreadPoolExecutor$Worker.run(ThreadPoolExecutor.java:628)\n\tat java.lang.Thread.run(Thread.java:785)\n\nDriver stacktrace:\n\tat org.apache.spark.scheduler.DAGScheduler.org$apache$spark$scheduler$DAGScheduler$$failJobAndIndependentStages(DAGScheduler.scala:1461)\n\tat org.apache.spark.scheduler.DAGScheduler$$anonfun$abortStage$1.apply(DAGScheduler.scala:1449)\n\tat org.apache.spark.scheduler.DAGScheduler$$anonfun$abortStage$1.apply(DAGScheduler.scala:1448)\n\tat scala.collection.mutable.ResizableArray$class.foreach(ResizableArray.scala:59)\n\tat scala.collection.mutable.ArrayBuffer.foreach(ArrayBuffer.scala:48)\n\tat org.apache.spark.scheduler.DAGScheduler.abortStage(DAGScheduler.scala:1448)\n\tat org.apache.spark.scheduler.DAGScheduler$$anonfun$handleTaskSetFailed$1.apply(DAGScheduler.scala:812)\n\tat org.apache.spark.scheduler.DAGScheduler$$anonfun$handleTaskSetFailed$1.apply(DAGScheduler.scala:812)\n\tat scala.Option.foreach(Option.scala:257)\n\tat org.apache.spark.scheduler.DAGScheduler.handleTaskSetFailed(DAGScheduler.scala:812)\n\tat org.apache.spark.scheduler.DAGSchedulerEventProcessLoop.doOnReceive(DAGScheduler.scala:1674)\n\tat org.apache.spark.scheduler.DAGSchedulerEventProcessLoop.onReceive(DAGScheduler.scala:1629)\n\tat org.apache.spark.scheduler.DAGSchedulerEventProcessLoop.onReceive(DAGScheduler.scala:1618)\n\tat org.apache.spark.util.EventLoop$$anon$1.run(EventLoop.scala:48)\n\tat java.lang.Thread.getStackTrace(Thread.java:1117)\n\tat org.apache.spark.scheduler.DAGScheduler.runJob(DAGScheduler.scala:633)\n\tat org.apache.spark.SparkContext.runJob(SparkContext.scala:1887)\n\tat org.apache.spark.SparkContext.runJob(SparkContext.scala:1900)\n\tat org.apache.spark.SparkContext.runJob(SparkContext.scala:1913)\n\tat org.apache.spark.SparkContext.runJob(SparkContext.scala:1927)\n\tat org.apache.spark.rdd.RDD$$anonfun$collect$1.apply(RDD.scala:932)\n\tat org.apache.spark.rdd.RDDOperationScope$.withScope(RDDOperationScope.scala:151)\n\tat org.apache.spark.rdd.RDDOperationScope$.withScope(RDDOperationScope.scala:112)\n\tat org.apache.spark.rdd.RDD.withScope(RDD.scala:378)\n\tat org.apache.spark.rdd.RDD.collect(RDD.scala:931)\n\tat org.apache.spark.api.python.PythonRDD$.collectAndServe(PythonRDD.scala:453)\n\tat org.apache.spark.api.python.PythonRDD.collectAndServe(PythonRDD.scala)\n\tat sun.reflect.NativeMethodAccessorImpl.invoke0(Native Method)\n\tat sun.reflect.NativeMethodAccessorImpl.invoke(NativeMethodAccessorImpl.java:95)\n\tat sun.reflect.DelegatingMethodAccessorImpl.invoke(DelegatingMethodAccessorImpl.java:55)\n\tat java.lang.reflect.Method.invoke(Method.java:507)\n\tat py4j.reflection.MethodInvoker.invoke(MethodInvoker.java:237)\n\tat py4j.reflection.ReflectionEngine.invoke(ReflectionEngine.java:357)\n\tat py4j.Gateway.invoke(Gateway.java:280)\n\tat py4j.commands.AbstractCommand.invokeMethod(AbstractCommand.java:132)\n\tat py4j.commands.CallCommand.execute(CallCommand.java:79)\n\tat py4j.GatewayConnection.run(GatewayConnection.java:214)\n\tat java.lang.Thread.run(Thread.java:785)\nCaused by: org.apache.spark.api.python.PythonException: Traceback (most recent call last):\n  File \"/usr/local/src/spark20master/spark-2.0.2-bin-2.7.3/python/lib/pyspark.zip/pyspark/worker.py\", line 172, in main\n    process()\n  File \"/usr/local/src/spark20master/spark-2.0.2-bin-2.7.3/python/lib/pyspark.zip/pyspark/worker.py\", line 167, in process\n    serializer.dump_stream(func(split_index, iterator), outfile)\n  File \"/usr/local/src/spark20master/spark-2.0.2-bin-2.7.3/python/lib/pyspark.zip/pyspark/serializers.py\", line 263, in dump_stream\n    vs = list(itertools.islice(iterator, batch))\nTypeError: <lambda>() missing 1 required positional argument: 'text'\n\n\tat org.apache.spark.api.python.PythonRunner$$anon$1.read(PythonRDD.scala:193)\n\tat org.apache.spark.api.python.PythonRunner$$anon$1.<init>(PythonRDD.scala:234)\n\tat org.apache.spark.api.python.PythonRunner.compute(PythonRDD.scala:152)\n\tat org.apache.spark.api.python.PythonRDD.compute(PythonRDD.scala:63)\n\tat org.apache.spark.rdd.RDD.computeOrReadCheckpoint(RDD.scala:322)\n\tat org.apache.spark.rdd.RDD.iterator(RDD.scala:286)\n\tat org.apache.spark.scheduler.ResultTask.runTask(ResultTask.scala:70)\n\tat org.apache.spark.scheduler.Task.run(Task.scala:86)\n\tat org.apache.spark.executor.Executor$TaskRunner.run(Executor.scala:274)\n\tat java.util.concurrent.ThreadPoolExecutor.runWorker(ThreadPoolExecutor.java:1153)\n\tat java.util.concurrent.ThreadPoolExecutor$Worker.run(ThreadPoolExecutor.java:628)\n\t... 1 more\n", 
                    "traceback": [
                        "\u001b[1;31m\u001b[0m", 
                        "\u001b[1;31mPy4JJavaError\u001b[0mTraceback (most recent call last)", 
                        "\u001b[1;32m<ipython-input-17-484925947ec3>\u001b[0m in \u001b[0;36m<module>\u001b[1;34m()\u001b[0m\n\u001b[1;32m----> 1\u001b[1;33m \u001b[0mtfVectors\u001b[0m\u001b[1;33m.\u001b[0m\u001b[0mcollect\u001b[0m\u001b[1;33m(\u001b[0m\u001b[1;33m)\u001b[0m\u001b[1;33m\u001b[0m\u001b[0m\n\u001b[0m", 
                        "\u001b[1;32m/usr/local/src/spark20master/spark/python/pyspark/rdd.py\u001b[0m in \u001b[0;36mcollect\u001b[1;34m(self)\u001b[0m\n\u001b[0;32m    774\u001b[0m         \"\"\"\n\u001b[0;32m    775\u001b[0m         \u001b[1;32mwith\u001b[0m \u001b[0mSCCallSiteSync\u001b[0m\u001b[1;33m(\u001b[0m\u001b[0mself\u001b[0m\u001b[1;33m.\u001b[0m\u001b[0mcontext\u001b[0m\u001b[1;33m)\u001b[0m \u001b[1;32mas\u001b[0m \u001b[0mcss\u001b[0m\u001b[1;33m:\u001b[0m\u001b[1;33m\u001b[0m\u001b[0m\n\u001b[1;32m--> 776\u001b[1;33m             \u001b[0mport\u001b[0m \u001b[1;33m=\u001b[0m \u001b[0mself\u001b[0m\u001b[1;33m.\u001b[0m\u001b[0mctx\u001b[0m\u001b[1;33m.\u001b[0m\u001b[0m_jvm\u001b[0m\u001b[1;33m.\u001b[0m\u001b[0mPythonRDD\u001b[0m\u001b[1;33m.\u001b[0m\u001b[0mcollectAndServe\u001b[0m\u001b[1;33m(\u001b[0m\u001b[0mself\u001b[0m\u001b[1;33m.\u001b[0m\u001b[0m_jrdd\u001b[0m\u001b[1;33m.\u001b[0m\u001b[0mrdd\u001b[0m\u001b[1;33m(\u001b[0m\u001b[1;33m)\u001b[0m\u001b[1;33m)\u001b[0m\u001b[1;33m\u001b[0m\u001b[0m\n\u001b[0m\u001b[0;32m    777\u001b[0m         \u001b[1;32mreturn\u001b[0m \u001b[0mlist\u001b[0m\u001b[1;33m(\u001b[0m\u001b[0m_load_from_socket\u001b[0m\u001b[1;33m(\u001b[0m\u001b[0mport\u001b[0m\u001b[1;33m,\u001b[0m \u001b[0mself\u001b[0m\u001b[1;33m.\u001b[0m\u001b[0m_jrdd_deserializer\u001b[0m\u001b[1;33m)\u001b[0m\u001b[1;33m)\u001b[0m\u001b[1;33m\u001b[0m\u001b[0m\n\u001b[0;32m    778\u001b[0m \u001b[1;33m\u001b[0m\u001b[0m\n", 
                        "\u001b[1;32m/usr/local/src/spark20master/spark/python/lib/py4j-0.10.3-src.zip/py4j/java_gateway.py\u001b[0m in \u001b[0;36m__call__\u001b[1;34m(self, *args)\u001b[0m\n\u001b[0;32m   1131\u001b[0m         \u001b[0manswer\u001b[0m \u001b[1;33m=\u001b[0m \u001b[0mself\u001b[0m\u001b[1;33m.\u001b[0m\u001b[0mgateway_client\u001b[0m\u001b[1;33m.\u001b[0m\u001b[0msend_command\u001b[0m\u001b[1;33m(\u001b[0m\u001b[0mcommand\u001b[0m\u001b[1;33m)\u001b[0m\u001b[1;33m\u001b[0m\u001b[0m\n\u001b[0;32m   1132\u001b[0m         return_value = get_return_value(\n\u001b[1;32m-> 1133\u001b[1;33m             answer, self.gateway_client, self.target_id, self.name)\n\u001b[0m\u001b[0;32m   1134\u001b[0m \u001b[1;33m\u001b[0m\u001b[0m\n\u001b[0;32m   1135\u001b[0m         \u001b[1;32mfor\u001b[0m \u001b[0mtemp_arg\u001b[0m \u001b[1;32min\u001b[0m \u001b[0mtemp_args\u001b[0m\u001b[1;33m:\u001b[0m\u001b[1;33m\u001b[0m\u001b[0m\n", 
                        "\u001b[1;32m/usr/local/src/spark20master/spark/python/pyspark/sql/utils.py\u001b[0m in \u001b[0;36mdeco\u001b[1;34m(*a, **kw)\u001b[0m\n\u001b[0;32m     61\u001b[0m     \u001b[1;32mdef\u001b[0m \u001b[0mdeco\u001b[0m\u001b[1;33m(\u001b[0m\u001b[1;33m*\u001b[0m\u001b[0ma\u001b[0m\u001b[1;33m,\u001b[0m \u001b[1;33m**\u001b[0m\u001b[0mkw\u001b[0m\u001b[1;33m)\u001b[0m\u001b[1;33m:\u001b[0m\u001b[1;33m\u001b[0m\u001b[0m\n\u001b[0;32m     62\u001b[0m         \u001b[1;32mtry\u001b[0m\u001b[1;33m:\u001b[0m\u001b[1;33m\u001b[0m\u001b[0m\n\u001b[1;32m---> 63\u001b[1;33m             \u001b[1;32mreturn\u001b[0m \u001b[0mf\u001b[0m\u001b[1;33m(\u001b[0m\u001b[1;33m*\u001b[0m\u001b[0ma\u001b[0m\u001b[1;33m,\u001b[0m \u001b[1;33m**\u001b[0m\u001b[0mkw\u001b[0m\u001b[1;33m)\u001b[0m\u001b[1;33m\u001b[0m\u001b[0m\n\u001b[0m\u001b[0;32m     64\u001b[0m         \u001b[1;32mexcept\u001b[0m \u001b[0mpy4j\u001b[0m\u001b[1;33m.\u001b[0m\u001b[0mprotocol\u001b[0m\u001b[1;33m.\u001b[0m\u001b[0mPy4JJavaError\u001b[0m \u001b[1;32mas\u001b[0m \u001b[0me\u001b[0m\u001b[1;33m:\u001b[0m\u001b[1;33m\u001b[0m\u001b[0m\n\u001b[0;32m     65\u001b[0m             \u001b[0ms\u001b[0m \u001b[1;33m=\u001b[0m \u001b[0me\u001b[0m\u001b[1;33m.\u001b[0m\u001b[0mjava_exception\u001b[0m\u001b[1;33m.\u001b[0m\u001b[0mtoString\u001b[0m\u001b[1;33m(\u001b[0m\u001b[1;33m)\u001b[0m\u001b[1;33m\u001b[0m\u001b[0m\n", 
                        "\u001b[1;32m/usr/local/src/spark20master/spark/python/lib/py4j-0.10.3-src.zip/py4j/protocol.py\u001b[0m in \u001b[0;36mget_return_value\u001b[1;34m(answer, gateway_client, target_id, name)\u001b[0m\n\u001b[0;32m    317\u001b[0m                 raise Py4JJavaError(\n\u001b[0;32m    318\u001b[0m                     \u001b[1;34m\"An error occurred while calling {0}{1}{2}.\\n\"\u001b[0m\u001b[1;33m.\u001b[0m\u001b[1;33m\u001b[0m\u001b[0m\n\u001b[1;32m--> 319\u001b[1;33m                     format(target_id, \".\", name), value)\n\u001b[0m\u001b[0;32m    320\u001b[0m             \u001b[1;32melse\u001b[0m\u001b[1;33m:\u001b[0m\u001b[1;33m\u001b[0m\u001b[0m\n\u001b[0;32m    321\u001b[0m                 raise Py4JError(\n", 
                        "\u001b[1;31mPy4JJavaError\u001b[0m: An error occurred while calling z:org.apache.spark.api.python.PythonRDD.collectAndServe.\n: org.apache.spark.SparkException: Job aborted due to stage failure: Task 0 in stage 0.0 failed 10 times, most recent failure: Lost task 0.9 in stage 0.0 (TID 9, yp-spark-dal09-env5-0020): org.apache.spark.api.python.PythonException: Traceback (most recent call last):\n  File \"/usr/local/src/spark20master/spark-2.0.2-bin-2.7.3/python/lib/pyspark.zip/pyspark/worker.py\", line 172, in main\n    process()\n  File \"/usr/local/src/spark20master/spark-2.0.2-bin-2.7.3/python/lib/pyspark.zip/pyspark/worker.py\", line 167, in process\n    serializer.dump_stream(func(split_index, iterator), outfile)\n  File \"/usr/local/src/spark20master/spark-2.0.2-bin-2.7.3/python/lib/pyspark.zip/pyspark/serializers.py\", line 263, in dump_stream\n    vs = list(itertools.islice(iterator, batch))\nTypeError: <lambda>() missing 1 required positional argument: 'text'\n\n\tat org.apache.spark.api.python.PythonRunner$$anon$1.read(PythonRDD.scala:193)\n\tat org.apache.spark.api.python.PythonRunner$$anon$1.<init>(PythonRDD.scala:234)\n\tat org.apache.spark.api.python.PythonRunner.compute(PythonRDD.scala:152)\n\tat org.apache.spark.api.python.PythonRDD.compute(PythonRDD.scala:63)\n\tat org.apache.spark.rdd.RDD.computeOrReadCheckpoint(RDD.scala:322)\n\tat org.apache.spark.rdd.RDD.iterator(RDD.scala:286)\n\tat org.apache.spark.scheduler.ResultTask.runTask(ResultTask.scala:70)\n\tat org.apache.spark.scheduler.Task.run(Task.scala:86)\n\tat org.apache.spark.executor.Executor$TaskRunner.run(Executor.scala:274)\n\tat java.util.concurrent.ThreadPoolExecutor.runWorker(ThreadPoolExecutor.java:1153)\n\tat java.util.concurrent.ThreadPoolExecutor$Worker.run(ThreadPoolExecutor.java:628)\n\tat java.lang.Thread.run(Thread.java:785)\n\nDriver stacktrace:\n\tat org.apache.spark.scheduler.DAGScheduler.org$apache$spark$scheduler$DAGScheduler$$failJobAndIndependentStages(DAGScheduler.scala:1461)\n\tat org.apache.spark.scheduler.DAGScheduler$$anonfun$abortStage$1.apply(DAGScheduler.scala:1449)\n\tat org.apache.spark.scheduler.DAGScheduler$$anonfun$abortStage$1.apply(DAGScheduler.scala:1448)\n\tat scala.collection.mutable.ResizableArray$class.foreach(ResizableArray.scala:59)\n\tat scala.collection.mutable.ArrayBuffer.foreach(ArrayBuffer.scala:48)\n\tat org.apache.spark.scheduler.DAGScheduler.abortStage(DAGScheduler.scala:1448)\n\tat org.apache.spark.scheduler.DAGScheduler$$anonfun$handleTaskSetFailed$1.apply(DAGScheduler.scala:812)\n\tat org.apache.spark.scheduler.DAGScheduler$$anonfun$handleTaskSetFailed$1.apply(DAGScheduler.scala:812)\n\tat scala.Option.foreach(Option.scala:257)\n\tat org.apache.spark.scheduler.DAGScheduler.handleTaskSetFailed(DAGScheduler.scala:812)\n\tat org.apache.spark.scheduler.DAGSchedulerEventProcessLoop.doOnReceive(DAGScheduler.scala:1674)\n\tat org.apache.spark.scheduler.DAGSchedulerEventProcessLoop.onReceive(DAGScheduler.scala:1629)\n\tat org.apache.spark.scheduler.DAGSchedulerEventProcessLoop.onReceive(DAGScheduler.scala:1618)\n\tat org.apache.spark.util.EventLoop$$anon$1.run(EventLoop.scala:48)\n\tat java.lang.Thread.getStackTrace(Thread.java:1117)\n\tat org.apache.spark.scheduler.DAGScheduler.runJob(DAGScheduler.scala:633)\n\tat org.apache.spark.SparkContext.runJob(SparkContext.scala:1887)\n\tat org.apache.spark.SparkContext.runJob(SparkContext.scala:1900)\n\tat org.apache.spark.SparkContext.runJob(SparkContext.scala:1913)\n\tat org.apache.spark.SparkContext.runJob(SparkContext.scala:1927)\n\tat org.apache.spark.rdd.RDD$$anonfun$collect$1.apply(RDD.scala:932)\n\tat org.apache.spark.rdd.RDDOperationScope$.withScope(RDDOperationScope.scala:151)\n\tat org.apache.spark.rdd.RDDOperationScope$.withScope(RDDOperationScope.scala:112)\n\tat org.apache.spark.rdd.RDD.withScope(RDD.scala:378)\n\tat org.apache.spark.rdd.RDD.collect(RDD.scala:931)\n\tat org.apache.spark.api.python.PythonRDD$.collectAndServe(PythonRDD.scala:453)\n\tat org.apache.spark.api.python.PythonRDD.collectAndServe(PythonRDD.scala)\n\tat sun.reflect.NativeMethodAccessorImpl.invoke0(Native Method)\n\tat sun.reflect.NativeMethodAccessorImpl.invoke(NativeMethodAccessorImpl.java:95)\n\tat sun.reflect.DelegatingMethodAccessorImpl.invoke(DelegatingMethodAccessorImpl.java:55)\n\tat java.lang.reflect.Method.invoke(Method.java:507)\n\tat py4j.reflection.MethodInvoker.invoke(MethodInvoker.java:237)\n\tat py4j.reflection.ReflectionEngine.invoke(ReflectionEngine.java:357)\n\tat py4j.Gateway.invoke(Gateway.java:280)\n\tat py4j.commands.AbstractCommand.invokeMethod(AbstractCommand.java:132)\n\tat py4j.commands.CallCommand.execute(CallCommand.java:79)\n\tat py4j.GatewayConnection.run(GatewayConnection.java:214)\n\tat java.lang.Thread.run(Thread.java:785)\nCaused by: org.apache.spark.api.python.PythonException: Traceback (most recent call last):\n  File \"/usr/local/src/spark20master/spark-2.0.2-bin-2.7.3/python/lib/pyspark.zip/pyspark/worker.py\", line 172, in main\n    process()\n  File \"/usr/local/src/spark20master/spark-2.0.2-bin-2.7.3/python/lib/pyspark.zip/pyspark/worker.py\", line 167, in process\n    serializer.dump_stream(func(split_index, iterator), outfile)\n  File \"/usr/local/src/spark20master/spark-2.0.2-bin-2.7.3/python/lib/pyspark.zip/pyspark/serializers.py\", line 263, in dump_stream\n    vs = list(itertools.islice(iterator, batch))\nTypeError: <lambda>() missing 1 required positional argument: 'text'\n\n\tat org.apache.spark.api.python.PythonRunner$$anon$1.read(PythonRDD.scala:193)\n\tat org.apache.spark.api.python.PythonRunner$$anon$1.<init>(PythonRDD.scala:234)\n\tat org.apache.spark.api.python.PythonRunner.compute(PythonRDD.scala:152)\n\tat org.apache.spark.api.python.PythonRDD.compute(PythonRDD.scala:63)\n\tat org.apache.spark.rdd.RDD.computeOrReadCheckpoint(RDD.scala:322)\n\tat org.apache.spark.rdd.RDD.iterator(RDD.scala:286)\n\tat org.apache.spark.scheduler.ResultTask.runTask(ResultTask.scala:70)\n\tat org.apache.spark.scheduler.Task.run(Task.scala:86)\n\tat org.apache.spark.executor.Executor$TaskRunner.run(Executor.scala:274)\n\tat java.util.concurrent.ThreadPoolExecutor.runWorker(ThreadPoolExecutor.java:1153)\n\tat java.util.concurrent.ThreadPoolExecutor$Worker.run(ThreadPoolExecutor.java:628)\n\t... 1 more\n"
                    ], 
                    "output_type": "error"
                }
            ], 
            "source": "tfVectors.collect()"
        }, 
        {
            "execution_count": null, 
            "cell_type": "code", 
            "metadata": {}, 
            "outputs": [], 
            "source": ""
        }, 
        {
            "source": "## General Statistics", 
            "cell_type": "markdown", 
            "metadata": {}
        }, 
        {
            "execution_count": 20, 
            "cell_type": "code", 
            "metadata": {}, 
            "outputs": [], 
            "source": "from pyspark.mllib.stat import Statistics"
        }, 
        {
            "execution_count": 20, 
            "cell_type": "code", 
            "metadata": {}, 
            "outputs": [], 
            "source": "#ense vectors are simply represented as NumPy array objects,\nvectors = [Vectors.dense([-2.0, 5.0, 1.0]), Vectors.dense([2.0, 0.0, 1.0])]"
        }, 
        {
            "execution_count": 21, 
            "cell_type": "code", 
            "metadata": {}, 
            "outputs": [], 
            "source": "dataset = sc.parallelize(vectors)"
        }, 
        {
            "execution_count": 24, 
            "cell_type": "code", 
            "metadata": {}, 
            "outputs": [
                {
                    "execution_count": 24, 
                    "metadata": {}, 
                    "data": {
                        "text/plain": "pyspark.rdd.RDD"
                    }, 
                    "output_type": "execute_result"
                }
            ], 
            "source": "type(dataset)"
        }, 
        {
            "execution_count": 22, 
            "cell_type": "code", 
            "metadata": {}, 
            "outputs": [
                {
                    "execution_count": 22, 
                    "metadata": {}, 
                    "data": {
                        "text/plain": "DenseVector([0.0, 2.5, 1.0])"
                    }, 
                    "output_type": "execute_result"
                }
            ], 
            "source": "dataset.mean()"
        }, 
        {
            "execution_count": 25, 
            "cell_type": "code", 
            "metadata": {}, 
            "outputs": [
                {
                    "execution_count": 25, 
                    "metadata": {}, 
                    "data": {
                        "text/plain": "DenseVector([0.0, 5.0, 2.0])"
                    }, 
                    "output_type": "execute_result"
                }
            ], 
            "source": "dataset.sum()"
        }, 
        {
            "execution_count": 34, 
            "cell_type": "code", 
            "metadata": {}, 
            "outputs": [], 
            "source": "summary = Statistics.colStats(dataset)"
        }, 
        {
            "execution_count": 35, 
            "cell_type": "code", 
            "metadata": {}, 
            "outputs": [
                {
                    "output_type": "stream", 
                    "name": "stdout", 
                    "text": "[ 0.   2.5  1. ]\n[  8.   12.5   0. ]\n[ 2.  1.  2.]\n"
                }
            ], 
            "source": "print(summary.mean())  # a dense vector containing the mean value for each column\nprint(summary.variance())  # column-wise variance\nprint(summary.numNonzeros())  # number of nonzeros in each column"
        }, 
        {
            "source": "Correlation matrix comparing the columns given by elements of each vector", 
            "cell_type": "markdown", 
            "metadata": {}
        }, 
        {
            "execution_count": 9, 
            "cell_type": "code", 
            "metadata": {}, 
            "outputs": [], 
            "source": "rdd = sc.parallelize([Vectors.dense([1, 0, 0, -2]), Vectors.dense([4, 5, 0, 3]),Vectors.dense([6, 7, 0,  8]), Vectors.dense([9, 0, 0, 1])])"
        }, 
        {
            "execution_count": 10, 
            "cell_type": "code", 
            "metadata": {}, 
            "outputs": [
                {
                    "execution_count": 10, 
                    "metadata": {}, 
                    "data": {
                        "text/plain": "array([[ 1.        ,  0.05564149,         nan,  0.40047142],\n       [ 0.05564149,  1.        ,         nan,  0.91359586],\n       [        nan,         nan,  1.        ,         nan],\n       [ 0.40047142,  0.91359586,         nan,  1.        ]])"
                    }, 
                    "output_type": "execute_result"
                }
            ], 
            "source": "#correlation between \nStatistics.corr(rdd)"
        }, 
        {
            "execution_count": 21, 
            "cell_type": "code", 
            "metadata": {}, 
            "outputs": [], 
            "source": "x = sc.parallelize([1.0, 4.0,6.0, 9.0], 2)\ny = sc.parallelize([0.0, 5.0,7.0, 0.0], 2)"
        }, 
        {
            "execution_count": 22, 
            "cell_type": "code", 
            "metadata": {}, 
            "outputs": [
                {
                    "execution_count": 22, 
                    "metadata": {}, 
                    "data": {
                        "text/plain": "0.055641488407465814"
                    }, 
                    "output_type": "execute_result"
                }
            ], 
            "source": "Statistics.corr(x, y)"
        }, 
        {
            "execution_count": 23, 
            "cell_type": "code", 
            "metadata": {}, 
            "outputs": [
                {
                    "execution_count": 23, 
                    "metadata": {}, 
                    "data": {
                        "text/plain": "[0.0, 0.0]"
                    }, 
                    "output_type": "execute_result"
                }
            ], 
            "source": "y.sample(False,0.5).collect()"
        }, 
        {
            "source": "## LogisticRegression (with scikit-learn breast cancer dataset)", 
            "cell_type": "markdown", 
            "metadata": {}
        }, 
        {
            "execution_count": 173, 
            "cell_type": "code", 
            "metadata": {}, 
            "outputs": [], 
            "source": "#use if possible the ml package\nfrom pyspark.ml.linalg import Vectors\nfrom pyspark.ml.classification import LogisticRegression\n#metric is from mllib package..does it work with ml packages??\nfrom pyspark.ml.evaluation import  BinaryClassificationEvaluator #BinaryClassificationMetrics\nfrom pyspark.ml.evaluation import MulticlassClassificationEvaluator\n\n# use mllib evaluations because there are more, including confusion matrix\nfrom pyspark.mllib.evaluation import MulticlassMetrics\n\nimport pandas as pd\nimport seaborn as sns"
        }, 
        {
            "execution_count": 174, 
            "cell_type": "code", 
            "metadata": {}, 
            "outputs": [
                {
                    "execution_count": 174, 
                    "metadata": {}, 
                    "data": {
                        "text/plain": "dict_keys(['data', 'target', 'DESCR', 'feature_names', 'target_names'])"
                    }, 
                    "output_type": "execute_result"
                }
            ], 
            "source": "#try out the breast cancer set\nfrom sklearn.datasets import load_breast_cancer\ncancer = load_breast_cancer()\ncancer.keys()"
        }, 
        {
            "execution_count": 175, 
            "cell_type": "code", 
            "metadata": {}, 
            "outputs": [
                {
                    "execution_count": 175, 
                    "metadata": {}, 
                    "data": {
                        "text/plain": "(569, 30)"
                    }, 
                    "output_type": "execute_result"
                }
            ], 
            "source": "cancer['data'].shape"
        }, 
        {
            "execution_count": 176, 
            "cell_type": "code", 
            "metadata": {}, 
            "outputs": [
                {
                    "execution_count": 176, 
                    "metadata": {}, 
                    "data": {
                        "text/plain": "(569,)"
                    }, 
                    "output_type": "execute_result"
                }
            ], 
            "source": "cancer['target'].shape"
        }, 
        {
            "execution_count": 177, 
            "cell_type": "code", 
            "metadata": {}, 
            "outputs": [], 
            "source": "data = []\nfor k in range(len(cancer['data'])):\n    data.append((int(cancer['target'][k]),Vectors.dense(cancer['data'][k])))"
        }, 
        {
            "execution_count": 178, 
            "cell_type": "code", 
            "metadata": {}, 
            "outputs": [
                {
                    "execution_count": 178, 
                    "metadata": {}, 
                    "data": {
                        "text/plain": "(0,\n DenseVector([17.99, 10.38, 122.8, 1001.0, 0.1184, 0.2776, 0.3001, 0.1471, 0.2419, 0.0787, 1.095, 0.9053, 8.589, 153.4, 0.0064, 0.049, 0.0537, 0.0159, 0.03, 0.0062, 25.38, 17.33, 184.6, 2019.0, 0.1622, 0.6656, 0.7119, 0.2654, 0.4601, 0.1189]))"
                    }, 
                    "output_type": "execute_result"
                }
            ], 
            "source": "data[0]"
        }, 
        {
            "execution_count": 179, 
            "cell_type": "code", 
            "metadata": {}, 
            "outputs": [], 
            "source": "data = spark.createDataFrame(data,[\"label\", \"features\"])"
        }, 
        {
            "execution_count": 14, 
            "cell_type": "code", 
            "metadata": {}, 
            "outputs": [
                {
                    "output_type": "stream", 
                    "name": "stdout", 
                    "text": "LogisticRegression parameters:\nelasticNetParam: the ElasticNet mixing parameter, in range [0, 1]. For alpha = 0, the penalty is an L2 penalty. For alpha = 1, it is an L1 penalty. (default: 0.0)\nfeaturesCol: features column name. (default: features)\nfitIntercept: whether to fit an intercept term. (default: True)\nlabelCol: label column name. (default: label)\nmaxIter: max number of iterations (>= 0). (default: 100, current: 10)\npredictionCol: prediction column name. (default: prediction)\nprobabilityCol: Column name for predicted class conditional probabilities. Note: Not all models output well-calibrated probability estimates! These probabilities should be treated as confidences, not precise probabilities. (default: probability)\nrawPredictionCol: raw prediction (a.k.a. confidence) column name. (default: rawPrediction)\nregParam: regularization parameter (>= 0). (default: 0.0, current: 0.01)\nstandardization: whether to standardize the training features before fitting the model. (default: True)\nthreshold: Threshold in binary classification prediction, in range [0, 1]. If threshold and thresholds are both set, they must match.e.g. if threshold is p, then thresholds must be equal to [1-p, p]. (default: 0.5)\nthresholds: Thresholds in multi-class classification to adjust the probability of predicting each class. Array must have length equal to the number of classes, with values >= 0. The class with largest value p/t is predicted, where p is the original probability of that class and t is the class' threshold. (undefined)\ntol: the convergence tolerance for iterative algorithms (>= 0). (default: 1e-06)\nweightCol: weight column name. If this is not set or empty, we treat all instance weights as 1.0. (undefined)\n\n"
                }
            ], 
            "source": "# Create a LogisticRegression instance. This instance is an Estimator.\nlr = LogisticRegression(maxIter=10, regParam=0.01)\n# Print out the parameters, documentation, and any default values.\nprint(\"LogisticRegression parameters:\\n\" + lr.explainParams() + \"\\n\")"
        }, 
        {
            "execution_count": 33, 
            "cell_type": "code", 
            "metadata": {}, 
            "outputs": [], 
            "source": "#train test split data\ntrain, test = data.randomSplit([0.9, 0.1], seed=12345)"
        }, 
        {
            "execution_count": 38, 
            "cell_type": "code", 
            "metadata": {}, 
            "outputs": [
                {
                    "execution_count": 38, 
                    "metadata": {}, 
                    "data": {
                        "text/plain": "DataFrame[label: bigint, features: vector]"
                    }, 
                    "output_type": "execute_result"
                }
            ], 
            "source": "#caching because data is used multiple times\ntrain.cache()"
        }, 
        {
            "execution_count": 39, 
            "cell_type": "code", 
            "metadata": {}, 
            "outputs": [], 
            "source": "# Learn a LogisticRegression model. This uses the parameters stored in lr.\nmodel1 = lr.fit(train)"
        }, 
        {
            "execution_count": 180, 
            "cell_type": "code", 
            "metadata": {}, 
            "outputs": [
                {
                    "output_type": "stream", 
                    "name": "stdout", 
                    "text": "Model 1 was fit using parameters: \n{}\n"
                }
            ], 
            "source": "#why does this not show parameters?\nprint(\"Model 1 was fit using parameters: \")\nprint(model1.extractParamMap())"
        }, 
        {
            "execution_count": 181, 
            "cell_type": "code", 
            "metadata": {}, 
            "outputs": [
                {
                    "output_type": "stream", 
                    "name": "stdout", 
                    "text": "Coefficients: [0.0654736461524,-0.054201392701,0.00593722052218,-0.000749384159782,7.75550283132,-8.50693742365,-9.3538799212,-24.2903495166,11.9144644231,207.134526599,-2.33496955501,0.282960051861,-0.213433650603,-0.0116041031689,-35.2638779911,16.9605973876,7.53071593101,-9.04350458735,13.6431773176,65.8632592055,-0.0465245915605,-0.0941735524305,-0.0059854685517,-0.000974314263738,-15.2216583436,-2.59806632,-2.62438271253,-12.4785304163,-8.32485953206,-4.06408301676]\nIntercept: 0.8657827971085676\n"
                }
            ], 
            "source": "#coefficients of model\nprint(\"Coefficients: \" + str(model1.coefficients))\nprint(\"Intercept: \" + str(model1.intercept))"
        }, 
        {
            "source": "#### Summaries and metrics", 
            "cell_type": "markdown", 
            "metadata": {}
        }, 
        {
            "execution_count": 182, 
            "cell_type": "code", 
            "metadata": {}, 
            "outputs": [], 
            "source": "#summary with a lot of different results\ntrainingSummary = model1.summary"
        }, 
        {
            "execution_count": 183, 
            "cell_type": "code", 
            "metadata": {}, 
            "outputs": [
                {
                    "output_type": "stream", 
                    "name": "stdout", 
                    "text": "root\n |-- label: long (nullable = true)\n |-- features: vector (nullable = true)\n |-- rawPrediction: vector (nullable = true)\n |-- probability: vector (nullable = true)\n |-- prediction: double (nullable = true)\n\n"
                }
            ], 
            "source": "trainingSummary.predictions.printSchema()"
        }, 
        {
            "execution_count": 184, 
            "cell_type": "code", 
            "metadata": {}, 
            "outputs": [
                {
                    "output_type": "stream", 
                    "name": "stdout", 
                    "text": "+-----+\n|label|\n+-----+\n|    0|\n+-----+\nonly showing top 1 row\n\n"
                }
            ], 
            "source": "trainingSummary.predictions.select('label').show(1)"
        }, 
        {
            "execution_count": 185, 
            "cell_type": "code", 
            "metadata": {}, 
            "outputs": [
                {
                    "output_type": "stream", 
                    "name": "stdout", 
                    "text": "label=0 -> prob=[0.463549811394,0.536450188606], prediction=1.0\n"
                }
            ], 
            "source": "# show for each data point the actual value and the prediction\nfor row in trainingSummary.predictions.rdd.collect():\n    print(\"label=%s -> prob=%s, prediction=%s\"\n          % (row.label, row.probability, row.prediction))\n    break"
        }, 
        {
            "execution_count": 197, 
            "cell_type": "code", 
            "metadata": {}, 
            "outputs": [
                {
                    "execution_count": 197, 
                    "metadata": {}, 
                    "data": {
                        "text/plain": "DataFrame[label: bigint, features: vector, rawPrediction: vector, probability: vector, prediction: double]"
                    }, 
                    "output_type": "execute_result"
                }
            ], 
            "source": "prediction = model1.transform(train)\nprediction"
        }, 
        {
            "execution_count": 198, 
            "cell_type": "code", 
            "metadata": {}, 
            "outputs": [], 
            "source": "# the ml evaluators are not sufficient, use the mllib ones!!\n#evaluator = BinaryClassificationEvaluator( metricName=\"accuracy\") #(rawPredictionCol=\"raw\")\n#evaluator.evaluate(prediction)\n#that is pretty much all you can get, the accuracy\n#evaluator = MulticlassClassificationEvaluator(metricName=\"accuracy\")\n#evaluator.evaluate(prediction)"
        }, 
        {
            "execution_count": 199, 
            "cell_type": "code", 
            "metadata": {}, 
            "outputs": [], 
            "source": "#create dataframe subset, change label type to Double because MulticlassMetrics needs it\nsub_df=prediction.select('prediction','label')\nfrom pyspark.sql.types import *\nsub_df = sub_df.withColumn(\"label\",sub_df.label.cast(DoubleType()))"
        }, 
        {
            "execution_count": 200, 
            "cell_type": "code", 
            "metadata": {}, 
            "outputs": [], 
            "source": "metrics = MulticlassMetrics(sub_df.rdd)"
        }, 
        {
            "execution_count": 201, 
            "cell_type": "code", 
            "metadata": {}, 
            "outputs": [
                {
                    "output_type": "stream", 
                    "name": "stderr", 
                    "text": "/usr/local/src/spark20master/spark/python/pyspark/mllib/evaluation.py:237: UserWarning: Deprecated in 2.0.0. Use accuracy.\n  warnings.warn(\"Deprecated in 2.0.0. Use accuracy.\")\n"
                }, 
                {
                    "output_type": "stream", 
                    "name": "stdout", 
                    "text": "precision for training set 0.9784313725490196\n"
                }
            ], 
            "source": "#get\nprecision = metrics.precision()\nprint('precision for training set',precision)"
        }, 
        {
            "execution_count": 202, 
            "cell_type": "code", 
            "metadata": {}, 
            "outputs": [], 
            "source": "conf_matix = metrics.confusionMatrix()\n%matplotlib nbagg"
        }, 
        {
            "execution_count": 203, 
            "cell_type": "code", 
            "metadata": {}, 
            "outputs": [
                {
                    "output_type": "display_data", 
                    "data": {
                        "application/javascript": "/* Put everything inside the global mpl namespace */\nwindow.mpl = {};\n\nmpl.get_websocket_type = function() {\n    if (typeof(WebSocket) !== 'undefined') {\n        return WebSocket;\n    } else if (typeof(MozWebSocket) !== 'undefined') {\n        return MozWebSocket;\n    } else {\n        alert('Your browser does not have WebSocket support.' +\n              'Please try Chrome, Safari or Firefox \u2265 6. ' +\n              'Firefox 4 and 5 are also supported but you ' +\n              'have to enable WebSockets in about:config.');\n    };\n}\n\nmpl.figure = function(figure_id, websocket, ondownload, parent_element) {\n    this.id = figure_id;\n\n    this.ws = websocket;\n\n    this.supports_binary = (this.ws.binaryType != undefined);\n\n    if (!this.supports_binary) {\n        var warnings = document.getElementById(\"mpl-warnings\");\n        if (warnings) {\n            warnings.style.display = 'block';\n            warnings.textContent = (\n                \"This browser does not support binary websocket messages. \" +\n                    \"Performance may be slow.\");\n        }\n    }\n\n    this.imageObj = new Image();\n\n    this.context = undefined;\n    this.message = undefined;\n    this.canvas = undefined;\n    this.rubberband_canvas = undefined;\n    this.rubberband_context = undefined;\n    this.format_dropdown = undefined;\n\n    this.image_mode = 'full';\n\n    this.root = $('<div/>');\n    this._root_extra_style(this.root)\n    this.root.attr('style', 'display: inline-block');\n\n    $(parent_element).append(this.root);\n\n    this._init_header(this);\n    this._init_canvas(this);\n    this._init_toolbar(this);\n\n    var fig = this;\n\n    this.waiting = false;\n\n    this.ws.onopen =  function () {\n            fig.send_message(\"supports_binary\", {value: fig.supports_binary});\n            fig.send_message(\"send_image_mode\", {});\n            fig.send_message(\"refresh\", {});\n        }\n\n    this.imageObj.onload = function() {\n            if (fig.image_mode == 'full') {\n                // Full images could contain transparency (where diff images\n                // almost always do), so we need to clear the canvas so that\n                // there is no ghosting.\n                fig.context.clearRect(0, 0, fig.canvas.width, fig.canvas.height);\n            }\n            fig.context.drawImage(fig.imageObj, 0, 0);\n        };\n\n    this.imageObj.onunload = function() {\n        this.ws.close();\n    }\n\n    this.ws.onmessage = this._make_on_message_function(this);\n\n    this.ondownload = ondownload;\n}\n\nmpl.figure.prototype._init_header = function() {\n    var titlebar = $(\n        '<div class=\"ui-dialog-titlebar ui-widget-header ui-corner-all ' +\n        'ui-helper-clearfix\"/>');\n    var titletext = $(\n        '<div class=\"ui-dialog-title\" style=\"width: 100%; ' +\n        'text-align: center; padding: 3px;\"/>');\n    titlebar.append(titletext)\n    this.root.append(titlebar);\n    this.header = titletext[0];\n}\n\n\n\nmpl.figure.prototype._canvas_extra_style = function(canvas_div) {\n\n}\n\n\nmpl.figure.prototype._root_extra_style = function(canvas_div) {\n\n}\n\nmpl.figure.prototype._init_canvas = function() {\n    var fig = this;\n\n    var canvas_div = $('<div/>');\n\n    canvas_div.attr('style', 'position: relative; clear: both; outline: 0');\n\n    function canvas_keyboard_event(event) {\n        return fig.key_event(event, event['data']);\n    }\n\n    canvas_div.keydown('key_press', canvas_keyboard_event);\n    canvas_div.keyup('key_release', canvas_keyboard_event);\n    this.canvas_div = canvas_div\n    this._canvas_extra_style(canvas_div)\n    this.root.append(canvas_div);\n\n    var canvas = $('<canvas/>');\n    canvas.addClass('mpl-canvas');\n    canvas.attr('style', \"left: 0; top: 0; z-index: 0; outline: 0\")\n\n    this.canvas = canvas[0];\n    this.context = canvas[0].getContext(\"2d\");\n\n    var rubberband = $('<canvas/>');\n    rubberband.attr('style', \"position: absolute; left: 0; top: 0; z-index: 1;\")\n\n    var pass_mouse_events = true;\n\n    canvas_div.resizable({\n        start: function(event, ui) {\n            pass_mouse_events = false;\n        },\n        resize: function(event, ui) {\n            fig.request_resize(ui.size.width, ui.size.height);\n        },\n        stop: function(event, ui) {\n            pass_mouse_events = true;\n            fig.request_resize(ui.size.width, ui.size.height);\n        },\n    });\n\n    function mouse_event_fn(event) {\n        if (pass_mouse_events)\n            return fig.mouse_event(event, event['data']);\n    }\n\n    rubberband.mousedown('button_press', mouse_event_fn);\n    rubberband.mouseup('button_release', mouse_event_fn);\n    // Throttle sequential mouse events to 1 every 20ms.\n    rubberband.mousemove('motion_notify', mouse_event_fn);\n\n    rubberband.mouseenter('figure_enter', mouse_event_fn);\n    rubberband.mouseleave('figure_leave', mouse_event_fn);\n\n    canvas_div.on(\"wheel\", function (event) {\n        event = event.originalEvent;\n        event['data'] = 'scroll'\n        if (event.deltaY < 0) {\n            event.step = 1;\n        } else {\n            event.step = -1;\n        }\n        mouse_event_fn(event);\n    });\n\n    canvas_div.append(canvas);\n    canvas_div.append(rubberband);\n\n    this.rubberband = rubberband;\n    this.rubberband_canvas = rubberband[0];\n    this.rubberband_context = rubberband[0].getContext(\"2d\");\n    this.rubberband_context.strokeStyle = \"#000000\";\n\n    this._resize_canvas = function(width, height) {\n        // Keep the size of the canvas, canvas container, and rubber band\n        // canvas in synch.\n        canvas_div.css('width', width)\n        canvas_div.css('height', height)\n\n        canvas.attr('width', width);\n        canvas.attr('height', height);\n\n        rubberband.attr('width', width);\n        rubberband.attr('height', height);\n    }\n\n    // Set the figure to an initial 600x600px, this will subsequently be updated\n    // upon first draw.\n    this._resize_canvas(600, 600);\n\n    // Disable right mouse context menu.\n    $(this.rubberband_canvas).bind(\"contextmenu\",function(e){\n        return false;\n    });\n\n    function set_focus () {\n        canvas.focus();\n        canvas_div.focus();\n    }\n\n    window.setTimeout(set_focus, 100);\n}\n\nmpl.figure.prototype._init_toolbar = function() {\n    var fig = this;\n\n    var nav_element = $('<div/>')\n    nav_element.attr('style', 'width: 100%');\n    this.root.append(nav_element);\n\n    // Define a callback function for later on.\n    function toolbar_event(event) {\n        return fig.toolbar_button_onclick(event['data']);\n    }\n    function toolbar_mouse_event(event) {\n        return fig.toolbar_button_onmouseover(event['data']);\n    }\n\n    for(var toolbar_ind in mpl.toolbar_items) {\n        var name = mpl.toolbar_items[toolbar_ind][0];\n        var tooltip = mpl.toolbar_items[toolbar_ind][1];\n        var image = mpl.toolbar_items[toolbar_ind][2];\n        var method_name = mpl.toolbar_items[toolbar_ind][3];\n\n        if (!name) {\n            // put a spacer in here.\n            continue;\n        }\n        var button = $('<button/>');\n        button.addClass('ui-button ui-widget ui-state-default ui-corner-all ' +\n                        'ui-button-icon-only');\n        button.attr('role', 'button');\n        button.attr('aria-disabled', 'false');\n        button.click(method_name, toolbar_event);\n        button.mouseover(tooltip, toolbar_mouse_event);\n\n        var icon_img = $('<span/>');\n        icon_img.addClass('ui-button-icon-primary ui-icon');\n        icon_img.addClass(image);\n        icon_img.addClass('ui-corner-all');\n\n        var tooltip_span = $('<span/>');\n        tooltip_span.addClass('ui-button-text');\n        tooltip_span.html(tooltip);\n\n        button.append(icon_img);\n        button.append(tooltip_span);\n\n        nav_element.append(button);\n    }\n\n    var fmt_picker_span = $('<span/>');\n\n    var fmt_picker = $('<select/>');\n    fmt_picker.addClass('mpl-toolbar-option ui-widget ui-widget-content');\n    fmt_picker_span.append(fmt_picker);\n    nav_element.append(fmt_picker_span);\n    this.format_dropdown = fmt_picker[0];\n\n    for (var ind in mpl.extensions) {\n        var fmt = mpl.extensions[ind];\n        var option = $(\n            '<option/>', {selected: fmt === mpl.default_extension}).html(fmt);\n        fmt_picker.append(option)\n    }\n\n    // Add hover states to the ui-buttons\n    $( \".ui-button\" ).hover(\n        function() { $(this).addClass(\"ui-state-hover\");},\n        function() { $(this).removeClass(\"ui-state-hover\");}\n    );\n\n    var status_bar = $('<span class=\"mpl-message\"/>');\n    nav_element.append(status_bar);\n    this.message = status_bar[0];\n}\n\nmpl.figure.prototype.request_resize = function(x_pixels, y_pixels) {\n    // Request matplotlib to resize the figure. Matplotlib will then trigger a resize in the client,\n    // which will in turn request a refresh of the image.\n    this.send_message('resize', {'width': x_pixels, 'height': y_pixels});\n}\n\nmpl.figure.prototype.send_message = function(type, properties) {\n    properties['type'] = type;\n    properties['figure_id'] = this.id;\n    this.ws.send(JSON.stringify(properties));\n}\n\nmpl.figure.prototype.send_draw_message = function() {\n    if (!this.waiting) {\n        this.waiting = true;\n        this.ws.send(JSON.stringify({type: \"draw\", figure_id: this.id}));\n    }\n}\n\n\nmpl.figure.prototype.handle_save = function(fig, msg) {\n    var format_dropdown = fig.format_dropdown;\n    var format = format_dropdown.options[format_dropdown.selectedIndex].value;\n    fig.ondownload(fig, format);\n}\n\n\nmpl.figure.prototype.handle_resize = function(fig, msg) {\n    var size = msg['size'];\n    if (size[0] != fig.canvas.width || size[1] != fig.canvas.height) {\n        fig._resize_canvas(size[0], size[1]);\n        fig.send_message(\"refresh\", {});\n    };\n}\n\nmpl.figure.prototype.handle_rubberband = function(fig, msg) {\n    var x0 = msg['x0'];\n    var y0 = fig.canvas.height - msg['y0'];\n    var x1 = msg['x1'];\n    var y1 = fig.canvas.height - msg['y1'];\n    x0 = Math.floor(x0) + 0.5;\n    y0 = Math.floor(y0) + 0.5;\n    x1 = Math.floor(x1) + 0.5;\n    y1 = Math.floor(y1) + 0.5;\n    var min_x = Math.min(x0, x1);\n    var min_y = Math.min(y0, y1);\n    var width = Math.abs(x1 - x0);\n    var height = Math.abs(y1 - y0);\n\n    fig.rubberband_context.clearRect(\n        0, 0, fig.canvas.width, fig.canvas.height);\n\n    fig.rubberband_context.strokeRect(min_x, min_y, width, height);\n}\n\nmpl.figure.prototype.handle_figure_label = function(fig, msg) {\n    // Updates the figure title.\n    fig.header.textContent = msg['label'];\n}\n\nmpl.figure.prototype.handle_cursor = function(fig, msg) {\n    var cursor = msg['cursor'];\n    switch(cursor)\n    {\n    case 0:\n        cursor = 'pointer';\n        break;\n    case 1:\n        cursor = 'default';\n        break;\n    case 2:\n        cursor = 'crosshair';\n        break;\n    case 3:\n        cursor = 'move';\n        break;\n    }\n    fig.rubberband_canvas.style.cursor = cursor;\n}\n\nmpl.figure.prototype.handle_message = function(fig, msg) {\n    fig.message.textContent = msg['message'];\n}\n\nmpl.figure.prototype.handle_draw = function(fig, msg) {\n    // Request the server to send over a new figure.\n    fig.send_draw_message();\n}\n\nmpl.figure.prototype.handle_image_mode = function(fig, msg) {\n    fig.image_mode = msg['mode'];\n}\n\nmpl.figure.prototype.updated_canvas_event = function() {\n    // Called whenever the canvas gets updated.\n    this.send_message(\"ack\", {});\n}\n\n// A function to construct a web socket function for onmessage handling.\n// Called in the figure constructor.\nmpl.figure.prototype._make_on_message_function = function(fig) {\n    return function socket_on_message(evt) {\n        if (evt.data instanceof Blob) {\n            /* FIXME: We get \"Resource interpreted as Image but\n             * transferred with MIME type text/plain:\" errors on\n             * Chrome.  But how to set the MIME type?  It doesn't seem\n             * to be part of the websocket stream */\n            evt.data.type = \"image/png\";\n\n            /* Free the memory for the previous frames */\n            if (fig.imageObj.src) {\n                (window.URL || window.webkitURL).revokeObjectURL(\n                    fig.imageObj.src);\n            }\n\n            fig.imageObj.src = (window.URL || window.webkitURL).createObjectURL(\n                evt.data);\n            fig.updated_canvas_event();\n            fig.waiting = false;\n            return;\n        }\n        else if (typeof evt.data === 'string' && evt.data.slice(0, 21) == \"data:image/png;base64\") {\n            fig.imageObj.src = evt.data;\n            fig.updated_canvas_event();\n            fig.waiting = false;\n            return;\n        }\n\n        var msg = JSON.parse(evt.data);\n        var msg_type = msg['type'];\n\n        // Call the  \"handle_{type}\" callback, which takes\n        // the figure and JSON message as its only arguments.\n        try {\n            var callback = fig[\"handle_\" + msg_type];\n        } catch (e) {\n            console.log(\"No handler for the '\" + msg_type + \"' message type: \", msg);\n            return;\n        }\n\n        if (callback) {\n            try {\n                // console.log(\"Handling '\" + msg_type + \"' message: \", msg);\n                callback(fig, msg);\n            } catch (e) {\n                console.log(\"Exception inside the 'handler_\" + msg_type + \"' callback:\", e, e.stack, msg);\n            }\n        }\n    };\n}\n\n// from http://stackoverflow.com/questions/1114465/getting-mouse-location-in-canvas\nmpl.findpos = function(e) {\n    //this section is from http://www.quirksmode.org/js/events_properties.html\n    var targ;\n    if (!e)\n        e = window.event;\n    if (e.target)\n        targ = e.target;\n    else if (e.srcElement)\n        targ = e.srcElement;\n    if (targ.nodeType == 3) // defeat Safari bug\n        targ = targ.parentNode;\n\n    // jQuery normalizes the pageX and pageY\n    // pageX,Y are the mouse positions relative to the document\n    // offset() returns the position of the element relative to the document\n    var x = e.pageX - $(targ).offset().left;\n    var y = e.pageY - $(targ).offset().top;\n\n    return {\"x\": x, \"y\": y};\n};\n\n/*\n * return a copy of an object with only non-object keys\n * we need this to avoid circular references\n * http://stackoverflow.com/a/24161582/3208463\n */\nfunction simpleKeys (original) {\n  return Object.keys(original).reduce(function (obj, key) {\n    if (typeof original[key] !== 'object')\n        obj[key] = original[key]\n    return obj;\n  }, {});\n}\n\nmpl.figure.prototype.mouse_event = function(event, name) {\n    var canvas_pos = mpl.findpos(event)\n\n    if (name === 'button_press')\n    {\n        this.canvas.focus();\n        this.canvas_div.focus();\n    }\n\n    var x = canvas_pos.x;\n    var y = canvas_pos.y;\n\n    this.send_message(name, {x: x, y: y, button: event.button,\n                             step: event.step,\n                             guiEvent: simpleKeys(event)});\n\n    /* This prevents the web browser from automatically changing to\n     * the text insertion cursor when the button is pressed.  We want\n     * to control all of the cursor setting manually through the\n     * 'cursor' event from matplotlib */\n    event.preventDefault();\n    return false;\n}\n\nmpl.figure.prototype._key_event_extra = function(event, name) {\n    // Handle any extra behaviour associated with a key event\n}\n\nmpl.figure.prototype.key_event = function(event, name) {\n\n    // Prevent repeat events\n    if (name == 'key_press')\n    {\n        if (event.which === this._key)\n            return;\n        else\n            this._key = event.which;\n    }\n    if (name == 'key_release')\n        this._key = null;\n\n    var value = '';\n    if (event.ctrlKey && event.which != 17)\n        value += \"ctrl+\";\n    if (event.altKey && event.which != 18)\n        value += \"alt+\";\n    if (event.shiftKey && event.which != 16)\n        value += \"shift+\";\n\n    value += 'k';\n    value += event.which.toString();\n\n    this._key_event_extra(event, name);\n\n    this.send_message(name, {key: value,\n                             guiEvent: simpleKeys(event)});\n    return false;\n}\n\nmpl.figure.prototype.toolbar_button_onclick = function(name) {\n    if (name == 'download') {\n        this.handle_save(this, null);\n    } else {\n        this.send_message(\"toolbar_button\", {name: name});\n    }\n};\n\nmpl.figure.prototype.toolbar_button_onmouseover = function(tooltip) {\n    this.message.textContent = tooltip;\n};\nmpl.toolbar_items = [[\"Home\", \"Reset original view\", \"fa fa-home icon-home\", \"home\"], [\"Back\", \"Back to  previous view\", \"fa fa-arrow-left icon-arrow-left\", \"back\"], [\"Forward\", \"Forward to next view\", \"fa fa-arrow-right icon-arrow-right\", \"forward\"], [\"\", \"\", \"\", \"\"], [\"Pan\", \"Pan axes with left mouse, zoom with right\", \"fa fa-arrows icon-move\", \"pan\"], [\"Zoom\", \"Zoom to rectangle\", \"fa fa-square-o icon-check-empty\", \"zoom\"], [\"\", \"\", \"\", \"\"], [\"Download\", \"Download plot\", \"fa fa-floppy-o icon-save\", \"download\"]];\n\nmpl.extensions = [\"eps\", \"jpeg\", \"pdf\", \"png\", \"ps\", \"raw\", \"svg\", \"tif\"];\n\nmpl.default_extension = \"png\";var comm_websocket_adapter = function(comm) {\n    // Create a \"websocket\"-like object which calls the given IPython comm\n    // object with the appropriate methods. Currently this is a non binary\n    // socket, so there is still some room for performance tuning.\n    var ws = {};\n\n    ws.close = function() {\n        comm.close()\n    };\n    ws.send = function(m) {\n        //console.log('sending', m);\n        comm.send(m);\n    };\n    // Register the callback with on_msg.\n    comm.on_msg(function(msg) {\n        //console.log('receiving', msg['content']['data'], msg);\n        // Pass the mpl event to the overriden (by mpl) onmessage function.\n        ws.onmessage(msg['content']['data'])\n    });\n    return ws;\n}\n\nmpl.mpl_figure_comm = function(comm, msg) {\n    // This is the function which gets called when the mpl process\n    // starts-up an IPython Comm through the \"matplotlib\" channel.\n\n    var id = msg.content.data.id;\n    // Get hold of the div created by the display call when the Comm\n    // socket was opened in Python.\n    var element = $(\"#\" + id);\n    var ws_proxy = comm_websocket_adapter(comm)\n\n    function ondownload(figure, format) {\n        window.open(figure.imageObj.src);\n    }\n\n    var fig = new mpl.figure(id, ws_proxy,\n                           ondownload,\n                           element.get(0));\n\n    // Call onopen now - mpl needs it, as it is assuming we've passed it a real\n    // web socket which is closed, not our websocket->open comm proxy.\n    ws_proxy.onopen();\n\n    fig.parent_element = element.get(0);\n    fig.cell_info = mpl.find_output_cell(\"<div id='\" + id + \"'></div>\");\n    if (!fig.cell_info) {\n        console.error(\"Failed to find cell for figure\", id, fig);\n        return;\n    }\n\n    var output_index = fig.cell_info[2]\n    var cell = fig.cell_info[0];\n\n};\n\nmpl.figure.prototype.handle_close = function(fig, msg) {\n    fig.root.unbind('remove')\n\n    // Update the output cell to use the data from the current canvas.\n    fig.push_to_output();\n    var dataURL = fig.canvas.toDataURL();\n    // Re-enable the keyboard manager in IPython - without this line, in FF,\n    // the notebook keyboard shortcuts fail.\n    IPython.keyboard_manager.enable()\n    $(fig.parent_element).html('<img src=\"' + dataURL + '\">');\n    fig.close_ws(fig, msg);\n}\n\nmpl.figure.prototype.close_ws = function(fig, msg){\n    fig.send_message('closing', msg);\n    // fig.ws.close()\n}\n\nmpl.figure.prototype.push_to_output = function(remove_interactive) {\n    // Turn the data on the canvas into data in the output cell.\n    var dataURL = this.canvas.toDataURL();\n    this.cell_info[1]['text/html'] = '<img src=\"' + dataURL + '\">';\n}\n\nmpl.figure.prototype.updated_canvas_event = function() {\n    // Tell IPython that the notebook contents must change.\n    IPython.notebook.set_dirty(true);\n    this.send_message(\"ack\", {});\n    var fig = this;\n    // Wait a second, then push the new image to the DOM so\n    // that it is saved nicely (might be nice to debounce this).\n    setTimeout(function () { fig.push_to_output() }, 1000);\n}\n\nmpl.figure.prototype._init_toolbar = function() {\n    var fig = this;\n\n    var nav_element = $('<div/>')\n    nav_element.attr('style', 'width: 100%');\n    this.root.append(nav_element);\n\n    // Define a callback function for later on.\n    function toolbar_event(event) {\n        return fig.toolbar_button_onclick(event['data']);\n    }\n    function toolbar_mouse_event(event) {\n        return fig.toolbar_button_onmouseover(event['data']);\n    }\n\n    for(var toolbar_ind in mpl.toolbar_items){\n        var name = mpl.toolbar_items[toolbar_ind][0];\n        var tooltip = mpl.toolbar_items[toolbar_ind][1];\n        var image = mpl.toolbar_items[toolbar_ind][2];\n        var method_name = mpl.toolbar_items[toolbar_ind][3];\n\n        if (!name) { continue; };\n\n        var button = $('<button class=\"btn btn-default\" href=\"#\" title=\"' + name + '\"><i class=\"fa ' + image + ' fa-lg\"></i></button>');\n        button.click(method_name, toolbar_event);\n        button.mouseover(tooltip, toolbar_mouse_event);\n        nav_element.append(button);\n    }\n\n    // Add the status bar.\n    var status_bar = $('<span class=\"mpl-message\" style=\"text-align:right; float: right;\"/>');\n    nav_element.append(status_bar);\n    this.message = status_bar[0];\n\n    // Add the close button to the window.\n    var buttongrp = $('<div class=\"btn-group inline pull-right\"></div>');\n    var button = $('<button class=\"btn btn-mini btn-primary\" href=\"#\" title=\"Stop Interaction\"><i class=\"fa fa-power-off icon-remove icon-large\"></i></button>');\n    button.click(function (evt) { fig.handle_close(fig, {}); } );\n    button.mouseover('Stop Interaction', toolbar_mouse_event);\n    buttongrp.append(button);\n    var titlebar = this.root.find($('.ui-dialog-titlebar'));\n    titlebar.prepend(buttongrp);\n}\n\nmpl.figure.prototype._root_extra_style = function(el){\n    var fig = this\n    el.on(\"remove\", function(){\n\tfig.close_ws(fig, {});\n    });\n}\n\nmpl.figure.prototype._canvas_extra_style = function(el){\n    // this is important to make the div 'focusable\n    el.attr('tabindex', 0)\n    // reach out to IPython and tell the keyboard manager to turn it's self\n    // off when our div gets focus\n\n    // location in version 3\n    if (IPython.notebook.keyboard_manager) {\n        IPython.notebook.keyboard_manager.register_events(el);\n    }\n    else {\n        // location in version 2\n        IPython.keyboard_manager.register_events(el);\n    }\n\n}\n\nmpl.figure.prototype._key_event_extra = function(event, name) {\n    var manager = IPython.notebook.keyboard_manager;\n    if (!manager)\n        manager = IPython.keyboard_manager;\n\n    // Check for shift+enter\n    if (event.shiftKey && event.which == 13) {\n        this.canvas_div.blur();\n        event.shiftKey = false;\n        // Send a \"J\" for go to next cell\n        event.which = 74;\n        event.keyCode = 74;\n        manager.command_mode();\n        manager.handle_keydown(event);\n    }\n}\n\nmpl.figure.prototype.handle_save = function(fig, msg) {\n    fig.ondownload(fig, null);\n}\n\n\nmpl.find_output_cell = function(html_output) {\n    // Return the cell and output element which can be found *uniquely* in the notebook.\n    // Note - this is a bit hacky, but it is done because the \"notebook_saving.Notebook\"\n    // IPython event is triggered only after the cells have been serialised, which for\n    // our purposes (turning an active figure into a static one), is too late.\n    var cells = IPython.notebook.get_cells();\n    var ncells = cells.length;\n    for (var i=0; i<ncells; i++) {\n        var cell = cells[i];\n        if (cell.cell_type === 'code'){\n            for (var j=0; j<cell.output_area.outputs.length; j++) {\n                var data = cell.output_area.outputs[j];\n                if (data.data) {\n                    // IPython >= 3 moved mimebundle to data attribute of output\n                    data = data.data;\n                }\n                if (data['text/html'] == html_output) {\n                    return [cell, data, j];\n                }\n            }\n        }\n    }\n}\n\n// Register the function which deals with the matplotlib target/channel.\n// The kernel may be null if the page has been refreshed.\nif (IPython.notebook.kernel != null) {\n    IPython.notebook.kernel.comm_manager.register_target('matplotlib', mpl.mpl_figure_comm);\n}\n", 
                        "text/plain": "<IPython.core.display.Javascript object>"
                    }, 
                    "metadata": {}
                }, 
                {
                    "output_type": "display_data", 
                    "data": {
                        "text/html": "<img src=\"data:image/png;base64,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\">", 
                        "text/plain": "<IPython.core.display.HTML object>"
                    }, 
                    "metadata": {}
                }, 
                {
                    "execution_count": 203, 
                    "metadata": {}, 
                    "data": {
                        "text/plain": "<matplotlib.axes._subplots.AxesSubplot at 0x7f86afc055c0>"
                    }, 
                    "output_type": "execute_result"
                }
            ], 
            "source": "sns.plt.title('Confusion matrix for training set')\nsns.plt.figure(1)\nsns.heatmap(conf_matix.toArray(),annot=True,xticklabels=['mal','nomal'],yticklabels=['mal','nomal'])"
        }, 
        {
            "execution_count": 206, 
            "cell_type": "code", 
            "metadata": {}, 
            "outputs": [
                {
                    "output_type": "stream", 
                    "name": "stderr", 
                    "text": "/usr/local/src/spark20master/spark/python/pyspark/mllib/evaluation.py:237: UserWarning: Deprecated in 2.0.0. Use accuracy.\n  warnings.warn(\"Deprecated in 2.0.0. Use accuracy.\")\n"
                }, 
                {
                    "output_type": "stream", 
                    "name": "stdout", 
                    "text": "precision for test set 0.9661016949152542\n"
                }, 
                {
                    "output_type": "display_data", 
                    "data": {
                        "application/javascript": "/* Put everything inside the global mpl namespace */\nwindow.mpl = {};\n\nmpl.get_websocket_type = function() {\n    if (typeof(WebSocket) !== 'undefined') {\n        return WebSocket;\n    } else if (typeof(MozWebSocket) !== 'undefined') {\n        return MozWebSocket;\n    } else {\n        alert('Your browser does not have WebSocket support.' +\n              'Please try Chrome, Safari or Firefox \u2265 6. ' +\n              'Firefox 4 and 5 are also supported but you ' +\n              'have to enable WebSockets in about:config.');\n    };\n}\n\nmpl.figure = function(figure_id, websocket, ondownload, parent_element) {\n    this.id = figure_id;\n\n    this.ws = websocket;\n\n    this.supports_binary = (this.ws.binaryType != undefined);\n\n    if (!this.supports_binary) {\n        var warnings = document.getElementById(\"mpl-warnings\");\n        if (warnings) {\n            warnings.style.display = 'block';\n            warnings.textContent = (\n                \"This browser does not support binary websocket messages. \" +\n                    \"Performance may be slow.\");\n        }\n    }\n\n    this.imageObj = new Image();\n\n    this.context = undefined;\n    this.message = undefined;\n    this.canvas = undefined;\n    this.rubberband_canvas = undefined;\n    this.rubberband_context = undefined;\n    this.format_dropdown = undefined;\n\n    this.image_mode = 'full';\n\n    this.root = $('<div/>');\n    this._root_extra_style(this.root)\n    this.root.attr('style', 'display: inline-block');\n\n    $(parent_element).append(this.root);\n\n    this._init_header(this);\n    this._init_canvas(this);\n    this._init_toolbar(this);\n\n    var fig = this;\n\n    this.waiting = false;\n\n    this.ws.onopen =  function () {\n            fig.send_message(\"supports_binary\", {value: fig.supports_binary});\n            fig.send_message(\"send_image_mode\", {});\n            fig.send_message(\"refresh\", {});\n        }\n\n    this.imageObj.onload = function() {\n            if (fig.image_mode == 'full') {\n                // Full images could contain transparency (where diff images\n                // almost always do), so we need to clear the canvas so that\n                // there is no ghosting.\n                fig.context.clearRect(0, 0, fig.canvas.width, fig.canvas.height);\n            }\n            fig.context.drawImage(fig.imageObj, 0, 0);\n        };\n\n    this.imageObj.onunload = function() {\n        this.ws.close();\n    }\n\n    this.ws.onmessage = this._make_on_message_function(this);\n\n    this.ondownload = ondownload;\n}\n\nmpl.figure.prototype._init_header = function() {\n    var titlebar = $(\n        '<div class=\"ui-dialog-titlebar ui-widget-header ui-corner-all ' +\n        'ui-helper-clearfix\"/>');\n    var titletext = $(\n        '<div class=\"ui-dialog-title\" style=\"width: 100%; ' +\n        'text-align: center; padding: 3px;\"/>');\n    titlebar.append(titletext)\n    this.root.append(titlebar);\n    this.header = titletext[0];\n}\n\n\n\nmpl.figure.prototype._canvas_extra_style = function(canvas_div) {\n\n}\n\n\nmpl.figure.prototype._root_extra_style = function(canvas_div) {\n\n}\n\nmpl.figure.prototype._init_canvas = function() {\n    var fig = this;\n\n    var canvas_div = $('<div/>');\n\n    canvas_div.attr('style', 'position: relative; clear: both; outline: 0');\n\n    function canvas_keyboard_event(event) {\n        return fig.key_event(event, event['data']);\n    }\n\n    canvas_div.keydown('key_press', canvas_keyboard_event);\n    canvas_div.keyup('key_release', canvas_keyboard_event);\n    this.canvas_div = canvas_div\n    this._canvas_extra_style(canvas_div)\n    this.root.append(canvas_div);\n\n    var canvas = $('<canvas/>');\n    canvas.addClass('mpl-canvas');\n    canvas.attr('style', \"left: 0; top: 0; z-index: 0; outline: 0\")\n\n    this.canvas = canvas[0];\n    this.context = canvas[0].getContext(\"2d\");\n\n    var rubberband = $('<canvas/>');\n    rubberband.attr('style', \"position: absolute; left: 0; top: 0; z-index: 1;\")\n\n    var pass_mouse_events = true;\n\n    canvas_div.resizable({\n        start: function(event, ui) {\n            pass_mouse_events = false;\n        },\n        resize: function(event, ui) {\n            fig.request_resize(ui.size.width, ui.size.height);\n        },\n        stop: function(event, ui) {\n            pass_mouse_events = true;\n            fig.request_resize(ui.size.width, ui.size.height);\n        },\n    });\n\n    function mouse_event_fn(event) {\n        if (pass_mouse_events)\n            return fig.mouse_event(event, event['data']);\n    }\n\n    rubberband.mousedown('button_press', mouse_event_fn);\n    rubberband.mouseup('button_release', mouse_event_fn);\n    // Throttle sequential mouse events to 1 every 20ms.\n    rubberband.mousemove('motion_notify', mouse_event_fn);\n\n    rubberband.mouseenter('figure_enter', mouse_event_fn);\n    rubberband.mouseleave('figure_leave', mouse_event_fn);\n\n    canvas_div.on(\"wheel\", function (event) {\n        event = event.originalEvent;\n        event['data'] = 'scroll'\n        if (event.deltaY < 0) {\n            event.step = 1;\n        } else {\n            event.step = -1;\n        }\n        mouse_event_fn(event);\n    });\n\n    canvas_div.append(canvas);\n    canvas_div.append(rubberband);\n\n    this.rubberband = rubberband;\n    this.rubberband_canvas = rubberband[0];\n    this.rubberband_context = rubberband[0].getContext(\"2d\");\n    this.rubberband_context.strokeStyle = \"#000000\";\n\n    this._resize_canvas = function(width, height) {\n        // Keep the size of the canvas, canvas container, and rubber band\n        // canvas in synch.\n        canvas_div.css('width', width)\n        canvas_div.css('height', height)\n\n        canvas.attr('width', width);\n        canvas.attr('height', height);\n\n        rubberband.attr('width', width);\n        rubberband.attr('height', height);\n    }\n\n    // Set the figure to an initial 600x600px, this will subsequently be updated\n    // upon first draw.\n    this._resize_canvas(600, 600);\n\n    // Disable right mouse context menu.\n    $(this.rubberband_canvas).bind(\"contextmenu\",function(e){\n        return false;\n    });\n\n    function set_focus () {\n        canvas.focus();\n        canvas_div.focus();\n    }\n\n    window.setTimeout(set_focus, 100);\n}\n\nmpl.figure.prototype._init_toolbar = function() {\n    var fig = this;\n\n    var nav_element = $('<div/>')\n    nav_element.attr('style', 'width: 100%');\n    this.root.append(nav_element);\n\n    // Define a callback function for later on.\n    function toolbar_event(event) {\n        return fig.toolbar_button_onclick(event['data']);\n    }\n    function toolbar_mouse_event(event) {\n        return fig.toolbar_button_onmouseover(event['data']);\n    }\n\n    for(var toolbar_ind in mpl.toolbar_items) {\n        var name = mpl.toolbar_items[toolbar_ind][0];\n        var tooltip = mpl.toolbar_items[toolbar_ind][1];\n        var image = mpl.toolbar_items[toolbar_ind][2];\n        var method_name = mpl.toolbar_items[toolbar_ind][3];\n\n        if (!name) {\n            // put a spacer in here.\n            continue;\n        }\n        var button = $('<button/>');\n        button.addClass('ui-button ui-widget ui-state-default ui-corner-all ' +\n                        'ui-button-icon-only');\n        button.attr('role', 'button');\n        button.attr('aria-disabled', 'false');\n        button.click(method_name, toolbar_event);\n        button.mouseover(tooltip, toolbar_mouse_event);\n\n        var icon_img = $('<span/>');\n        icon_img.addClass('ui-button-icon-primary ui-icon');\n        icon_img.addClass(image);\n        icon_img.addClass('ui-corner-all');\n\n        var tooltip_span = $('<span/>');\n        tooltip_span.addClass('ui-button-text');\n        tooltip_span.html(tooltip);\n\n        button.append(icon_img);\n        button.append(tooltip_span);\n\n        nav_element.append(button);\n    }\n\n    var fmt_picker_span = $('<span/>');\n\n    var fmt_picker = $('<select/>');\n    fmt_picker.addClass('mpl-toolbar-option ui-widget ui-widget-content');\n    fmt_picker_span.append(fmt_picker);\n    nav_element.append(fmt_picker_span);\n    this.format_dropdown = fmt_picker[0];\n\n    for (var ind in mpl.extensions) {\n        var fmt = mpl.extensions[ind];\n        var option = $(\n            '<option/>', {selected: fmt === mpl.default_extension}).html(fmt);\n        fmt_picker.append(option)\n    }\n\n    // Add hover states to the ui-buttons\n    $( \".ui-button\" ).hover(\n        function() { $(this).addClass(\"ui-state-hover\");},\n        function() { $(this).removeClass(\"ui-state-hover\");}\n    );\n\n    var status_bar = $('<span class=\"mpl-message\"/>');\n    nav_element.append(status_bar);\n    this.message = status_bar[0];\n}\n\nmpl.figure.prototype.request_resize = function(x_pixels, y_pixels) {\n    // Request matplotlib to resize the figure. Matplotlib will then trigger a resize in the client,\n    // which will in turn request a refresh of the image.\n    this.send_message('resize', {'width': x_pixels, 'height': y_pixels});\n}\n\nmpl.figure.prototype.send_message = function(type, properties) {\n    properties['type'] = type;\n    properties['figure_id'] = this.id;\n    this.ws.send(JSON.stringify(properties));\n}\n\nmpl.figure.prototype.send_draw_message = function() {\n    if (!this.waiting) {\n        this.waiting = true;\n        this.ws.send(JSON.stringify({type: \"draw\", figure_id: this.id}));\n    }\n}\n\n\nmpl.figure.prototype.handle_save = function(fig, msg) {\n    var format_dropdown = fig.format_dropdown;\n    var format = format_dropdown.options[format_dropdown.selectedIndex].value;\n    fig.ondownload(fig, format);\n}\n\n\nmpl.figure.prototype.handle_resize = function(fig, msg) {\n    var size = msg['size'];\n    if (size[0] != fig.canvas.width || size[1] != fig.canvas.height) {\n        fig._resize_canvas(size[0], size[1]);\n        fig.send_message(\"refresh\", {});\n    };\n}\n\nmpl.figure.prototype.handle_rubberband = function(fig, msg) {\n    var x0 = msg['x0'];\n    var y0 = fig.canvas.height - msg['y0'];\n    var x1 = msg['x1'];\n    var y1 = fig.canvas.height - msg['y1'];\n    x0 = Math.floor(x0) + 0.5;\n    y0 = Math.floor(y0) + 0.5;\n    x1 = Math.floor(x1) + 0.5;\n    y1 = Math.floor(y1) + 0.5;\n    var min_x = Math.min(x0, x1);\n    var min_y = Math.min(y0, y1);\n    var width = Math.abs(x1 - x0);\n    var height = Math.abs(y1 - y0);\n\n    fig.rubberband_context.clearRect(\n        0, 0, fig.canvas.width, fig.canvas.height);\n\n    fig.rubberband_context.strokeRect(min_x, min_y, width, height);\n}\n\nmpl.figure.prototype.handle_figure_label = function(fig, msg) {\n    // Updates the figure title.\n    fig.header.textContent = msg['label'];\n}\n\nmpl.figure.prototype.handle_cursor = function(fig, msg) {\n    var cursor = msg['cursor'];\n    switch(cursor)\n    {\n    case 0:\n        cursor = 'pointer';\n        break;\n    case 1:\n        cursor = 'default';\n        break;\n    case 2:\n        cursor = 'crosshair';\n        break;\n    case 3:\n        cursor = 'move';\n        break;\n    }\n    fig.rubberband_canvas.style.cursor = cursor;\n}\n\nmpl.figure.prototype.handle_message = function(fig, msg) {\n    fig.message.textContent = msg['message'];\n}\n\nmpl.figure.prototype.handle_draw = function(fig, msg) {\n    // Request the server to send over a new figure.\n    fig.send_draw_message();\n}\n\nmpl.figure.prototype.handle_image_mode = function(fig, msg) {\n    fig.image_mode = msg['mode'];\n}\n\nmpl.figure.prototype.updated_canvas_event = function() {\n    // Called whenever the canvas gets updated.\n    this.send_message(\"ack\", {});\n}\n\n// A function to construct a web socket function for onmessage handling.\n// Called in the figure constructor.\nmpl.figure.prototype._make_on_message_function = function(fig) {\n    return function socket_on_message(evt) {\n        if (evt.data instanceof Blob) {\n            /* FIXME: We get \"Resource interpreted as Image but\n             * transferred with MIME type text/plain:\" errors on\n             * Chrome.  But how to set the MIME type?  It doesn't seem\n             * to be part of the websocket stream */\n            evt.data.type = \"image/png\";\n\n            /* Free the memory for the previous frames */\n            if (fig.imageObj.src) {\n                (window.URL || window.webkitURL).revokeObjectURL(\n                    fig.imageObj.src);\n            }\n\n            fig.imageObj.src = (window.URL || window.webkitURL).createObjectURL(\n                evt.data);\n            fig.updated_canvas_event();\n            fig.waiting = false;\n            return;\n        }\n        else if (typeof evt.data === 'string' && evt.data.slice(0, 21) == \"data:image/png;base64\") {\n            fig.imageObj.src = evt.data;\n            fig.updated_canvas_event();\n            fig.waiting = false;\n            return;\n        }\n\n        var msg = JSON.parse(evt.data);\n        var msg_type = msg['type'];\n\n        // Call the  \"handle_{type}\" callback, which takes\n        // the figure and JSON message as its only arguments.\n        try {\n            var callback = fig[\"handle_\" + msg_type];\n        } catch (e) {\n            console.log(\"No handler for the '\" + msg_type + \"' message type: \", msg);\n            return;\n        }\n\n        if (callback) {\n            try {\n                // console.log(\"Handling '\" + msg_type + \"' message: \", msg);\n                callback(fig, msg);\n            } catch (e) {\n                console.log(\"Exception inside the 'handler_\" + msg_type + \"' callback:\", e, e.stack, msg);\n            }\n        }\n    };\n}\n\n// from http://stackoverflow.com/questions/1114465/getting-mouse-location-in-canvas\nmpl.findpos = function(e) {\n    //this section is from http://www.quirksmode.org/js/events_properties.html\n    var targ;\n    if (!e)\n        e = window.event;\n    if (e.target)\n        targ = e.target;\n    else if (e.srcElement)\n        targ = e.srcElement;\n    if (targ.nodeType == 3) // defeat Safari bug\n        targ = targ.parentNode;\n\n    // jQuery normalizes the pageX and pageY\n    // pageX,Y are the mouse positions relative to the document\n    // offset() returns the position of the element relative to the document\n    var x = e.pageX - $(targ).offset().left;\n    var y = e.pageY - $(targ).offset().top;\n\n    return {\"x\": x, \"y\": y};\n};\n\n/*\n * return a copy of an object with only non-object keys\n * we need this to avoid circular references\n * http://stackoverflow.com/a/24161582/3208463\n */\nfunction simpleKeys (original) {\n  return Object.keys(original).reduce(function (obj, key) {\n    if (typeof original[key] !== 'object')\n        obj[key] = original[key]\n    return obj;\n  }, {});\n}\n\nmpl.figure.prototype.mouse_event = function(event, name) {\n    var canvas_pos = mpl.findpos(event)\n\n    if (name === 'button_press')\n    {\n        this.canvas.focus();\n        this.canvas_div.focus();\n    }\n\n    var x = canvas_pos.x;\n    var y = canvas_pos.y;\n\n    this.send_message(name, {x: x, y: y, button: event.button,\n                             step: event.step,\n                             guiEvent: simpleKeys(event)});\n\n    /* This prevents the web browser from automatically changing to\n     * the text insertion cursor when the button is pressed.  We want\n     * to control all of the cursor setting manually through the\n     * 'cursor' event from matplotlib */\n    event.preventDefault();\n    return false;\n}\n\nmpl.figure.prototype._key_event_extra = function(event, name) {\n    // Handle any extra behaviour associated with a key event\n}\n\nmpl.figure.prototype.key_event = function(event, name) {\n\n    // Prevent repeat events\n    if (name == 'key_press')\n    {\n        if (event.which === this._key)\n            return;\n        else\n            this._key = event.which;\n    }\n    if (name == 'key_release')\n        this._key = null;\n\n    var value = '';\n    if (event.ctrlKey && event.which != 17)\n        value += \"ctrl+\";\n    if (event.altKey && event.which != 18)\n        value += \"alt+\";\n    if (event.shiftKey && event.which != 16)\n        value += \"shift+\";\n\n    value += 'k';\n    value += event.which.toString();\n\n    this._key_event_extra(event, name);\n\n    this.send_message(name, {key: value,\n                             guiEvent: simpleKeys(event)});\n    return false;\n}\n\nmpl.figure.prototype.toolbar_button_onclick = function(name) {\n    if (name == 'download') {\n        this.handle_save(this, null);\n    } else {\n        this.send_message(\"toolbar_button\", {name: name});\n    }\n};\n\nmpl.figure.prototype.toolbar_button_onmouseover = function(tooltip) {\n    this.message.textContent = tooltip;\n};\nmpl.toolbar_items = [[\"Home\", \"Reset original view\", \"fa fa-home icon-home\", \"home\"], [\"Back\", \"Back to  previous view\", \"fa fa-arrow-left icon-arrow-left\", \"back\"], [\"Forward\", \"Forward to next view\", \"fa fa-arrow-right icon-arrow-right\", \"forward\"], [\"\", \"\", \"\", \"\"], [\"Pan\", \"Pan axes with left mouse, zoom with right\", \"fa fa-arrows icon-move\", \"pan\"], [\"Zoom\", \"Zoom to rectangle\", \"fa fa-square-o icon-check-empty\", \"zoom\"], [\"\", \"\", \"\", \"\"], [\"Download\", \"Download plot\", \"fa fa-floppy-o icon-save\", \"download\"]];\n\nmpl.extensions = [\"eps\", \"jpeg\", \"pdf\", \"png\", \"ps\", \"raw\", \"svg\", \"tif\"];\n\nmpl.default_extension = \"png\";var comm_websocket_adapter = function(comm) {\n    // Create a \"websocket\"-like object which calls the given IPython comm\n    // object with the appropriate methods. Currently this is a non binary\n    // socket, so there is still some room for performance tuning.\n    var ws = {};\n\n    ws.close = function() {\n        comm.close()\n    };\n    ws.send = function(m) {\n        //console.log('sending', m);\n        comm.send(m);\n    };\n    // Register the callback with on_msg.\n    comm.on_msg(function(msg) {\n        //console.log('receiving', msg['content']['data'], msg);\n        // Pass the mpl event to the overriden (by mpl) onmessage function.\n        ws.onmessage(msg['content']['data'])\n    });\n    return ws;\n}\n\nmpl.mpl_figure_comm = function(comm, msg) {\n    // This is the function which gets called when the mpl process\n    // starts-up an IPython Comm through the \"matplotlib\" channel.\n\n    var id = msg.content.data.id;\n    // Get hold of the div created by the display call when the Comm\n    // socket was opened in Python.\n    var element = $(\"#\" + id);\n    var ws_proxy = comm_websocket_adapter(comm)\n\n    function ondownload(figure, format) {\n        window.open(figure.imageObj.src);\n    }\n\n    var fig = new mpl.figure(id, ws_proxy,\n                           ondownload,\n                           element.get(0));\n\n    // Call onopen now - mpl needs it, as it is assuming we've passed it a real\n    // web socket which is closed, not our websocket->open comm proxy.\n    ws_proxy.onopen();\n\n    fig.parent_element = element.get(0);\n    fig.cell_info = mpl.find_output_cell(\"<div id='\" + id + \"'></div>\");\n    if (!fig.cell_info) {\n        console.error(\"Failed to find cell for figure\", id, fig);\n        return;\n    }\n\n    var output_index = fig.cell_info[2]\n    var cell = fig.cell_info[0];\n\n};\n\nmpl.figure.prototype.handle_close = function(fig, msg) {\n    fig.root.unbind('remove')\n\n    // Update the output cell to use the data from the current canvas.\n    fig.push_to_output();\n    var dataURL = fig.canvas.toDataURL();\n    // Re-enable the keyboard manager in IPython - without this line, in FF,\n    // the notebook keyboard shortcuts fail.\n    IPython.keyboard_manager.enable()\n    $(fig.parent_element).html('<img src=\"' + dataURL + '\">');\n    fig.close_ws(fig, msg);\n}\n\nmpl.figure.prototype.close_ws = function(fig, msg){\n    fig.send_message('closing', msg);\n    // fig.ws.close()\n}\n\nmpl.figure.prototype.push_to_output = function(remove_interactive) {\n    // Turn the data on the canvas into data in the output cell.\n    var dataURL = this.canvas.toDataURL();\n    this.cell_info[1]['text/html'] = '<img src=\"' + dataURL + '\">';\n}\n\nmpl.figure.prototype.updated_canvas_event = function() {\n    // Tell IPython that the notebook contents must change.\n    IPython.notebook.set_dirty(true);\n    this.send_message(\"ack\", {});\n    var fig = this;\n    // Wait a second, then push the new image to the DOM so\n    // that it is saved nicely (might be nice to debounce this).\n    setTimeout(function () { fig.push_to_output() }, 1000);\n}\n\nmpl.figure.prototype._init_toolbar = function() {\n    var fig = this;\n\n    var nav_element = $('<div/>')\n    nav_element.attr('style', 'width: 100%');\n    this.root.append(nav_element);\n\n    // Define a callback function for later on.\n    function toolbar_event(event) {\n        return fig.toolbar_button_onclick(event['data']);\n    }\n    function toolbar_mouse_event(event) {\n        return fig.toolbar_button_onmouseover(event['data']);\n    }\n\n    for(var toolbar_ind in mpl.toolbar_items){\n        var name = mpl.toolbar_items[toolbar_ind][0];\n        var tooltip = mpl.toolbar_items[toolbar_ind][1];\n        var image = mpl.toolbar_items[toolbar_ind][2];\n        var method_name = mpl.toolbar_items[toolbar_ind][3];\n\n        if (!name) { continue; };\n\n        var button = $('<button class=\"btn btn-default\" href=\"#\" title=\"' + name + '\"><i class=\"fa ' + image + ' fa-lg\"></i></button>');\n        button.click(method_name, toolbar_event);\n        button.mouseover(tooltip, toolbar_mouse_event);\n        nav_element.append(button);\n    }\n\n    // Add the status bar.\n    var status_bar = $('<span class=\"mpl-message\" style=\"text-align:right; float: right;\"/>');\n    nav_element.append(status_bar);\n    this.message = status_bar[0];\n\n    // Add the close button to the window.\n    var buttongrp = $('<div class=\"btn-group inline pull-right\"></div>');\n    var button = $('<button class=\"btn btn-mini btn-primary\" href=\"#\" title=\"Stop Interaction\"><i class=\"fa fa-power-off icon-remove icon-large\"></i></button>');\n    button.click(function (evt) { fig.handle_close(fig, {}); } );\n    button.mouseover('Stop Interaction', toolbar_mouse_event);\n    buttongrp.append(button);\n    var titlebar = this.root.find($('.ui-dialog-titlebar'));\n    titlebar.prepend(buttongrp);\n}\n\nmpl.figure.prototype._root_extra_style = function(el){\n    var fig = this\n    el.on(\"remove\", function(){\n\tfig.close_ws(fig, {});\n    });\n}\n\nmpl.figure.prototype._canvas_extra_style = function(el){\n    // this is important to make the div 'focusable\n    el.attr('tabindex', 0)\n    // reach out to IPython and tell the keyboard manager to turn it's self\n    // off when our div gets focus\n\n    // location in version 3\n    if (IPython.notebook.keyboard_manager) {\n        IPython.notebook.keyboard_manager.register_events(el);\n    }\n    else {\n        // location in version 2\n        IPython.keyboard_manager.register_events(el);\n    }\n\n}\n\nmpl.figure.prototype._key_event_extra = function(event, name) {\n    var manager = IPython.notebook.keyboard_manager;\n    if (!manager)\n        manager = IPython.keyboard_manager;\n\n    // Check for shift+enter\n    if (event.shiftKey && event.which == 13) {\n        this.canvas_div.blur();\n        event.shiftKey = false;\n        // Send a \"J\" for go to next cell\n        event.which = 74;\n        event.keyCode = 74;\n        manager.command_mode();\n        manager.handle_keydown(event);\n    }\n}\n\nmpl.figure.prototype.handle_save = function(fig, msg) {\n    fig.ondownload(fig, null);\n}\n\n\nmpl.find_output_cell = function(html_output) {\n    // Return the cell and output element which can be found *uniquely* in the notebook.\n    // Note - this is a bit hacky, but it is done because the \"notebook_saving.Notebook\"\n    // IPython event is triggered only after the cells have been serialised, which for\n    // our purposes (turning an active figure into a static one), is too late.\n    var cells = IPython.notebook.get_cells();\n    var ncells = cells.length;\n    for (var i=0; i<ncells; i++) {\n        var cell = cells[i];\n        if (cell.cell_type === 'code'){\n            for (var j=0; j<cell.output_area.outputs.length; j++) {\n                var data = cell.output_area.outputs[j];\n                if (data.data) {\n                    // IPython >= 3 moved mimebundle to data attribute of output\n                    data = data.data;\n                }\n                if (data['text/html'] == html_output) {\n                    return [cell, data, j];\n                }\n            }\n        }\n    }\n}\n\n// Register the function which deals with the matplotlib target/channel.\n// The kernel may be null if the page has been refreshed.\nif (IPython.notebook.kernel != null) {\n    IPython.notebook.kernel.comm_manager.register_target('matplotlib', mpl.mpl_figure_comm);\n}\n", 
                        "text/plain": "<IPython.core.display.Javascript object>"
                    }, 
                    "metadata": {}
                }, 
                {
                    "output_type": "display_data", 
                    "data": {
                        "text/html": "<img src=\"data:image/png;base64,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\">", 
                        "text/plain": "<IPython.core.display.HTML object>"
                    }, 
                    "metadata": {}
                }, 
                {
                    "execution_count": 206, 
                    "metadata": {}, 
                    "data": {
                        "text/plain": "<matplotlib.axes._subplots.AxesSubplot at 0x7f86afafc4e0>"
                    }, 
                    "output_type": "execute_result"
                }
            ], 
            "source": "# for training set\nprediction = model1.transform(test)\n#create dataframe subset, change label type to Double because MulticlassMetrics needs it\nsub_df=prediction.select('prediction','label')\nfrom pyspark.sql.types import *\nsub_df = sub_df.withColumn(\"label\",sub_df.label.cast(DoubleType()))\nmetrics = MulticlassMetrics(sub_df.rdd)\n\nprecision = metrics.precision()\nprint('precision for test set',precision)\n\nconf_matix = metrics.confusionMatrix()\n\nsns.plt.figure(2)\nsns.plt.title('Confusion matrix for test set')\nsns.heatmap(conf_matix.toArray(),annot=True,xticklabels=['mal','nomal'],yticklabels=['mal','nomal'])"
        }, 
        {
            "execution_count": null, 
            "cell_type": "code", 
            "metadata": {}, 
            "outputs": [], 
            "source": ""
        }, 
        {
            "execution_count": 207, 
            "cell_type": "code", 
            "metadata": {}, 
            "outputs": [
                {
                    "execution_count": 207, 
                    "metadata": {}, 
                    "data": {
                        "text/plain": "[Row(threshold=0.9999860865055983, precision=1.0),\n Row(threshold=0.9998865015990435, precision=1.0)]"
                    }, 
                    "output_type": "execute_result"
                }
            ], 
            "source": "# other metrics\ntrainingSummary.precisionByThreshold.head(2)"
        }, 
        {
            "execution_count": 42, 
            "cell_type": "code", 
            "metadata": {}, 
            "outputs": [
                {
                    "output_type": "stream", 
                    "name": "stdout", 
                    "text": "objectiveHistory:\n0.663290983016916\n0.6395077024403582\n0.5860131266397499\n0.30976029170081315\n0.24315122796649877\n0.18716508035919976\n0.1484750251789742\n0.1273782236544272\n0.1220421683124528\n0.12114826535827738\n0.12060196229969722\n"
                }
            ], 
            "source": "# Obtain the objective (function)? per iteration\nobjectiveHistory = trainingSummary.objectiveHistory\nprint(\"objectiveHistory:\")\nfor objective in objectiveHistory:\n    print(objective)"
        }, 
        {
            "execution_count": 43, 
            "cell_type": "code", 
            "metadata": {}, 
            "outputs": [
                {
                    "output_type": "stream", 
                    "name": "stdout", 
                    "text": "+---+--------------------+\n|FPR|                 TPR|\n+---+--------------------+\n|0.0|                 0.0|\n|0.0|0.015772870662460567|\n|0.0|0.031545741324921134|\n|0.0|  0.0473186119873817|\n|0.0| 0.06309148264984227|\n|0.0| 0.07886435331230283|\n|0.0|  0.0946372239747634|\n|0.0| 0.11041009463722397|\n|0.0| 0.12618296529968454|\n|0.0| 0.14195583596214512|\n|0.0| 0.15772870662460567|\n|0.0| 0.17350157728706625|\n|0.0|  0.1892744479495268|\n|0.0| 0.20504731861198738|\n|0.0| 0.22082018927444794|\n|0.0| 0.23659305993690852|\n|0.0| 0.25236593059936907|\n|0.0| 0.26813880126182965|\n|0.0| 0.28391167192429023|\n|0.0|  0.2996845425867508|\n+---+--------------------+\nonly showing top 20 rows\n\nareaUnderROC: 0.9981530213628413\n"
                }
            ], 
            "source": "# Obtain the receiver-operating characteristic as a dataframe and areaUnderROC.\ntrainingSummary.roc.show()\nprint(\"areaUnderROC: \" + str(trainingSummary.areaUnderROC))"
        }, 
        {
            "execution_count": 208, 
            "cell_type": "code", 
            "metadata": {}, 
            "outputs": [], 
            "source": "# for changing paraeters:"
        }, 
        {
            "execution_count": null, 
            "cell_type": "code", 
            "metadata": {}, 
            "outputs": [], 
            "source": "# We may alternatively specify parameters using a Python dictionary as a paramMap\nparamMap = {lr.maxIter: 20}\nparamMap[lr.maxIter] = 30  # Specify 1 Param, overwriting the original maxIter.\nparamMap.update({lr.regParam: 0.1, lr.threshold: 0.55})  # Specify multiple Params.\n\n# You can combine paramMaps, which are python dictionaries.\nparamMap2 = {lr.probabilityCol: \"myProbability\"}  # Change output column name\nparamMapCombined = paramMap.copy()\nparamMapCombined.update(paramMap2)"
        }, 
        {
            "execution_count": 209, 
            "cell_type": "code", 
            "metadata": {}, 
            "outputs": [
                {
                    "ename": "NameError", 
                    "evalue": "name 'df_spark' is not defined", 
                    "traceback": [
                        "\u001b[1;31m\u001b[0m", 
                        "\u001b[1;31mNameError\u001b[0mTraceback (most recent call last)", 
                        "\u001b[1;32m<ipython-input-209-8edaa2bd60f1>\u001b[0m in \u001b[0;36m<module>\u001b[1;34m()\u001b[0m\n\u001b[0;32m      1\u001b[0m \u001b[1;31m#describe all data\u001b[0m\u001b[1;33m\u001b[0m\u001b[1;33m\u001b[0m\u001b[0m\n\u001b[1;32m----> 2\u001b[1;33m \u001b[0mdf_spark\u001b[0m\u001b[1;33m.\u001b[0m\u001b[0mdescribe\u001b[0m\u001b[1;33m(\u001b[0m\u001b[1;33m)\u001b[0m\u001b[1;33m.\u001b[0m\u001b[0mshow\u001b[0m\u001b[1;33m(\u001b[0m\u001b[1;33m)\u001b[0m\u001b[1;33m\u001b[0m\u001b[0m\n\u001b[0m", 
                        "\u001b[1;31mNameError\u001b[0m: name 'df_spark' is not defined"
                    ], 
                    "output_type": "error"
                }
            ], 
            "source": "#describe all data\n"
        }, 
        {
            "execution_count": null, 
            "cell_type": "code", 
            "metadata": {}, 
            "outputs": [], 
            "source": ""
        }
    ], 
    "metadata": {
        "kernelspec": {
            "display_name": "Python 3.5 (Experimental) with Spark 2.0", 
            "name": "python3-spark20", 
            "language": "python"
        }, 
        "language_info": {
            "mimetype": "text/x-python", 
            "nbconvert_exporter": "python", 
            "version": "3.5.2", 
            "name": "python", 
            "file_extension": ".py", 
            "pygments_lexer": "ipython3", 
            "codemirror_mode": {
                "version": 3, 
                "name": "ipython"
            }
        }
    }, 
    "nbformat": 4
}