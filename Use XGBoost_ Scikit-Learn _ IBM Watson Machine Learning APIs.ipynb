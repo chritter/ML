{
    "nbformat_minor": 1, 
    "cells": [
        {
            "source": "<table style=\"border: none\" align=\"left\">\n   <tr style=\"border: none\">\n      <th style=\"text-align: left;border: none\"><font face=\"verdana\" size=\"5\" color=\"black\"><b>Train and deploy a heart disease prediction model using XGBoost and IBM Watson Machine Learning APIs</b></th>\n      <th style=\"border: none\"><img src=\"https://github.com/pmservice/customer-satisfaction-prediction/blob/master/app/static/images/ml_icon_gray.png?raw=true\" alt=\"Watson Machine Learning icon\" height=\"40\" width=\"40\"></th>\n   </tr>\n   <tr style=\"border: none\">\n       <th style=\"border: none\"><img src=\"https://github.com/pmservice/drug-selection/raw/master/images/heart_banner.png\" width=\"600\" alt=\"Icon\"> </th>\n   </tr>\n</table>", 
            "cell_type": "markdown", 
            "metadata": {}
        }, 
        {
            "source": "This notebook demonstrates how to train a model using the XGBoost library to classify whether a person has heart disease or not. In addition to training, the notebook also explains how to persist a trained model to IBM Watson Machine Learning repository, deploy the model as a REST service and to predict using the deployed model using the REST APIs.  \n\nIn order to train and test the heart disease prediction model, you will be using an open source data set published in the University of California, Irvine (UCI) Machine Learning Repository. \n\nThis notebook uses Python 3.5 runtime, XGBoost 0.6 and Scikit-Learn 0.17.", 
            "cell_type": "markdown", 
            "metadata": {}
        }, 
        {
            "source": "## Learning goals\n\nThe learning goals of this notebook are:\n\n-  Load a CSV file into Pandas DataFrame.\n-  Prepare data for training and evaluation.\n-  Create DMatrix from a Pandas DataFrame.\n-  Create, train and evaluate a XGBoost model.\n-  Vizualize a decision trees used by the model.\n-  Vizualize the importance of features that were used to train the model.\n-  Persist a model in Watson Machine Learning repository using Python client library.\n-  Deploy a model for online scoring using the Watson Machine Learning's REST APIs\n-  Score a sample scoring data using the Watson Machine Learning's REST APIs.\n\n", 
            "cell_type": "markdown", 
            "metadata": {}
        }, 
        {
            "source": "## Table of contents\nThis notebook contains the following sections:\n\n1.\t[Setup](#setup)\n2.\t[Load and explore data](#load)\n3.\t[Create XGBoost model](#model)\n4.\t[Persist model](#persistence)\n5.\t[Deploy and score in a Cloud](#scoring)\n6.\t[Summary and next steps](#summary)", 
            "cell_type": "markdown", 
            "metadata": {}
        }, 
        {
            "source": "<a id=\"setup\"></a>\n## 1. Setup\n\nBefore you execute the sample code in this notebook, you must perform the following setup tasks:\n\n-  Create a [Watson Machine Learning Service](https://console.ng.bluemix.net/catalog/services/ibm-watson-machine-learning/) instance (a free plan is offered). \n-  Download **Heart Disease Data Set** data in the Notebook's local filesystem\n-  Make sure that you are using a Spark 2.0 kernel.\n\n### Download Heart Disease Data Set  to Notebook's local filesystem\nHeart Disease Data Set is a freely available data set on the UCI Machine Learning Repository portal.\n\n1.  The **Heart Disease Data Set** is hosted [here](http://archive.ics.uci.edu/ml/machine-learning-databases/heart-disease/processed.cleveland.data).\n2.  In the following cell, replace the `link_to_data` variable value with the URL mentioned above.\n", 
            "cell_type": "markdown", 
            "metadata": {}
        }, 
        {
            "source": "In order to download the data from UCI Machine Learning Repository, use the `wget` library. Please install this library if have you have not installed it already. Use the following command to install the `wget` library: `!pip install wget --user` ", 
            "cell_type": "markdown", 
            "metadata": {}
        }, 
        {
            "source": "!pip install wget --user", 
            "cell_type": "code", 
            "metadata": {}, 
            "outputs": [
                {
                    "output_type": "stream", 
                    "name": "stdout", 
                    "text": "Requirement already satisfied: wget in /gpfs/global_fs01/sym_shared/YPProdSpark/user/s021-08766e6db051ab-1741987fe625/.local/lib/python3.5/site-packages\r\n"
                }
            ], 
            "execution_count": 1
        }, 
        {
            "source": "Now, the code in the cell below downloads the data set and saves it in the local filesystem. The name of downloaded file containing the data will be displayed in the output of this cell.", 
            "cell_type": "markdown", 
            "metadata": {}
        }, 
        {
            "source": "import wget\n\nlink_to_data = 'http://archive.ics.uci.edu/ml/machine-learning-databases/heart-disease/processed.cleveland.data'\nClevelandDataSet = wget.download(link_to_data)\n\nprint(ClevelandDataSet)", 
            "cell_type": "code", 
            "metadata": {}, 
            "outputs": [
                {
                    "output_type": "stream", 
                    "name": "stdout", 
                    "text": "processed.cleveland.data\n"
                }
            ], 
            "execution_count": 2
        }, 
        {
            "source": "!head processed.cleveland.data", 
            "cell_type": "code", 
            "metadata": {}, 
            "outputs": [
                {
                    "output_type": "stream", 
                    "name": "stdout", 
                    "text": "63.0,1.0,1.0,145.0,233.0,1.0,2.0,150.0,0.0,2.3,3.0,0.0,6.0,0\r\n67.0,1.0,4.0,160.0,286.0,0.0,2.0,108.0,1.0,1.5,2.0,3.0,3.0,2\r\n67.0,1.0,4.0,120.0,229.0,0.0,2.0,129.0,1.0,2.6,2.0,2.0,7.0,1\r\n37.0,1.0,3.0,130.0,250.0,0.0,0.0,187.0,0.0,3.5,3.0,0.0,3.0,0\r\n41.0,0.0,2.0,130.0,204.0,0.0,2.0,172.0,0.0,1.4,1.0,0.0,3.0,0\r\n56.0,1.0,2.0,120.0,236.0,0.0,0.0,178.0,0.0,0.8,1.0,0.0,3.0,0\r\n62.0,0.0,4.0,140.0,268.0,0.0,2.0,160.0,0.0,3.6,3.0,2.0,3.0,3\r\n57.0,0.0,4.0,120.0,354.0,0.0,0.0,163.0,1.0,0.6,1.0,0.0,3.0,0\r\n63.0,1.0,4.0,130.0,254.0,0.0,2.0,147.0,0.0,1.4,2.0,1.0,7.0,2\r\n53.0,1.0,4.0,140.0,203.0,1.0,2.0,155.0,1.0,3.1,3.0,0.0,7.0,1\r\n"
                }
            ], 
            "execution_count": 10
        }, 
        {
            "source": "The .csv file, **processed.cleveland.data**, that contains the heart disease data set is now availble on your local gpfs filesystem. ", 
            "cell_type": "markdown", 
            "metadata": {}
        }, 
        {
            "source": "The downloaded data set contains the following attributes pertaining to heart disease.\n\n### Data set Details:\n1. age - age in years\n2. sex - sex(1 =  male; 0 = female)\n3. cp - chest pain type (1 = typical angina; 2 = atypical angina; 3 = non-anginal pain; 4 = asymptomatic)\n4. trestbps - resting blood pressure (in mm Hg on admission to the hospital)\n5. chol - serum cholestoral in mg/dl\n6. fbs - fasting blood sugar > 120 mg/dl (1 = true; 0 = false)\n7. restecg - resting electrocardiographic results (0 = normal; 1 = having ST-T; 2 = hypertrophy)\n8. thalach - maximum heart rate achieved\n9. exang - exercise induced angina (1 = yes; 0 = no)\n10. oldpeak - ST depression induced by exercise relative to rest\n11. slope - the slope of the peak exercise ST segment (1 = upsloping; 2 = flat; 3 = downsloping)\n12. ca - number of major vessels (0-3) colored by flourosopy\n13. thal - 3 = normal; 6 = fixed defect; 7 = reversable defect\n14. num - the predicted attribute - diagnosis of heart disease (angiographic disease status) (Value 0 = < 50% diameter narrowing; Value 1 = > 50% diameter narrowing)\n", 
            "cell_type": "markdown", 
            "metadata": {}
        }, 
        {
            "source": "## How to add this data on gpfs to the object storage?", 
            "cell_type": "markdown", 
            "metadata": {}
        }, 
        {
            "source": "# @hidden_cell\n# The following code contains the credentials for a file in your IBM Cloud Object Storage.\n# You might want to remove those credentials before you share your notebook.\noscredential = {\n    'IBM_API_KEY_ID': 'loMFaVs2IMGcHX6VOhtUOTcoefFcd_jL7A2E7Dvn7HfF',\n    'IAM_SERVICE_ID': 'iam-ServiceId-5283c20a-0811-43ec-9e27-271f0c96f146',\n    'ENDPOINT': 'https://s3-api.us-geo.objectstorage.service.networklayer.com',\n    'IBM_AUTH_ENDPOINT': 'https://iam.ng.bluemix.net/oidc/token',\n    'BUCKET': 'tests44c734db65ba4a57ba38d34b597e5326',\n    'FILE': '2017.csv'\n}", 
            "cell_type": "code", 
            "metadata": {}, 
            "outputs": [], 
            "execution_count": 11
        }, 
        {
            "source": "\n# @hidden_cell\n# The following code contains the credentials for a file in your IBM Cloud Object Storage.\n# You might want to remove those credentials before you share your notebook.\ncredentials = {\n    'IBM_API_KEY_ID': 'loMFaVs2IMGcHX6VOhtUOTcoefFcd_jL7A2E7Dvn7HfF',\n    'IAM_SERVICE_ID': 'iam-ServiceId-5283c20a-0811-43ec-9e27-271f0c96f146',\n    'ENDPOINT': 'https://s3-api.us-geo.objectstorage.service.networklayer.com',\n    'IBM_AUTH_ENDPOINT': 'https://iam.ng.bluemix.net/oidc/token',\n    'BUCKET': 'tests44c734db65ba4a57ba38d34b597e5326',\n    'FILE': '2017.csv',\n  \"url\": \"https://ibm-watson-ml.mybluemix.net\",\n  \"access_key\": \"Prv7oplbRx/pM7NwmeRnHlFU64N3MH9o0fwL1MKQD71tYZwrUeug2CwB3XIwdsFOHxGxQ3pIogjgEOjN0TGDTcL0h32gVzPkwMbmHXNpi+FQYUqQmv73SQJrb1WXWeZv\",\n  \"username\": \"f6677502-c1ce-4c6d-a0e6-fe202c8c6e9f\",\n  \"password\": \"a963b3a8-772f-44fb-9ea5-37658d8a1689\",\n  \"instance_id\": \"03ce7b4b-a821-43e0-848b-70edadda4e8b\"\n}\n", 
            "cell_type": "code", 
            "metadata": {}, 
            "outputs": [], 
            "execution_count": 38
        }, 
        {
            "source": "import requests\ndef put_file(credentials, local_file_name,outputfilename):  \n    f = open(local_file_name,'r')\n    my_data = f.read()\n    data_to_send = my_data\n    url1 = ''.join(['https://identity.open.softlayer.com', '/v3/auth/tokens'])\n    data = {'auth': {'identity': {'methods': ['password'],\n            'password': {'user': {'name': credentials['username'],'domain': {'id': credentials['instance_id']},\n            'password': credentials['password']}}}}}\n    headers1 = {'Content-Type': 'application/json'}\n    resp1 = requests.post(url=url1, data=json.dumps(data), headers=headers1)\n    resp1_body = resp1.json()\n    print(resp1_body)\n    for e1 in resp1_body['token']['catalog']:\n        if(e1['type']=='object-store'):\n            for e2 in e1['endpoints']:\n                        if(e2['interface']=='public'and e2['region']=='dallas'):\n                            url2 = ''.join([e2['url'],'/', credentials['container'], '/',  outputfilename])\n                            print(url2)\n    s_subject_token = resp1.headers['x-subject-token']\n    #print(s_subject_token)\n    #print(credentials['container'])\n    headers2 = {'X-Auth-Token': s_subject_token, 'accept': 'application/json'}\n    resp2 = requests.put(url=url2, headers=headers2, data = data_to_send)\n    print(resp2)", 
            "cell_type": "code", 
            "metadata": {}, 
            "outputs": [], 
            "execution_count": 41
        }, 
        {
            "source": "localfilename='processed.cleveland.data'\nfile_to_write_to_os=localfilename\nput_file(credentials,localfilename,file_to_write_to_os)", 
            "cell_type": "code", 
            "metadata": {}, 
            "outputs": [
                {
                    "output_type": "stream", 
                    "name": "stdout", 
                    "text": "{'error': {'title': 'Unauthorized', 'code': 401, 'message': 'The request you have made requires authentication.'}}\n"
                }, 
                {
                    "output_type": "error", 
                    "evalue": "'token'", 
                    "traceback": [
                        "\u001b[0;31m---------------------------------------------------------------------------\u001b[0m", 
                        "\u001b[0;31mKeyError\u001b[0m                                  Traceback (most recent call last)", 
                        "\u001b[0;32m<ipython-input-42-458fc0800dba>\u001b[0m in \u001b[0;36m<module>\u001b[0;34m()\u001b[0m\n\u001b[1;32m      1\u001b[0m \u001b[0mlocalfilename\u001b[0m\u001b[0;34m=\u001b[0m\u001b[0;34m'processed.cleveland.data'\u001b[0m\u001b[0;34m\u001b[0m\u001b[0m\n\u001b[1;32m      2\u001b[0m \u001b[0mfile_to_write_to_os\u001b[0m\u001b[0;34m=\u001b[0m\u001b[0mlocalfilename\u001b[0m\u001b[0;34m\u001b[0m\u001b[0m\n\u001b[0;32m----> 3\u001b[0;31m \u001b[0mput_file\u001b[0m\u001b[0;34m(\u001b[0m\u001b[0mcredentials\u001b[0m\u001b[0;34m,\u001b[0m\u001b[0mlocalfilename\u001b[0m\u001b[0;34m,\u001b[0m\u001b[0mfile_to_write_to_os\u001b[0m\u001b[0;34m)\u001b[0m\u001b[0;34m\u001b[0m\u001b[0m\n\u001b[0m", 
                        "\u001b[0;32m<ipython-input-41-0191c00e7482>\u001b[0m in \u001b[0;36mput_file\u001b[0;34m(credentials, local_file_name, outputfilename)\u001b[0m\n\u001b[1;32m     12\u001b[0m     \u001b[0mresp1_body\u001b[0m \u001b[0;34m=\u001b[0m \u001b[0mresp1\u001b[0m\u001b[0;34m.\u001b[0m\u001b[0mjson\u001b[0m\u001b[0;34m(\u001b[0m\u001b[0;34m)\u001b[0m\u001b[0;34m\u001b[0m\u001b[0m\n\u001b[1;32m     13\u001b[0m     \u001b[0mprint\u001b[0m\u001b[0;34m(\u001b[0m\u001b[0mresp1_body\u001b[0m\u001b[0;34m)\u001b[0m\u001b[0;34m\u001b[0m\u001b[0m\n\u001b[0;32m---> 14\u001b[0;31m     \u001b[0;32mfor\u001b[0m \u001b[0me1\u001b[0m \u001b[0;32min\u001b[0m \u001b[0mresp1_body\u001b[0m\u001b[0;34m[\u001b[0m\u001b[0;34m'token'\u001b[0m\u001b[0;34m]\u001b[0m\u001b[0;34m[\u001b[0m\u001b[0;34m'catalog'\u001b[0m\u001b[0;34m]\u001b[0m\u001b[0;34m:\u001b[0m\u001b[0;34m\u001b[0m\u001b[0m\n\u001b[0m\u001b[1;32m     15\u001b[0m         \u001b[0;32mif\u001b[0m\u001b[0;34m(\u001b[0m\u001b[0me1\u001b[0m\u001b[0;34m[\u001b[0m\u001b[0;34m'type'\u001b[0m\u001b[0;34m]\u001b[0m\u001b[0;34m==\u001b[0m\u001b[0;34m'object-store'\u001b[0m\u001b[0;34m)\u001b[0m\u001b[0;34m:\u001b[0m\u001b[0;34m\u001b[0m\u001b[0m\n\u001b[1;32m     16\u001b[0m             \u001b[0;32mfor\u001b[0m \u001b[0me2\u001b[0m \u001b[0;32min\u001b[0m \u001b[0me1\u001b[0m\u001b[0;34m[\u001b[0m\u001b[0;34m'endpoints'\u001b[0m\u001b[0;34m]\u001b[0m\u001b[0;34m:\u001b[0m\u001b[0;34m\u001b[0m\u001b[0m\n", 
                        "\u001b[0;31mKeyError\u001b[0m: 'token'"
                    ], 
                    "ename": "KeyError"
                }
            ], 
            "execution_count": 42
        }, 
        {
            "source": "<a id=\"load\"></a>\n## 2. Load and explore data", 
            "cell_type": "markdown", 
            "metadata": {}
        }, 
        {
            "source": "In this section you will load the data as a Pandas data frame and perform a basic exploration.\n", 
            "cell_type": "markdown", 
            "metadata": {}
        }, 
        {
            "source": "Load the data in the .csv file, **processed.cleveland.data**, into a Pandas data frame by running the following code:", 
            "cell_type": "markdown", 
            "metadata": {}
        }, 
        {
            "source": "import pandas as pd", 
            "cell_type": "code", 
            "metadata": {}, 
            "outputs": [], 
            "execution_count": 43
        }, 
        {
            "source": "col_names = ['age','sex','cp','restbp','chol','fbs','restecg','thalach','exang','oldpeak','slope','ca','thal','num']\n\nheart_data_df = pd.read_csv(ClevelandDataSet, sep=',', header=None, names=col_names, na_filter= True, na_values= {'ca': '?', 'thal': '?'})\nheart_data_df.head()", 
            "cell_type": "code", 
            "metadata": {}, 
            "outputs": [
                {
                    "output_type": "execute_result", 
                    "data": {
                        "text/plain": "    age  sex   cp  restbp   chol  fbs  restecg  thalach  exang  oldpeak  \\\n0  63.0  1.0  1.0   145.0  233.0  1.0      2.0    150.0    0.0      2.3   \n1  67.0  1.0  4.0   160.0  286.0  0.0      2.0    108.0    1.0      1.5   \n2  67.0  1.0  4.0   120.0  229.0  0.0      2.0    129.0    1.0      2.6   \n3  37.0  1.0  3.0   130.0  250.0  0.0      0.0    187.0    0.0      3.5   \n4  41.0  0.0  2.0   130.0  204.0  0.0      2.0    172.0    0.0      1.4   \n\n   slope   ca  thal  num  \n0    3.0  0.0   6.0    0  \n1    2.0  3.0   3.0    2  \n2    2.0  2.0   7.0    1  \n3    3.0  0.0   3.0    0  \n4    1.0  0.0   3.0    0  ", 
                        "text/html": "<div>\n<style scoped>\n    .dataframe tbody tr th:only-of-type {\n        vertical-align: middle;\n    }\n\n    .dataframe tbody tr th {\n        vertical-align: top;\n    }\n\n    .dataframe thead th {\n        text-align: right;\n    }\n</style>\n<table border=\"1\" class=\"dataframe\">\n  <thead>\n    <tr style=\"text-align: right;\">\n      <th></th>\n      <th>age</th>\n      <th>sex</th>\n      <th>cp</th>\n      <th>restbp</th>\n      <th>chol</th>\n      <th>fbs</th>\n      <th>restecg</th>\n      <th>thalach</th>\n      <th>exang</th>\n      <th>oldpeak</th>\n      <th>slope</th>\n      <th>ca</th>\n      <th>thal</th>\n      <th>num</th>\n    </tr>\n  </thead>\n  <tbody>\n    <tr>\n      <th>0</th>\n      <td>63.0</td>\n      <td>1.0</td>\n      <td>1.0</td>\n      <td>145.0</td>\n      <td>233.0</td>\n      <td>1.0</td>\n      <td>2.0</td>\n      <td>150.0</td>\n      <td>0.0</td>\n      <td>2.3</td>\n      <td>3.0</td>\n      <td>0.0</td>\n      <td>6.0</td>\n      <td>0</td>\n    </tr>\n    <tr>\n      <th>1</th>\n      <td>67.0</td>\n      <td>1.0</td>\n      <td>4.0</td>\n      <td>160.0</td>\n      <td>286.0</td>\n      <td>0.0</td>\n      <td>2.0</td>\n      <td>108.0</td>\n      <td>1.0</td>\n      <td>1.5</td>\n      <td>2.0</td>\n      <td>3.0</td>\n      <td>3.0</td>\n      <td>2</td>\n    </tr>\n    <tr>\n      <th>2</th>\n      <td>67.0</td>\n      <td>1.0</td>\n      <td>4.0</td>\n      <td>120.0</td>\n      <td>229.0</td>\n      <td>0.0</td>\n      <td>2.0</td>\n      <td>129.0</td>\n      <td>1.0</td>\n      <td>2.6</td>\n      <td>2.0</td>\n      <td>2.0</td>\n      <td>7.0</td>\n      <td>1</td>\n    </tr>\n    <tr>\n      <th>3</th>\n      <td>37.0</td>\n      <td>1.0</td>\n      <td>3.0</td>\n      <td>130.0</td>\n      <td>250.0</td>\n      <td>0.0</td>\n      <td>0.0</td>\n      <td>187.0</td>\n      <td>0.0</td>\n      <td>3.5</td>\n      <td>3.0</td>\n      <td>0.0</td>\n      <td>3.0</td>\n      <td>0</td>\n    </tr>\n    <tr>\n      <th>4</th>\n      <td>41.0</td>\n      <td>0.0</td>\n      <td>2.0</td>\n      <td>130.0</td>\n      <td>204.0</td>\n      <td>0.0</td>\n      <td>2.0</td>\n      <td>172.0</td>\n      <td>0.0</td>\n      <td>1.4</td>\n      <td>1.0</td>\n      <td>0.0</td>\n      <td>3.0</td>\n      <td>0</td>\n    </tr>\n  </tbody>\n</table>\n</div>"
                    }, 
                    "execution_count": 44, 
                    "metadata": {}
                }
            ], 
            "execution_count": 44
        }, 
        {
            "source": "Let us see how many attributes and samples we have in this data set", 
            "cell_type": "markdown", 
            "metadata": {}
        }, 
        {
            "source": "(samples, attributes) = heart_data_df.shape\nprint(\"No. of Sample data =\", samples )\nprint(\"No. of Attributes  =\", attributes)", 
            "cell_type": "code", 
            "metadata": {}, 
            "outputs": [
                {
                    "output_type": "stream", 
                    "name": "stdout", 
                    "text": "No. of Sample data = 303\nNo. of Attributes  = 14\n"
                }
            ], 
            "execution_count": 45
        }, 
        {
            "source": "We have 303 rows of sample data with 14 columns of data per sample.", 
            "cell_type": "markdown", 
            "metadata": {}
        }, 
        {
            "source": "<a id=\"create\"></a>\n## 3. Create an XGBoost model", 
            "cell_type": "markdown", 
            "metadata": {}
        }, 
        {
            "source": "In recent years, ensemble learning models took the lead and became popular among machine learning practitioners.\n\nEnsemble learning model employs multiple machine learning algorithms to overcome the potential weaknesses of a single model. For example, if you are going to pick a destination for your next vacation, you probably ask your family and friends, read reviews and blog posts. Based on all the information you have gathered, you make your final decision.\n\nThis phenomenon is referred as the Wisdom of Crowds (WOC) in social sciences and it states that averaging the answers (prediction or probability) of a group will often result better than the answer of one of its members. The idea is that the collective knowledge of diverse and independent individuals will exceed the knowledge of any one of those individuals, helping to eliminate the noise.\n\nXGBoost is an open source library for ensemble based algorithms. It can be used for classification, regression and ranking type of problems. XGBoost supports multiple languages, such as C++, Python, R, and Java. \n\nThe Python library of XGBoost supports the following API interfaces to train and predict a model, also referred to as a `Booster`: \n- XGBoost's native APIs pertaining to the `xgboost` package, such as `xgboost.train()` or `xgboost.Booster`\n- Scikit-Learn based Wrapper APIs: `xgboost.sklearn.XGBClassifier` and `xgboost.sklearn.XGBRegressor`\n\nDetails about using the scikit-learn based Wrapper APIs to create and predict an XGBoost model is explained in the the [Classify tumors with machine learning](https://apsportal.ibm.com/exchange/public/entry/view/ac820b22cc976f5cf6487260f4c8d9c8) notebook.\n\nIn this section you will learn how to train and test an XGBoost model using XGBoost's native python APIs. ", 
            "cell_type": "markdown", 
            "metadata": {}
        }, 
        {
            "source": "First, you must import the required libraries.", 
            "cell_type": "markdown", 
            "metadata": {}
        }, 
        {
            "source": "import xgboost as xgb\n\nimport pandas as pd\n\nfrom sklearn import cross_validation\nfrom sklearn.metrics import accuracy_score\n\nfrom matplotlib import pyplot\nimport pprint\n%matplotlib inline", 
            "cell_type": "code", 
            "metadata": {}, 
            "outputs": [
                {
                    "output_type": "stream", 
                    "name": "stderr", 
                    "text": "/usr/local/src/conda3_runtime/home/envs/DSX-Python35-Spark/lib/python3.5/site-packages/sklearn/cross_validation.py:41: DeprecationWarning: This module was deprecated in version 0.18 in favor of the model_selection module into which all the refactored classes and functions are moved. Also note that the interface of the new CV iterators are different from that of this module. This module will be removed in 0.20.\n  \"This module will be removed in 0.20.\", DeprecationWarning)\n"
                }
            ], 
            "execution_count": 46
        }, 
        {
            "source": "### 3.1: Prepare data", 
            "cell_type": "markdown", 
            "metadata": {}
        }, 
        {
            "source": "In this section, clean and transform the data in the Pandas data frame into the data that can be given as input for training the model. \n", 
            "cell_type": "markdown", 
            "metadata": {}
        }, 
        {
            "source": "#### 3.1.1: Cleanse the data\nFirst, check if there are any null data in our dataset and remove the corresponding rows.", 
            "cell_type": "markdown", 
            "metadata": {}
        }, 
        {
            "source": "print(\"List of features with their corresponding count of null values : \")\nprint(\"---------------------------------------------------------------- \")\nprint(heart_data_df.isnull().sum())", 
            "cell_type": "code", 
            "metadata": {}, 
            "outputs": [
                {
                    "output_type": "stream", 
                    "name": "stdout", 
                    "text": "List of features with their corresponding count of null values : \n---------------------------------------------------------------- \nage        0\nsex        0\ncp         0\nrestbp     0\nchol       0\nfbs        0\nrestecg    0\nthalach    0\nexang      0\noldpeak    0\nslope      0\nca         4\nthal       2\nnum        0\ndtype: int64\n"
                }
            ], 
            "execution_count": 47
        }, 
        {
            "source": "From the output of the above cell, there are 6 occurrences where there are null values. The rows containing these null values can be removed so that the data set does not have any incomplete data. The cell below contains the command to remove the rows that contain these null values.", 
            "cell_type": "markdown", 
            "metadata": {}
        }, 
        {
            "source": "heart_data_df = heart_data_df.dropna(how='any',axis=0)", 
            "cell_type": "code", 
            "metadata": {}, 
            "outputs": [], 
            "execution_count": 48
        }, 
        {
            "source": "#### 3.1.2: Prepare the target data and feature columns", 
            "cell_type": "markdown", 
            "metadata": {}
        }, 
        {
            "source": "In this section, transform the existing data frame to derive the target data that contains the prediction value for the corresponding sample data. \n\nThe goal of the model here is to predict whether a patient has a heart problem. Although the data set currently available does not have this information, this information can be derived from the `num` attribute. The `num` column and its values pertain to the number of major vessels with more than 50% narrowing (values- 0,1,2,3 or 4) for the corresponding sample data. \n\nTherefore, the target column `diagnosed` can derived in the following way: \n- 'diagnosed' is '0' when 'num' = 0 , indicating normal heart functioning \n- 'diagnosed' is '1' when 'num' > 0 , indicating a heart problem.\n", 
            "cell_type": "markdown", 
            "metadata": {}
        }, 
        {
            "source": "\nheart_data_df['diagnosed'] = heart_data_df['num'].map(lambda d: 1 if d > 0 else 0)", 
            "cell_type": "code", 
            "metadata": {}, 
            "outputs": [], 
            "execution_count": 49
        }, 
        {
            "source": "The next step is to select the attributes in the current data set that can be used for training the model. Here, all the attributes other than `num` attribute are chosen as the features.", 
            "cell_type": "markdown", 
            "metadata": {}
        }, 
        {
            "source": "feature_cols = ['age','sex','cp','restbp','chol','fbs','restecg','thalach','exang','oldpeak','slope','ca','thal']\nfeatures_df = heart_data_df[feature_cols]", 
            "cell_type": "code", 
            "metadata": {}, 
            "outputs": [], 
            "execution_count": 50
        }, 
        {
            "source": "#### 3.1.3: Split the data set for training and testing", 
            "cell_type": "markdown", 
            "metadata": {}
        }, 
        {
            "source": "As the target and feature columns has been defined, you can now split the data set into two sets that will be used for training the model and for testing the trained model. ", 
            "cell_type": "markdown", 
            "metadata": {}
        }, 
        {
            "source": "heart_train, heart_test, target_train, target_test = cross_validation.train_test_split(features_df, heart_data_df.loc[:,'diagnosed'], test_size=0.33, random_state=0)\n", 
            "cell_type": "code", 
            "metadata": {}, 
            "outputs": [], 
            "execution_count": 51
        }, 
        {
            "source": "#### 3.1.4: Construct DMatix objects ", 
            "cell_type": "markdown", 
            "metadata": {}
        }, 
        {
            "source": "DMatrix is the data interface provided by the XGBoost library. The training data and test data are converted as DMatrix objects to perform training and to make predictions. The DMatrix objects can be created from various data formats, such as Numpy arrays, Pandas data frames, or a Scipy sparse array. For more information about the DMatrix interface, see [Python Package Introduction](http://xgboost.readthedocs.io/en/latest/python/python_intro.html).", 
            "cell_type": "markdown", 
            "metadata": {
                "collapsed": true
            }
        }, 
        {
            "source": "Next, prepare the **DMatrix** objects for training and testing based on the training and test data that was split above", 
            "cell_type": "markdown", 
            "metadata": {}
        }, 
        {
            "source": "dm_train = xgb.DMatrix(heart_train, label=target_train)\ndm_test = xgb.DMatrix(heart_test)", 
            "cell_type": "code", 
            "metadata": {}, 
            "outputs": [], 
            "execution_count": 52
        }, 
        {
            "source": "### 3.2: Create XGBoost model (Booster)", 
            "cell_type": "markdown", 
            "metadata": {}
        }, 
        {
            "source": "Set the parameters of the Booster that we are about to create and train.\nParameters explained in http://xgboost.readthedocs.io/en/latest/parameter.html", 
            "cell_type": "markdown", 
            "metadata": {}
        }, 
        {
            "source": "param = {'objective':'multi:softmax', \n         'max_depth':2,  #max depth of of tree\n         'eta':0.8,  # step size shrinkage used in update to prevents overfitting. \n         'num_class': 2,  \n         'eval_metric': 'auc', #Area under the curve for ranking evaluation.\n         'silent':1 } #", 
            "cell_type": "code", 
            "metadata": {}, 
            "outputs": [], 
            "execution_count": 57
        }, 
        {
            "source": "Create a Booster by using the training data set, which is in the form of a DMatrix object.", 
            "cell_type": "markdown", 
            "metadata": {}
        }, 
        {
            "source": "#### Which classifier is used if train is called on xgb instead on xgb.Classier ??", 
            "cell_type": "markdown", 
            "metadata": {}
        }, 
        {
            "source": "xgb_model = xgb.train(param, dm_train)", 
            "cell_type": "code", 
            "metadata": {}, 
            "outputs": [], 
            "execution_count": 58
        }, 
        {
            "source": "Make predictions on test data and evaluate the model.", 
            "cell_type": "markdown", 
            "metadata": {}
        }, 
        {
            "source": "y_predict = xgb_model.predict(dm_test)\nprint(y_predict)", 
            "cell_type": "code", 
            "metadata": {}, 
            "outputs": [
                {
                    "output_type": "stream", 
                    "name": "stdout", 
                    "text": "[ 0.  0.  1.  0.  0.  1.  0.  1.  0.  0.  1.  0.  1.  1.  0.  0.  1.  0.\n  1.  1.  1.  1.  0.  1.  1.  1.  0.  0.  0.  0.  1.  0.  1.  1.  0.  1.\n  0.  1.  1.  0.  0.  1.  0.  0.  0.  1.  1.  0.  0.  0.  1.  1.  1.  0.\n  1.  1.  0.  1.  0.  0.  1.  0.  1.  0.  0.  0.  0.  1.  0.  0.  1.  0.\n  0.  1.  0.  0.  1.  1.  1.  1.  0.  1.  1.  0.  0.  1.  0.  0.  0.  1.\n  1.  1.  1.  1.  0.  0.  1.  0.  1.]\n"
                }
            ], 
            "execution_count": 59
        }, 
        {
            "source": "Evaluate the performance of the model using the predicted data.", 
            "cell_type": "markdown", 
            "metadata": {}
        }, 
        {
            "source": "accuracy = accuracy_score(target_test, y_predict)\nprint(\"Accuracy: \" +  str(accuracy))", 
            "cell_type": "code", 
            "metadata": {}, 
            "outputs": [
                {
                    "output_type": "stream", 
                    "name": "stdout", 
                    "text": "Accuracy: 0.818181818182\n"
                }
            ], 
            "execution_count": 60
        }, 
        {
            "source": "To understand the model better, XGBoost provides APIs that you can use to get insights about the trees used for training the model and the importance of the features in constructing the Booster.", 
            "cell_type": "markdown", 
            "metadata": {}
        }, 
        {
            "source": "To plot graphs you must use the commands in the following cell to set up the notebook for plotting the graphs.", 
            "cell_type": "markdown", 
            "metadata": {}
        }, 
        {
            "source": "import matplotlib.pyplot as plt\n%matplotlib inline", 
            "cell_type": "code", 
            "metadata": {}, 
            "outputs": [], 
            "execution_count": 61
        }, 
        {
            "source": "The following cell contains the command to plot the graph depicting the importance of features.", 
            "cell_type": "markdown", 
            "metadata": {}
        }, 
        {
            "source": "#Plot importance based on fitted trees.\nxgb.plot_importance(xgb_model)", 
            "cell_type": "code", 
            "metadata": {}, 
            "outputs": [
                {
                    "output_type": "execute_result", 
                    "data": {
                        "text/plain": "<matplotlib.axes._subplots.AxesSubplot at 0x7f76dfb7c9e8>"
                    }, 
                    "execution_count": 62, 
                    "metadata": {}
                }, 
                {
                    "output_type": "display_data", 
                    "data": {
                        "image/png": "[encoded data removed]", 
                        "text/plain": "<matplotlib.figure.Figure at 0x7f76dfbe8208>"
                    }, 
                    "metadata": {}
                }
            ], 
            "execution_count": 62
        }, 
        {
            "source": "!conda install -y graphviz", 
            "cell_type": "code", 
            "metadata": {}, 
            "outputs": [], 
            "execution_count": null
        }, 
        {
            "source": "xgb.plot_tree(xgb)", 
            "cell_type": "code", 
            "metadata": {}, 
            "outputs": [
                {
                    "output_type": "error", 
                    "evalue": "You must install graphviz to plot tree", 
                    "traceback": [
                        "\u001b[0;31m---------------------------------------------------------------------------\u001b[0m", 
                        "\u001b[0;31mImportError\u001b[0m                               Traceback (most recent call last)", 
                        "\u001b[0;32m/usr/local/src/conda3_runtime/home/envs/DSX-Python35-Spark/lib/python3.5/site-packages/xgboost/plotting.py\u001b[0m in \u001b[0;36mto_graphviz\u001b[0;34m(booster, num_trees, rankdir, yes_color, no_color, **kwargs)\u001b[0m\n\u001b[1;32m    183\u001b[0m     \u001b[0;32mtry\u001b[0m\u001b[0;34m:\u001b[0m\u001b[0;34m\u001b[0m\u001b[0m\n\u001b[0;32m--> 184\u001b[0;31m         \u001b[0;32mfrom\u001b[0m \u001b[0mgraphviz\u001b[0m \u001b[0;32mimport\u001b[0m \u001b[0mDigraph\u001b[0m\u001b[0;34m\u001b[0m\u001b[0m\n\u001b[0m\u001b[1;32m    185\u001b[0m     \u001b[0;32mexcept\u001b[0m \u001b[0mImportError\u001b[0m\u001b[0;34m:\u001b[0m\u001b[0;34m\u001b[0m\u001b[0m\n", 
                        "\u001b[0;31mImportError\u001b[0m: No module named 'graphviz'", 
                        "\nDuring handling of the above exception, another exception occurred:\n", 
                        "\u001b[0;31mImportError\u001b[0m                               Traceback (most recent call last)", 
                        "\u001b[0;32m<ipython-input-65-37f99fc516f0>\u001b[0m in \u001b[0;36m<module>\u001b[0;34m()\u001b[0m\n\u001b[0;32m----> 1\u001b[0;31m \u001b[0mxgb\u001b[0m\u001b[0;34m.\u001b[0m\u001b[0mplot_tree\u001b[0m\u001b[0;34m(\u001b[0m\u001b[0mxgb\u001b[0m\u001b[0;34m)\u001b[0m\u001b[0;34m\u001b[0m\u001b[0m\n\u001b[0m", 
                        "\u001b[0;32m/usr/local/src/conda3_runtime/home/envs/DSX-Python35-Spark/lib/python3.5/site-packages/xgboost/plotting.py\u001b[0m in \u001b[0;36mplot_tree\u001b[0;34m(booster, num_trees, rankdir, ax, **kwargs)\u001b[0m\n\u001b[1;32m    243\u001b[0m         \u001b[0m_\u001b[0m\u001b[0;34m,\u001b[0m \u001b[0max\u001b[0m \u001b[0;34m=\u001b[0m \u001b[0mplt\u001b[0m\u001b[0;34m.\u001b[0m\u001b[0msubplots\u001b[0m\u001b[0;34m(\u001b[0m\u001b[0;36m1\u001b[0m\u001b[0;34m,\u001b[0m \u001b[0;36m1\u001b[0m\u001b[0;34m)\u001b[0m\u001b[0;34m\u001b[0m\u001b[0m\n\u001b[1;32m    244\u001b[0m \u001b[0;34m\u001b[0m\u001b[0m\n\u001b[0;32m--> 245\u001b[0;31m     \u001b[0mg\u001b[0m \u001b[0;34m=\u001b[0m \u001b[0mto_graphviz\u001b[0m\u001b[0;34m(\u001b[0m\u001b[0mbooster\u001b[0m\u001b[0;34m,\u001b[0m \u001b[0mnum_trees\u001b[0m\u001b[0;34m=\u001b[0m\u001b[0mnum_trees\u001b[0m\u001b[0;34m,\u001b[0m \u001b[0mrankdir\u001b[0m\u001b[0;34m=\u001b[0m\u001b[0mrankdir\u001b[0m\u001b[0;34m,\u001b[0m \u001b[0;34m**\u001b[0m\u001b[0mkwargs\u001b[0m\u001b[0;34m)\u001b[0m\u001b[0;34m\u001b[0m\u001b[0m\n\u001b[0m\u001b[1;32m    246\u001b[0m \u001b[0;34m\u001b[0m\u001b[0m\n\u001b[1;32m    247\u001b[0m     \u001b[0ms\u001b[0m \u001b[0;34m=\u001b[0m \u001b[0mBytesIO\u001b[0m\u001b[0;34m(\u001b[0m\u001b[0;34m)\u001b[0m\u001b[0;34m\u001b[0m\u001b[0m\n", 
                        "\u001b[0;32m/usr/local/src/conda3_runtime/home/envs/DSX-Python35-Spark/lib/python3.5/site-packages/xgboost/plotting.py\u001b[0m in \u001b[0;36mto_graphviz\u001b[0;34m(booster, num_trees, rankdir, yes_color, no_color, **kwargs)\u001b[0m\n\u001b[1;32m    184\u001b[0m         \u001b[0;32mfrom\u001b[0m \u001b[0mgraphviz\u001b[0m \u001b[0;32mimport\u001b[0m \u001b[0mDigraph\u001b[0m\u001b[0;34m\u001b[0m\u001b[0m\n\u001b[1;32m    185\u001b[0m     \u001b[0;32mexcept\u001b[0m \u001b[0mImportError\u001b[0m\u001b[0;34m:\u001b[0m\u001b[0;34m\u001b[0m\u001b[0m\n\u001b[0;32m--> 186\u001b[0;31m         \u001b[0;32mraise\u001b[0m \u001b[0mImportError\u001b[0m\u001b[0;34m(\u001b[0m\u001b[0;34m'You must install graphviz to plot tree'\u001b[0m\u001b[0;34m)\u001b[0m\u001b[0;34m\u001b[0m\u001b[0m\n\u001b[0m\u001b[1;32m    187\u001b[0m \u001b[0;34m\u001b[0m\u001b[0m\n\u001b[1;32m    188\u001b[0m     \u001b[0;32mif\u001b[0m \u001b[0;32mnot\u001b[0m \u001b[0misinstance\u001b[0m\u001b[0;34m(\u001b[0m\u001b[0mbooster\u001b[0m\u001b[0;34m,\u001b[0m \u001b[0;34m(\u001b[0m\u001b[0mBooster\u001b[0m\u001b[0;34m,\u001b[0m \u001b[0mXGBModel\u001b[0m\u001b[0;34m)\u001b[0m\u001b[0;34m)\u001b[0m\u001b[0;34m:\u001b[0m\u001b[0;34m\u001b[0m\u001b[0m\n", 
                        "\u001b[0;31mImportError\u001b[0m: You must install graphviz to plot tree"
                    ], 
                    "ename": "ImportError"
                }, 
                {
                    "output_type": "display_data", 
                    "data": {
                        "image/png": "[encoded data removed]", 
                        "text/plain": "<matplotlib.figure.Figure at 0x7f76c84eaa20>"
                    }, 
                    "metadata": {}
                }
            ], 
            "execution_count": 65
        }, 
        {
            "source": "To visualize the decision trees that are trained by XGBoost, that is, the XGBoost model you must first install the `graphviz` package. The `graphviz` Python package is installed in the notebook environment by running the following cell: ", 
            "cell_type": "markdown", 
            "metadata": {}
        }, 
        {
            "source": "!pip install graphviz", 
            "cell_type": "code", 
            "metadata": {}, 
            "outputs": [
                {
                    "output_type": "stream", 
                    "name": "stdout", 
                    "text": "Collecting graphviz\n  Downloading graphviz-0.8-py2.py3-none-any.whl\nInstalling collected packages: graphviz\nSuccessfully installed graphviz-0.8\n"
                }
            ], 
            "execution_count": 20
        }, 
        {
            "source": "xgb.plot_tree(xgb_model, num_trees=1)", 
            "cell_type": "code", 
            "metadata": {}, 
            "outputs": [
                {
                    "execution_count": 21, 
                    "output_type": "execute_result", 
                    "data": {
                        "text/plain": "<matplotlib.axes._subplots.AxesSubplot at 0x7f5dd69499e8>"
                    }, 
                    "metadata": {}
                }, 
                {
                    "output_type": "display_data", 
                    "data": {
                        "image/png": "[encoded data removed]", 
                        "text/plain": "<matplotlib.figure.Figure at 0x7f5dd696ca20>"
                    }, 
                    "metadata": {}
                }
            ], 
            "execution_count": 21
        }, 
        {
            "source": "<a id=\"persistence\"></a>\n## 4. Persist the model", 
            "cell_type": "markdown", 
            "metadata": {}
        }, 
        {
            "source": "In this section store the XGBoost model in the Watson Machine Learning repository by using Watson Machine Learning repository service Python client libraries.", 
            "cell_type": "markdown", 
            "metadata": {}
        }, 
        {
            "source": "from repository.mlrepository import MetaNames\nfrom repository.mlrepository import MetaProps\nfrom repository.mlrepositoryclient import MLRepositoryClient\nfrom repository.mlrepositoryartifact import MLRepositoryArtifact", 
            "cell_type": "code", 
            "metadata": {
                "collapsed": true
            }, 
            "outputs": [], 
            "execution_count": 22
        }, 
        {
            "source": "Authenticate to Watson Machine Learning service on Bluemix. \n\n\n\n**Action**: Put authentication information from your instance of Watson Machine Learning service in the following cell. \n<br>\n<br>\n**Tip**: service_path, user and password can be found on **Service Credentials** tab of service instance created in Bluemix. If you cannot see **instance_id** field in **Serice Credentials** generate new credentials by pressing **New credential (+)** button. \n", 
            "cell_type": "markdown", 
            "metadata": {}
        }, 
        {
            "source": "\nwml_credentials = {\n  \"url\": \"https://ibm-watson-ml.mybluemix.net\",\n  \"access_key\": \"XXXXXXXXXXXXXX\",\n  \"username\": \"XXXXXXXXXXX\",\n  \"password\": \"XXXXXXXXXXX\",\n  \"instance_id\": \"XXXXXXXXXXXX\"\n}\n", 
            "cell_type": "code", 
            "metadata": {
                "collapsed": true
            }, 
            "outputs": [], 
            "execution_count": 40
        }, 
        {
            "source": "ml_repository_client = MLRepositoryClient(wml_credentials['url'])\nml_repository_client.authorize(wml_credentials['username'], wml_credentials['password'])", 
            "cell_type": "code", 
            "metadata": {
                "collapsed": true
            }, 
            "outputs": [], 
            "execution_count": 41
        }, 
        {
            "source": "### 4.1: Save a XGBoost model in the Machine Learning Repository\n\nIn this subsection you will learn how to save a model artifact to your Watson Machine Learning instance by using the Watson Machine Learing repository Python client package.\n\nCreate an artifact and save it to the machine learning repository by running the following cells:", 
            "cell_type": "markdown", 
            "metadata": {}
        }, 
        {
            "source": "# Check if props is mandatory\nprops1 = MetaProps({MetaNames.AUTHOR_NAME:\"YOUR_name\", MetaNames.AUTHOR_EMAIL:\"Your_email@email.com\"})\n\nmodel_artifact = MLRepositoryArtifact(xgb_model, name='XGB_Heart_Disease_Detection', meta_props=props1)\n\nsaved_model = ml_repository_client.models.save(model_artifact)\n", 
            "cell_type": "code", 
            "metadata": {
                "collapsed": true
            }, 
            "outputs": [], 
            "execution_count": 42
        }, 
        {
            "source": "saved_model_meta = saved_model.meta.get()\npprint.pprint(saved_model_meta)", 
            "cell_type": "code", 
            "metadata": {
                "collapsed": true
            }, 
            "outputs": [], 
            "execution_count": null
        }, 
        {
            "source": "#### 4.2 Load the Booster from the saved model", 
            "cell_type": "markdown", 
            "metadata": {}
        }, 
        {
            "source": "saved_model_meta['modelVersionHref']", 
            "cell_type": "code", 
            "metadata": {}, 
            "outputs": [
                {
                    "execution_count": 44, 
                    "output_type": "execute_result", 
                    "data": {
                        "text/plain": "'https://ibm-watson-ml.mybluemix.net/v2/artifacts/models/17fc44cf-8412-4dde-b8b5-900649c859f2/versions/3b72d3f0-fffc-4606-9f44-b9c235c7bfb5'"
                    }, 
                    "metadata": {}
                }
            ], 
            "execution_count": 44
        }, 
        {
            "source": "loaded_artifact = ml_repository_client.models.version_from_href(saved_model_meta['modelVersionHref'])\nloaded_xgb_model = loaded_artifact.model_instance()\nprint(\"Type of model: \" + str(type(loaded_xgb_model)))", 
            "cell_type": "code", 
            "metadata": {}, 
            "outputs": [
                {
                    "output_type": "stream", 
                    "name": "stdout", 
                    "text": "Type of model: <class 'xgboost.core.Booster'>\n"
                }
            ], 
            "execution_count": 45
        }, 
        {
            "source": "y_lpredict = loaded_xgb_model.predict(dm_test)\nprint(y_lpredict)", 
            "cell_type": "code", 
            "metadata": {}, 
            "outputs": [
                {
                    "output_type": "stream", 
                    "name": "stdout", 
                    "text": "[ 0.  0.  1.  0.  0.  1.  0.  1.  0.  0.  1.  0.  1.  1.  0.  0.  1.  0.\n  1.  1.  1.  1.  0.  1.  1.  1.  0.  0.  0.  0.  1.  0.  1.  1.  0.  1.\n  0.  1.  1.  0.  0.  1.  0.  0.  0.  1.  1.  0.  0.  0.  1.  1.  1.  0.\n  1.  1.  0.  1.  0.  0.  1.  0.  1.  0.  0.  0.  0.  1.  0.  0.  1.  0.\n  0.  1.  0.  0.  1.  1.  1.  1.  0.  1.  1.  0.  0.  1.  0.  0.  0.  1.\n  1.  1.  1.  1.  0.  0.  1.  0.  1.]\n"
                }
            ], 
            "execution_count": 46
        }, 
        {
            "source": "#### 4.3 Load the Booster as a XGBRegressor\nWatson Machine Learning Repository's Python client provides an option to load the XGBoost model i.e Booster as a Scikit-Learn wrapper - XGBRegressor. The command in cell below is used to for this purpose", 
            "cell_type": "markdown", 
            "metadata": {}
        }, 
        {
            "source": "loaded_artifact = ml_repository_client.models.version_from_href(saved_model_meta['modelVersionHref'])\nloaded_xgb_regressor = loaded_artifact.model_instance(as_type=\"XGBRegressor\")", 
            "cell_type": "code", 
            "metadata": {
                "collapsed": true
            }, 
            "outputs": [], 
            "execution_count": 47
        }, 
        {
            "source": "print(\"Type of model: \" + str(type(loaded_xgb_regressor)))", 
            "cell_type": "code", 
            "metadata": {}, 
            "outputs": [
                {
                    "output_type": "stream", 
                    "name": "stdout", 
                    "text": "Type of model: <class 'xgboost.sklearn.XGBRegressor'>\n"
                }
            ], 
            "execution_count": 48
        }, 
        {
            "source": "y_pred_xgb_reg = loaded_xgb_regressor.predict(heart_test)\nprint(y_pred_xgb_reg)", 
            "cell_type": "code", 
            "metadata": {}, 
            "outputs": [
                {
                    "output_type": "stream", 
                    "name": "stdout", 
                    "text": "[ 0.  0.  1.  0.  0.  1.  0.  1.  0.  0.  1.  0.  1.  1.  0.  0.  1.  0.\n  1.  1.  1.  1.  0.  1.  1.  1.  0.  0.  0.  0.  1.  0.  1.  1.  0.  1.\n  0.  1.  1.  0.  0.  1.  0.  0.  0.  1.  1.  0.  0.  0.  1.  1.  1.  0.\n  1.  1.  0.  1.  0.  0.  1.  0.  1.  0.  0.  0.  0.  1.  0.  0.  1.  0.\n  0.  1.  0.  0.  1.  1.  1.  1.  0.  1.  1.  0.  0.  1.  0.  0.  0.  1.\n  1.  1.  1.  1.  0.  0.  1.  0.  1.]\n"
                }
            ], 
            "execution_count": 49
        }, 
        {
            "source": "<a id=\"scoring\"></a>\n## 5. Deploy and score in a Cloud", 
            "cell_type": "markdown", 
            "metadata": {}
        }, 
        {
            "source": "To access the Watson Machine Learning REST APIs we require a Watson Machine Learning access token. \n\nTo create the WML access token, run the commands in the following cell:", 
            "cell_type": "markdown", 
            "metadata": {}
        }, 
        {
            "source": "import urllib3, requests, json\n\nheaders = urllib3.util.make_headers(basic_auth='{}:{}'.format(wml_credentials['username'], wml_credentials['password']))\nurl = '{}/v3/identity/token'.format(wml_credentials['url'])\nresponse = requests.get(url, headers=headers)\nmltoken = json.loads(response.text).get('token')\nheader = {'Content-Type': 'application/json', 'Authorization': 'Bearer ' + mltoken}", 
            "cell_type": "code", 
            "metadata": {
                "collapsed": true
            }, 
            "outputs": [], 
            "execution_count": 50
        }, 
        {
            "source": "### 5.1: Deploy the model and create online scoring endpoint", 
            "cell_type": "markdown", 
            "metadata": {}
        }, 
        {
            "source": "Get the `published_models` URL from instance details.", 
            "cell_type": "markdown", 
            "metadata": {}
        }, 
        {
            "source": "endpoint_instance = wml_credentials['url'] + \"/v3/wml_instances/\" + wml_credentials['instance_id']\nheader = {'Content-Type': 'application/json', 'Authorization': 'Bearer ' + mltoken} \n\nresponse_get_instance = requests.get(endpoint_instance, headers=header)\nprint(response_get_instance)\nprint(response_get_instance.text)", 
            "cell_type": "code", 
            "metadata": {}, 
            "outputs": [
                {
                    "output_type": "stream", 
                    "name": "stdout", 
                    "text": "<Response [200]>\n{\"metadata\":{\"guid\":\"ae438838-a71d-4d38-ae20-ac36c0a0384c\",\"url\":\"https://ibm-watson-ml.mybluemix.net/v3/wml_instances/ae438838-a71d-4d38-ae20-ac36c0a0384c\",\"created_at\":\"2017-06-26T11:49:38.710Z\",\"modified_at\":\"2017-10-05T01:25:51.768Z\"},\"entity\":{\"source\":\"Bluemix\",\"published_models\":{\"url\":\"https://ibm-watson-ml.mybluemix.net/v3/wml_instances/ae438838-a71d-4d38-ae20-ac36c0a0384c/published_models\"},\"usage\":{\"expiration_date\":\"2017-11-01T00:00:00.000Z\",\"computation_time\":{\"limit\":18000,\"current\":0},\"model_count\":{\"limit\":200,\"current\":16},\"prediction_count\":{\"limit\":5000,\"current\":0},\"deployment_count\":{\"limit\":5,\"current\":3}},\"plan_id\":\"3f6acf43-ede8-413a-ac69-f8af3bb0cbfe\",\"status\":\"Active\",\"organization_guid\":\"b547b37d-1aaa-41ac-8ca0-b6ef490ee5dd\",\"region\":\"us-south\",\"account\":{\"id\":\"e2f8f54ce41f76db3f23bca9bc6c7a1f\",\"name\":\"Mike Sochka's Account\",\"type\":\"TRIAL\"},\"owner\":{\"ibm_id\":\"50SB5W5H43\",\"email\":\"msochka@us.ibm.com\",\"user_id\":\"fd580dc9-39b3-4fad-b508-3c52e8aa2464\",\"country_code\":\"USA\",\"beta_user\":true},\"deployments\":{\"url\":\"https://ibm-watson-ml.mybluemix.net/v3/wml_instances/ae438838-a71d-4d38-ae20-ac36c0a0384c/deployments\"},\"space_guid\":\"3ac954e0-2dbf-4944-ad9b-af3360558c86\",\"plan\":\"free\"}}\n"
                }
            ], 
            "execution_count": 51
        }, 
        {
            "source": "endpoint_published_models = json.loads(response_get_instance.text).get('entity').get('published_models').get('url')\nprint(endpoint_published_models)", 
            "cell_type": "code", 
            "metadata": {
                "scrolled": false
            }, 
            "outputs": [
                {
                    "output_type": "stream", 
                    "name": "stdout", 
                    "text": "https://ibm-watson-ml.mybluemix.net/v3/wml_instances/ae438838-a71d-4d38-ae20-ac36c0a0384c/published_models\n"
                }
            ], 
            "execution_count": 52
        }, 
        {
            "source": "Execute the following sample code that uses the `published_models` endpoint to get the deployments URL.\n\nGet the list of published models.", 
            "cell_type": "markdown", 
            "metadata": {}
        }, 
        {
            "source": "header = {'Content-Type': 'application/json', 'Authorization': 'Bearer ' + mltoken}\n\nresponse_get = requests.get(endpoint_published_models, headers=header)\nprint(response_get)\nprint(response_get.text)", 
            "cell_type": "code", 
            "metadata": {}, 
            "outputs": [], 
            "execution_count": null
        }, 
        {
            "source": "Get published model deployment URL.", 
            "cell_type": "markdown", 
            "metadata": {}
        }, 
        {
            "source": "[endpoint_deployments] = [x.get('entity').get('deployments').get('url') for x in json.loads(response_get.text).get('resources') if x.get('metadata').get('guid') == saved_model.uid]\n\nprint(endpoint_deployments)", 
            "cell_type": "code", 
            "metadata": {}, 
            "outputs": [
                {
                    "output_type": "stream", 
                    "name": "stdout", 
                    "text": "https://ibm-watson-ml.mybluemix.net/v3/wml_instances/ae438838-a71d-4d38-ae20-ac36c0a0384c/published_models/17fc44cf-8412-4dde-b8b5-900649c859f2/deployments\n"
                }
            ], 
            "execution_count": 54
        }, 
        {
            "source": "#### 5.1.2 Deploy Model", 
            "cell_type": "markdown", 
            "metadata": {}
        }, 
        {
            "source": "We can now create the online deployment for the published model.", 
            "cell_type": "markdown", 
            "metadata": {}
        }, 
        {
            "source": "payload_online = {\"name\": \"xgb_heart_disease_v1\", \"description\": \"xgb_heart_disease\", \"type\": \"online\"}\nresponse_online = requests.post(endpoint_deployments, json=payload_online, headers=header)\n\nprint(response_online.text)", 
            "cell_type": "code", 
            "metadata": {}, 
            "outputs": [
                {
                    "output_type": "stream", 
                    "name": "stdout", 
                    "text": "{\"metadata\":{\"guid\":\"5861640c-af8a-4d35-aac9-8f2823004571\",\"url\":\"https://ibm-watson-ml.mybluemix.net/v3/wml_instances/ae438838-a71d-4d38-ae20-ac36c0a0384c/published_models/17fc44cf-8412-4dde-b8b5-900649c859f2/deployments/5861640c-af8a-4d35-aac9-8f2823004571\",\"created_at\":\"2017-10-05T01:26:48.097Z\",\"modified_at\":\"2017-10-05T01:26:49.234Z\"},\"entity\":{\"runtime_environment\":\"python-3.5\",\"name\":\"xgb_heart_disease_v1\",\"scoring_url\":\"https://ibm-watson-ml.mybluemix.net/v3/wml_instances/ae438838-a71d-4d38-ae20-ac36c0a0384c/published_models/17fc44cf-8412-4dde-b8b5-900649c859f2/deployments/5861640c-af8a-4d35-aac9-8f2823004571/online\",\"description\":\"xgb_heart_disease\",\"published_model\":{\"author\":{\"name\":\"Krishna\",\"email\":\"krishna@in.ibm.com\"},\"name\":\"XGB_Heart_Disease_Detection\",\"url\":\"https://ibm-watson-ml.mybluemix.net/v3/wml_instances/ae438838-a71d-4d38-ae20-ac36c0a0384c/published_models/17fc44cf-8412-4dde-b8b5-900649c859f2\",\"guid\":\"17fc44cf-8412-4dde-b8b5-900649c859f2\",\"created_at\":\"2017-10-05T01:26:48.066Z\"},\"model_type\":\"xgboost-model-0.6\",\"status\":\"INITIALIZING\",\"type\":\"online\",\"deployed_version\":{\"url\":\"https://ibm-watson-ml.mybluemix.net/v2/artifacts/models/17fc44cf-8412-4dde-b8b5-900649c859f2/versions/3b72d3f0-fffc-4606-9f44-b9c235c7bfb5\",\"guid\":\"3b72d3f0-fffc-4606-9f44-b9c235c7bfb5\",\"created_at\":\"2017-10-05T01:25:51.774Z\"}}}\n"
                }
            ], 
            "execution_count": 55
        }, 
        {
            "source": "scoring_url = json.loads(response_online.text).get('entity').get('scoring_url')\nprint(scoring_url)", 
            "cell_type": "code", 
            "metadata": {}, 
            "outputs": [
                {
                    "output_type": "stream", 
                    "name": "stdout", 
                    "text": "https://ibm-watson-ml.mybluemix.net/v3/wml_instances/ae438838-a71d-4d38-ae20-ac36c0a0384c/published_models/17fc44cf-8412-4dde-b8b5-900649c859f2/deployments/5861640c-af8a-4d35-aac9-8f2823004571/online\n"
                }
            ], 
            "execution_count": 56
        }, 
        {
            "source": "### 5. 2 Perform Prediction", 
            "cell_type": "markdown", 
            "metadata": {}
        }, 
        {
            "source": "Now, let us perform predictions on a new set of data using the model that is deployed in the scoring service.", 
            "cell_type": "markdown", 
            "metadata": {}
        }, 
        {
            "source": "payload_scoring = {\n   \"values\": [[64.0, 1.0, 4.0, 328.0, 263.0, 0.0, 0.0, 105.0, 1.0, 0.2, 2.0, 1.0, 7.0]]\n}\n\nresponse_scoring = requests.post(scoring_url, json=payload_scoring, headers=header)\npprint.pprint(response_scoring.text)", 
            "cell_type": "code", 
            "metadata": {}, 
            "outputs": [
                {
                    "output_type": "stream", 
                    "name": "stdout", 
                    "text": "('{\\n'\n '  \"fields\": [\"prediction\", \"probability\"],\\n'\n '  \"values\": [[1.0, [-1.467953085899353, 2.4679532051086426]]]\\n'\n '}')\n"
                }
            ], 
            "execution_count": 57
        }, 
        {
            "source": "The scoring output contains the prediction value and the corresponding margin data.", 
            "cell_type": "markdown", 
            "metadata": {}
        }, 
        {
            "source": "<a id=\"summary\"></a>\n## 6. Summary and next steps     ", 
            "cell_type": "markdown", 
            "metadata": {
                "collapsed": true
            }
        }, 
        {
            "source": "You successfully completed this notebook! You learned how to use XGBoost machine learning as well as Watson Machine Learning for model creation and deployment. Check out our [Online Documentation](https://console.ng.bluemix.net/docs/services/PredictiveModeling/pm_service_api_spark.html) for more samples, tutorials, documentation, how-tos, and blog posts. ", 
            "cell_type": "markdown", 
            "metadata": {
                "collapsed": true
            }
        }, 
        {
            "source": "### Author\n\n**Krishnamurthy Arthanarisamy**, is a senior technical lead in IBM Watson Machine Learning team. Krishna works on developing cloud services that caters to different stages of machine learning and deep learning modeling life cycle. ", 
            "cell_type": "markdown", 
            "metadata": {}
        }, 
        {
            "source": "Copyright \u00a9 2017 IBM. This notebook and its source code are released under the terms of the MIT License.", 
            "cell_type": "markdown", 
            "metadata": {}
        }
    ], 
    "metadata": {
        "kernelspec": {
            "display_name": "Python 3.5 with Spark 2.0", 
            "name": "python3-spark20", 
            "language": "python"
        }, 
        "language_info": {
            "mimetype": "text/x-python", 
            "nbconvert_exporter": "python", 
            "version": "3.5.4", 
            "name": "python", 
            "pygments_lexer": "ipython3", 
            "file_extension": ".py", 
            "codemirror_mode": {
                "version": 3, 
                "name": "ipython"
            }
        }
    }, 
    "nbformat": 4
}