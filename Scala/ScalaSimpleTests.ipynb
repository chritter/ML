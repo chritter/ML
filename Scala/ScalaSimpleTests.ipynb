{
    "nbformat_minor": 1, 
    "cells": [
        {
            "source": "# Simple Tests with Scala", 
            "cell_type": "markdown", 
            "metadata": {
                "collapsed": true
            }
        }, 
        {
            "source": "val test: Double = 4", 
            "cell_type": "code", 
            "metadata": {}, 
            "outputs": [], 
            "execution_count": 9
        }, 
        {
            "source": "test = 5.0", 
            "cell_type": "code", 
            "metadata": {}, 
            "outputs": [
                {
                    "output_type": "execute_result", 
                    "data": {
                        "text/plain": "Name: Compile Error\nMessage: <console>:27: error: reassignment to val\n       test = 5.0\n            ^\nStackTrace: "
                    }, 
                    "execution_count": 10, 
                    "metadata": {}
                }
            ], 
            "execution_count": 10
        }, 
        {
            "source": "var amount: Double = 4.0", 
            "cell_type": "code", 
            "metadata": {}, 
            "outputs": [], 
            "execution_count": 12
        }, 
        {
            "source": "amount = 6.0", 
            "cell_type": "code", 
            "metadata": {}, 
            "outputs": [], 
            "execution_count": 14
        }, 
        {
            "source": "amount", 
            "cell_type": "code", 
            "metadata": {}, 
            "outputs": [
                {
                    "output_type": "execute_result", 
                    "data": {
                        "text/plain": "6.0"
                    }, 
                    "execution_count": 15, 
                    "metadata": {}
                }
            ], 
            "execution_count": 15
        }, 
        {
            "source": "if (amount > 0.0) println(\"greater\")", 
            "cell_type": "code", 
            "metadata": {}, 
            "outputs": [
                {
                    "output_type": "stream", 
                    "name": "stdout", 
                    "text": "greater\n"
                }
            ], 
            "execution_count": 16
        }, 
        {
            "source": "if (amount > 0.0) {\n    println(\"greater\")\n    } else { //else needs to start with end of brackets\n        if (amount == 0.0) {\n            println(\"same\")\n        } else {\n            println(\"less\")\n        }\n    }", 
            "cell_type": "code", 
            "metadata": {}, 
            "outputs": [
                {
                    "output_type": "stream", 
                    "name": "stdout", 
                    "text": "less\n"
                }
            ], 
            "execution_count": 24
        }, 
        {
            "source": "var output = if (amount > 0) println(\"greater\") else {if (amount == 0) println(\"same\") else println(\"less\")}", 
            "cell_type": "code", 
            "metadata": {}, 
            "outputs": [
                {
                    "output_type": "stream", 
                    "name": "stdout", 
                    "text": "greater\n"
                }
            ], 
            "execution_count": 18
        }, 
        {
            "source": "amount = -2\noutput = if (amount > 0) println(\"greater\") else {if (amount == 0) println(\"same\") else println(\"less\")}", 
            "cell_type": "code", 
            "metadata": {}, 
            "outputs": [
                {
                    "output_type": "stream", 
                    "name": "stdout", 
                    "text": "less\n"
                }
            ], 
            "execution_count": 19
        }, 
        {
            "source": "for (i <- 1 to 100) {\n    print(i)\n    if (i%5 == 0) println()\n}", 
            "cell_type": "code", 
            "metadata": {}, 
            "outputs": [
                {
                    "output_type": "stream", 
                    "name": "stdout", 
                    "text": "12345\n678910\n1112131415\n1617181920\n2122232425\n2627282930\n3132333435\n3637383940\n4142434445\n4647484950\n5152535455\n5657585960\n6162636465\n6667686970\n7172737475\n7677787980\n8182838485\n8687888990\n9192939495\n96979899100\n"
                }
            ], 
            "execution_count": 32
        }, 
        {
            "source": "var i = 15\nif (i%3 == 0 && i%5 ==0) println('test)", 
            "cell_type": "code", 
            "metadata": {}, 
            "outputs": [
                {
                    "output_type": "stream", 
                    "name": "stdout", 
                    "text": "'test\n"
                }
            ], 
            "execution_count": 41
        }, 
        {
            "source": "val tmp: Boolean = true\n", 
            "cell_type": "code", 
            "metadata": {}, 
            "outputs": [], 
            "execution_count": 46
        }, 
        {
            "source": "for (i <- 1 to 100) {\n    i match {\n        case x if (x%3 == 0 && x%5 ==0)  => println(\"type\")\n        case x if (x%3 == 0) => println(\"type\")\n        case x if (x%5 == 0 ) => println(\"other\")\n    }\n}", 
            "cell_type": "code", 
            "metadata": {}, 
            "outputs": [
                {
                    "output_type": "execute_result", 
                    "data": {
                        "text/plain": "Name: scala.MatchError\nMessage: 1 (of class java.lang.Integer)\nStackTrace:   at $anonfun$1.apply$mcVI$sp(<console>:30)\n  at scala.collection.immutable.Range.foreach$mVc$sp(Range.scala:160)"
                    }, 
                    "execution_count": 48, 
                    "metadata": {}
                }
            ], 
            "execution_count": 48
        }, 
        {
            "source": "def test_func(inp: Int): String = {\n    inp.toString()\n}", 
            "cell_type": "code", 
            "metadata": {}, 
            "outputs": [], 
            "execution_count": 62
        }, 
        {
            "source": "val tmp2: Double = 123.0 ", 
            "cell_type": "code", 
            "metadata": {}, 
            "outputs": [], 
            "execution_count": 52
        }, 
        {
            "source": "val tmp3: String = tmp2.toString()", 
            "cell_type": "code", 
            "metadata": {}, 
            "outputs": [], 
            "execution_count": 54
        }, 
        {
            "source": "tmp3 +\",\"+ tmp3", 
            "cell_type": "code", 
            "metadata": {}, 
            "outputs": [
                {
                    "output_type": "execute_result", 
                    "data": {
                        "text/plain": "123.0,123.0"
                    }, 
                    "execution_count": 60, 
                    "metadata": {}
                }
            ], 
            "execution_count": 60
        }, 
        {
            "source": "test_func(123)+\"test\"+test_func(1234)", 
            "cell_type": "code", 
            "metadata": {}, 
            "outputs": [
                {
                    "output_type": "execute_result", 
                    "data": {
                        "text/plain": "123test1234"
                    }, 
                    "execution_count": 65, 
                    "metadata": {}
                }
            ], 
            "execution_count": 65
        }, 
        {
            "source": "//this is a procedure\ndef test_func(inp: Int): Unit = {\n    println(inp)\n}", 
            "cell_type": "code", 
            "metadata": {}, 
            "outputs": [], 
            "execution_count": 68
        }, 
        {
            "source": "test_func(123)", 
            "cell_type": "code", 
            "metadata": {}, 
            "outputs": [
                {
                    "output_type": "stream", 
                    "name": "stdout", 
                    "text": "123\n"
                }
            ], 
            "execution_count": 67
        }, 
        {
            "source": "def hi(): String = \"high\"", 
            "cell_type": "code", 
            "metadata": {}, 
            "outputs": [], 
            "execution_count": 69
        }, 
        {
            "source": "hi()", 
            "cell_type": "code", 
            "metadata": {}, 
            "outputs": [
                {
                    "output_type": "execute_result", 
                    "data": {
                        "text/plain": "high"
                    }, 
                    "execution_count": 70, 
                    "metadata": {}
                }
            ], 
            "execution_count": 70
        }, 
        {
            "source": "//Interesting when handling experssion block handed to the function:\ntest_func { var int1 = 123; int1*324 + 12311}", 
            "cell_type": "code", 
            "metadata": {}, 
            "outputs": [
                {
                    "output_type": "stream", 
                    "name": "stdout", 
                    "text": "52163\n"
                }
            ], 
            "execution_count": 73
        }, 
        {
            "source": "", 
            "cell_type": "code", 
            "metadata": {}, 
            "outputs": [], 
            "execution_count": null
        }
    ], 
    "metadata": {
        "kernelspec": {
            "display_name": "Scala 2.11 with Spark 2.1", 
            "name": "scala-spark21", 
            "language": "scala"
        }, 
        "language_info": {
            "mimetype": "text/x-scala", 
            "version": "2.11.8", 
            "name": "scala", 
            "pygments_lexer": "scala", 
            "file_extension": ".scala", 
            "codemirror_mode": "text/x-scala"
        }
    }, 
    "nbformat": 4
}