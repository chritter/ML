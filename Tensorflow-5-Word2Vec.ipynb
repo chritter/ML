{
    "nbformat_minor": 1, 
    "cells": [
        {
            "source": "Deep Learning\n=============\n\nAssignment 5\n------------\n\nThe goal of this assignment is to train a skip-gram model over [Text8](http://mattmahoney.net/dc/textdata) data.", 
            "cell_type": "markdown", 
            "metadata": {
                "colab_type": "text", 
                "id": "D7tqLMoKF6uq"
            }
        }, 
        {
            "source": "# These are all the modules we'll be using later. Make sure you can import them\n# before proceeding further.\nfrom __future__ import print_function\nimport collections\nimport math\nimport numpy as np\nimport os\nimport random\nimport tensorflow as tf\nimport zipfile\nfrom matplotlib import pylab\nfrom six.moves import range\nfrom six.moves.urllib.request import urlretrieve\nfrom sklearn.manifold import TSNE", 
            "cell_type": "code", 
            "metadata": {
                "colab_type": "code", 
                "id": "0K1ZyLn04QZf", 
                "colab": {
                    "autoexec": {
                        "wait_interval": 0, 
                        "startup": false
                    }
                }, 
                "cellView": "both"
            }, 
            "outputs": [], 
            "execution_count": 1
        }, 
        {
            "source": "Download the data from the source website if necessary.", 
            "cell_type": "markdown", 
            "metadata": {
                "colab_type": "text", 
                "id": "aCjPJE944bkV"
            }
        }, 
        {
            "source": "url = 'http://mattmahoney.net/dc/'\n\ndef maybe_download(filename, expected_bytes):\n  \"\"\"Download a file if not present, and make sure it's the right size.\"\"\"\n  if not os.path.exists(filename):\n    filename, _ = urlretrieve(url + filename, filename)\n  statinfo = os.stat(filename)\n  if statinfo.st_size == expected_bytes:\n    print('Found and verified %s' % filename)\n  else:\n    print(statinfo.st_size)\n    raise Exception(\n      'Failed to verify ' + filename + '. Can you get to it with a browser?')\n  return filename\n\nfilename = maybe_download('text8.zip', 31344016)", 
            "cell_type": "code", 
            "metadata": {
                "outputId": "c4ec222c-80b5-4298-e635-93ca9f79c3b7", 
                "colab": {
                    "output_extras": [
                        {
                            "item_id": 1
                        }
                    ], 
                    "autoexec": {
                        "wait_interval": 0, 
                        "startup": false
                    }
                }, 
                "cellView": "both", 
                "colab_type": "code", 
                "id": "RJ-o3UBUFtCw", 
                "executionInfo": {
                    "status": "ok", 
                    "timestamp": 1445964482948, 
                    "user_tz": 420, 
                    "user": {
                        "permissionId": "05076109866853157986", 
                        "displayName": "Vincent Vanhoucke", 
                        "photoUrl": "//lh6.googleusercontent.com/-cCJa7dTDcgQ/AAAAAAAAAAI/AAAAAAAACgw/r2EZ_8oYer4/s50-c-k-no/photo.jpg", 
                        "color": "#1FA15D", 
                        "userId": "102167687554210253930", 
                        "sessionId": "2f1ffade4c9f20de", 
                        "isAnonymous": false, 
                        "isMe": true
                    }, 
                    "elapsed": 14640
                }
            }, 
            "outputs": [
                {
                    "output_type": "stream", 
                    "name": "stdout", 
                    "text": "Found and verified text8.zip\n"
                }
            ], 
            "execution_count": 2
        }, 
        {
            "source": "Read the data into a string.", 
            "cell_type": "markdown", 
            "metadata": {
                "colab_type": "text", 
                "id": "Zqz3XiqI4mZT"
            }
        }, 
        {
            "source": "def read_data(filename):\n  f = zipfile.ZipFile(filename)\n  for name in f.namelist():\n    return tf.compat.as_str(f.read(name)).split()\n  f.close()\n  \nwords = read_data(filename)\nprint('Data size %d' % len(words))", 
            "cell_type": "code", 
            "metadata": {
                "outputId": "e3a928b4-1645-4fe8-be17-fcf47de5716d", 
                "colab": {
                    "output_extras": [
                        {
                            "item_id": 1
                        }
                    ], 
                    "autoexec": {
                        "wait_interval": 0, 
                        "startup": false
                    }
                }, 
                "cellView": "both", 
                "colab_type": "code", 
                "id": "Mvf09fjugFU_", 
                "executionInfo": {
                    "status": "ok", 
                    "timestamp": 1445964497165, 
                    "user_tz": 420, 
                    "user": {
                        "permissionId": "05076109866853157986", 
                        "displayName": "Vincent Vanhoucke", 
                        "photoUrl": "//lh6.googleusercontent.com/-cCJa7dTDcgQ/AAAAAAAAAAI/AAAAAAAACgw/r2EZ_8oYer4/s50-c-k-no/photo.jpg", 
                        "color": "#1FA15D", 
                        "userId": "102167687554210253930", 
                        "sessionId": "2f1ffade4c9f20de", 
                        "isAnonymous": false, 
                        "isMe": true
                    }, 
                    "elapsed": 28844
                }
            }, 
            "outputs": [
                {
                    "output_type": "stream", 
                    "name": "stdout", 
                    "text": "Data size 17005207\n"
                }
            ], 
            "execution_count": 5
        }, 
        {
            "source": "type(words)", 
            "cell_type": "code", 
            "metadata": {}, 
            "outputs": [
                {
                    "output_type": "execute_result", 
                    "data": {
                        "text/plain": "list"
                    }, 
                    "execution_count": 7, 
                    "metadata": {}
                }
            ], 
            "execution_count": 7
        }, 
        {
            "source": "Build the dictionary and replace rare words with UNK token.", 
            "cell_type": "markdown", 
            "metadata": {
                "colab_type": "text", 
                "id": "Zdw6i4F8glpp"
            }
        }, 
        {
            "source": "vocabulary_size = 50000\n\ndef build_dataset(words):\n  count = [['UNK', -1]]\n  count.extend(collections.Counter(words).most_common(vocabulary_size - 1))\n  dictionary = dict()\n  for word, _ in count:\n    dictionary[word] = len(dictionary)\n  data = list()\n  unk_count = 0\n  for word in words:\n    if word in dictionary:\n      index = dictionary[word]\n    else:\n      index = 0  # dictionary['UNK']\n      unk_count = unk_count + 1\n    data.append(index)\n  count[0][1] = unk_count\n  reverse_dictionary = dict(zip(dictionary.values(), dictionary.keys())) \n  return data, count, dictionary, reverse_dictionary\n\ndata, count, dictionary, reverse_dictionary = build_dataset(words)\nprint('Most common words (+UNK)', count[:5])\nprint('Sample data', data[:10])\ndel words  # Hint to reduce memory.", 
            "cell_type": "code", 
            "metadata": {
                "outputId": "3fb4ecd1-df67-44b6-a2dc-2291730970b2", 
                "colab": {
                    "output_extras": [
                        {
                            "item_id": 1
                        }
                    ], 
                    "autoexec": {
                        "wait_interval": 0, 
                        "startup": false
                    }
                }, 
                "cellView": "both", 
                "colab_type": "code", 
                "id": "gAL1EECXeZsD", 
                "executionInfo": {
                    "status": "ok", 
                    "timestamp": 1445964497178, 
                    "user_tz": 420, 
                    "user": {
                        "permissionId": "05076109866853157986", 
                        "displayName": "Vincent Vanhoucke", 
                        "photoUrl": "//lh6.googleusercontent.com/-cCJa7dTDcgQ/AAAAAAAAAAI/AAAAAAAACgw/r2EZ_8oYer4/s50-c-k-no/photo.jpg", 
                        "color": "#1FA15D", 
                        "userId": "102167687554210253930", 
                        "sessionId": "2f1ffade4c9f20de", 
                        "isAnonymous": false, 
                        "isMe": true
                    }, 
                    "elapsed": 28849
                }
            }, 
            "outputs": [
                {
                    "output_type": "stream", 
                    "name": "stdout", 
                    "text": "Most common words (+UNK) [['UNK', 418391], ('the', 1061396), ('of', 593677), ('and', 416629), ('one', 411764)]\nSample data [5234, 3083, 12, 6, 195, 2, 3137, 46, 59, 156]\n"
                }
            ], 
            "execution_count": 8
        }, 
        {
            "source": "Function to generate a training batch for the skip-gram model.", 
            "cell_type": "markdown", 
            "metadata": {
                "colab_type": "text", 
                "id": "lFwoyygOmWsL"
            }
        }, 
        {
            "source": "data_index = 0\n\ndef generate_batch(batch_size, num_skips, skip_window):\n  global data_index\n  assert batch_size % num_skips == 0\n  assert num_skips <= 2 * skip_window\n  batch = np.ndarray(shape=(batch_size), dtype=np.int32)\n  labels = np.ndarray(shape=(batch_size, 1), dtype=np.int32)\n  span = 2 * skip_window + 1 # [ skip_window target skip_window ]\n  buffer = collections.deque(maxlen=span)\n  for _ in range(span):\n    buffer.append(data[data_index])\n    data_index = (data_index + 1) % len(data)\n  for i in range(batch_size // num_skips):\n    target = skip_window  # target label at the center of the buffer\n    targets_to_avoid = [ skip_window ]\n    for j in range(num_skips):\n      while target in targets_to_avoid:\n        target = random.randint(0, span - 1)\n      targets_to_avoid.append(target)\n      batch[i * num_skips + j] = buffer[skip_window]\n      labels[i * num_skips + j, 0] = buffer[target]\n    buffer.append(data[data_index])\n    data_index = (data_index + 1) % len(data)\n  return batch, labels\n\nprint('data:', [reverse_dictionary[di] for di in data[:8]])\n\nfor num_skips, skip_window in [(2, 1), (4, 2)]:\n    data_index = 0\n    batch, labels = generate_batch(batch_size=8, num_skips=num_skips, skip_window=skip_window)\n    print('\\nwith num_skips = %d and skip_window = %d:' % (num_skips, skip_window))\n    print('    batch:', [reverse_dictionary[bi] for bi in batch])\n    print('    labels:', [reverse_dictionary[li] for li in labels.reshape(8)])", 
            "cell_type": "code", 
            "metadata": {
                "outputId": "67cccb02-cdaf-4e47-d489-43bcc8d57bb8", 
                "colab": {
                    "output_extras": [
                        {
                            "item_id": 1
                        }
                    ], 
                    "autoexec": {
                        "wait_interval": 0, 
                        "startup": false
                    }
                }, 
                "cellView": "both", 
                "colab_type": "code", 
                "id": "w9APjA-zmfjV", 
                "executionInfo": {
                    "status": "ok", 
                    "timestamp": 1445964901989, 
                    "user_tz": 420, 
                    "user": {
                        "permissionId": "05076109866853157986", 
                        "displayName": "Vincent Vanhoucke", 
                        "photoUrl": "//lh6.googleusercontent.com/-cCJa7dTDcgQ/AAAAAAAAAAI/AAAAAAAACgw/r2EZ_8oYer4/s50-c-k-no/photo.jpg", 
                        "color": "#1FA15D", 
                        "userId": "102167687554210253930", 
                        "sessionId": "2f1ffade4c9f20de", 
                        "isAnonymous": false, 
                        "isMe": true
                    }, 
                    "elapsed": 113
                }
            }, 
            "outputs": [
                {
                    "output_type": "stream", 
                    "name": "stdout", 
                    "text": "data: ['anarchism', 'originated', 'as', 'a', 'term', 'of', 'abuse', 'first']\n\nwith num_skips = 2 and skip_window = 1:\n    batch: ['originated', 'originated', 'as', 'as', 'a', 'a', 'term', 'term']\n    labels: ['as', 'anarchism', 'originated', 'a', 'as', 'term', 'of', 'a']\n\nwith num_skips = 4 and skip_window = 2:\n    batch: ['as', 'as', 'as', 'as', 'a', 'a', 'a', 'a']\n    labels: ['a', 'anarchism', 'originated', 'term', 'term', 'as', 'originated', 'of']\n"
                }
            ], 
            "execution_count": 5
        }, 
        {
            "source": "Train a skip-gram model.", 
            "cell_type": "markdown", 
            "metadata": {
                "colab_type": "text", 
                "id": "Ofd1MbBuwiva"
            }
        }, 
        {
            "source": "batch_size = 128\nembedding_size = 128 # Dimension of the embedding vector.\nskip_window = 1 # How many words to consider left and right.\nnum_skips = 2 # How many times to reuse an input to generate a label.\n# We pick a random validation set to sample nearest neighbors. here we limit the\n# validation samples to the words that have a low numeric ID, which by\n# construction are also the most frequent. \nvalid_size = 16 # Random set of words to evaluate similarity on.\nvalid_window = 100 # Only pick dev samples in the head of the distribution.\nvalid_examples = np.array(random.sample(range(valid_window), valid_size))\nnum_sampled = 64 # Number of negative examples to sample.\n\ngraph = tf.Graph()\n\nwith graph.as_default(), tf.device('/cpu:0'):\n\n  # Input data.\n  train_dataset = tf.placeholder(tf.int32, shape=[batch_size])\n  train_labels = tf.placeholder(tf.int32, shape=[batch_size, 1])\n  valid_dataset = tf.constant(valid_examples, dtype=tf.int32)\n  \n  # Variables.\n  embeddings = tf.Variable(\n    tf.random_uniform([vocabulary_size, embedding_size], -1.0, 1.0))\n  softmax_weights = tf.Variable(\n    tf.truncated_normal([vocabulary_size, embedding_size],\n                         stddev=1.0 / math.sqrt(embedding_size)))\n  softmax_biases = tf.Variable(tf.zeros([vocabulary_size]))\n  \n  # Model.\n  # Look up embeddings for inputs.\n  embed = tf.nn.embedding_lookup(embeddings, train_dataset)\n  # Compute the softmax loss, using a sample of the negative labels each time.\n  loss = tf.reduce_mean(\n    tf.nn.sampled_softmax_loss(softmax_weights, softmax_biases, embed,\n                               train_labels, num_sampled, vocabulary_size))\n\n  # Optimizer.\n  optimizer = tf.train.AdagradOptimizer(1.0).minimize(loss)\n  \n  # Compute the similarity between minibatch examples and all embeddings.\n  # We use the cosine distance:\n  norm = tf.sqrt(tf.reduce_sum(tf.square(embeddings), 1, keep_dims=True))\n  normalized_embeddings = embeddings / norm\n  valid_embeddings = tf.nn.embedding_lookup(\n    normalized_embeddings, valid_dataset)\n  similarity = tf.matmul(valid_embeddings, tf.transpose(normalized_embeddings))", 
            "cell_type": "code", 
            "metadata": {
                "colab_type": "code", 
                "id": "8pQKsV4Vwlzy", 
                "colab": {
                    "autoexec": {
                        "wait_interval": 0, 
                        "startup": false
                    }
                }, 
                "cellView": "both"
            }, 
            "outputs": [
                {
                    "output_type": "error", 
                    "evalue": "Input 'b' of 'MatMul' Op has type float32 that does not match type int32 of argument 'a'.", 
                    "traceback": [
                        "\u001b[0;31m---------------------------------------------------------------------------\u001b[0m", 
                        "\u001b[0;31mValueError\u001b[0m                                Traceback (most recent call last)", 
                        "\u001b[0;32m/opt/conda/envs/DSX-Python35/lib/python3.5/site-packages/tensorflow/python/framework/op_def_library.py\u001b[0m in \u001b[0;36mapply_op\u001b[0;34m(self, op_type_name, name, **keywords)\u001b[0m\n\u001b[1;32m    489\u001b[0m                 \u001b[0mas_ref\u001b[0m\u001b[0;34m=\u001b[0m\u001b[0minput_arg\u001b[0m\u001b[0;34m.\u001b[0m\u001b[0mis_ref\u001b[0m\u001b[0;34m,\u001b[0m\u001b[0;34m\u001b[0m\u001b[0m\n\u001b[0;32m--> 490\u001b[0;31m                 preferred_dtype=default_dtype)\n\u001b[0m\u001b[1;32m    491\u001b[0m           \u001b[0;32mexcept\u001b[0m \u001b[0mTypeError\u001b[0m \u001b[0;32mas\u001b[0m \u001b[0merr\u001b[0m\u001b[0;34m:\u001b[0m\u001b[0;34m\u001b[0m\u001b[0m\n", 
                        "\u001b[0;32m/opt/conda/envs/DSX-Python35/lib/python3.5/site-packages/tensorflow/python/framework/ops.py\u001b[0m in \u001b[0;36minternal_convert_to_tensor\u001b[0;34m(value, dtype, name, as_ref, preferred_dtype)\u001b[0m\n\u001b[1;32m    675\u001b[0m         \u001b[0;32mif\u001b[0m \u001b[0mret\u001b[0m \u001b[0;32mis\u001b[0m \u001b[0;32mNone\u001b[0m\u001b[0;34m:\u001b[0m\u001b[0;34m\u001b[0m\u001b[0m\n\u001b[0;32m--> 676\u001b[0;31m           \u001b[0mret\u001b[0m \u001b[0;34m=\u001b[0m \u001b[0mconversion_func\u001b[0m\u001b[0;34m(\u001b[0m\u001b[0mvalue\u001b[0m\u001b[0;34m,\u001b[0m \u001b[0mdtype\u001b[0m\u001b[0;34m=\u001b[0m\u001b[0mdtype\u001b[0m\u001b[0;34m,\u001b[0m \u001b[0mname\u001b[0m\u001b[0;34m=\u001b[0m\u001b[0mname\u001b[0m\u001b[0;34m,\u001b[0m \u001b[0mas_ref\u001b[0m\u001b[0;34m=\u001b[0m\u001b[0mas_ref\u001b[0m\u001b[0;34m)\u001b[0m\u001b[0;34m\u001b[0m\u001b[0m\n\u001b[0m\u001b[1;32m    677\u001b[0m \u001b[0;34m\u001b[0m\u001b[0m\n", 
                        "\u001b[0;32m/opt/conda/envs/DSX-Python35/lib/python3.5/site-packages/tensorflow/python/framework/ops.py\u001b[0m in \u001b[0;36m_TensorTensorConversionFunction\u001b[0;34m(t, dtype, name, as_ref)\u001b[0m\n\u001b[1;32m    548\u001b[0m         \u001b[0;34m\"Tensor conversion requested dtype %s for Tensor with dtype %s: %r\"\u001b[0m\u001b[0;34m\u001b[0m\u001b[0m\n\u001b[0;32m--> 549\u001b[0;31m         % (dtype.name, t.dtype.name, str(t)))\n\u001b[0m\u001b[1;32m    550\u001b[0m   \u001b[0;32mreturn\u001b[0m \u001b[0mt\u001b[0m\u001b[0;34m\u001b[0m\u001b[0m\n", 
                        "\u001b[0;31mValueError\u001b[0m: Tensor conversion requested dtype int32 for Tensor with dtype float32: 'Tensor(\"sampled_softmax_loss/Slice_1:0\", shape=(?, 128), dtype=float32, device=/device:CPU:0)'", 
                        "\nDuring handling of the above exception, another exception occurred:\n", 
                        "\u001b[0;31mTypeError\u001b[0m                                 Traceback (most recent call last)", 
                        "\u001b[0;32m<ipython-input-9-36e1660fb53f>\u001b[0m in \u001b[0;36m<module>\u001b[0;34m()\u001b[0m\n\u001b[1;32m     34\u001b[0m   loss = tf.reduce_mean(\n\u001b[1;32m     35\u001b[0m     tf.nn.sampled_softmax_loss(softmax_weights, softmax_biases, embed,\n\u001b[0;32m---> 36\u001b[0;31m                                train_labels, num_sampled, vocabulary_size))\n\u001b[0m\u001b[1;32m     37\u001b[0m \u001b[0;34m\u001b[0m\u001b[0m\n\u001b[1;32m     38\u001b[0m   \u001b[0;31m# Optimizer.\u001b[0m\u001b[0;34m\u001b[0m\u001b[0;34m\u001b[0m\u001b[0m\n", 
                        "\u001b[0;32m/opt/conda/envs/DSX-Python35/lib/python3.5/site-packages/tensorflow/python/ops/nn_impl.py\u001b[0m in \u001b[0;36msampled_softmax_loss\u001b[0;34m(weights, biases, labels, inputs, num_sampled, num_classes, num_true, sampled_values, remove_accidental_hits, partition_strategy, name)\u001b[0m\n\u001b[1;32m   1245\u001b[0m       \u001b[0mremove_accidental_hits\u001b[0m\u001b[0;34m=\u001b[0m\u001b[0mremove_accidental_hits\u001b[0m\u001b[0;34m,\u001b[0m\u001b[0;34m\u001b[0m\u001b[0m\n\u001b[1;32m   1246\u001b[0m       \u001b[0mpartition_strategy\u001b[0m\u001b[0;34m=\u001b[0m\u001b[0mpartition_strategy\u001b[0m\u001b[0;34m,\u001b[0m\u001b[0;34m\u001b[0m\u001b[0m\n\u001b[0;32m-> 1247\u001b[0;31m       name=name)\n\u001b[0m\u001b[1;32m   1248\u001b[0m   sampled_losses = nn_ops.softmax_cross_entropy_with_logits(\n\u001b[1;32m   1249\u001b[0m       labels=labels, logits=logits)\n", 
                        "\u001b[0;32m/opt/conda/envs/DSX-Python35/lib/python3.5/site-packages/tensorflow/python/ops/nn_impl.py\u001b[0m in \u001b[0;36m_compute_sampled_logits\u001b[0;34m(weights, biases, labels, inputs, num_sampled, num_classes, num_true, sampled_values, subtract_log_q, remove_accidental_hits, partition_strategy, name)\u001b[0m\n\u001b[1;32m    979\u001b[0m     \u001b[0;31m# sampled_w has shape [num_sampled, dim]\u001b[0m\u001b[0;34m\u001b[0m\u001b[0;34m\u001b[0m\u001b[0m\n\u001b[1;32m    980\u001b[0m     \u001b[0;31m# Apply X*W', which yields [batch_size, num_sampled]\u001b[0m\u001b[0;34m\u001b[0m\u001b[0;34m\u001b[0m\u001b[0m\n\u001b[0;32m--> 981\u001b[0;31m     \u001b[0msampled_logits\u001b[0m \u001b[0;34m=\u001b[0m \u001b[0mmath_ops\u001b[0m\u001b[0;34m.\u001b[0m\u001b[0mmatmul\u001b[0m\u001b[0;34m(\u001b[0m\u001b[0minputs\u001b[0m\u001b[0;34m,\u001b[0m \u001b[0msampled_w\u001b[0m\u001b[0;34m,\u001b[0m \u001b[0mtranspose_b\u001b[0m\u001b[0;34m=\u001b[0m\u001b[0;32mTrue\u001b[0m\u001b[0;34m)\u001b[0m\u001b[0;34m\u001b[0m\u001b[0m\n\u001b[0m\u001b[1;32m    982\u001b[0m \u001b[0;34m\u001b[0m\u001b[0m\n\u001b[1;32m    983\u001b[0m     \u001b[0;31m# Retrieve the true and sampled biases, compute the true logits, and\u001b[0m\u001b[0;34m\u001b[0m\u001b[0;34m\u001b[0m\u001b[0m\n", 
                        "\u001b[0;32m/opt/conda/envs/DSX-Python35/lib/python3.5/site-packages/tensorflow/python/ops/math_ops.py\u001b[0m in \u001b[0;36mmatmul\u001b[0;34m(a, b, transpose_a, transpose_b, adjoint_a, adjoint_b, a_is_sparse, b_is_sparse, name)\u001b[0m\n\u001b[1;32m   1842\u001b[0m     \u001b[0;32melse\u001b[0m\u001b[0;34m:\u001b[0m\u001b[0;34m\u001b[0m\u001b[0m\n\u001b[1;32m   1843\u001b[0m       return gen_math_ops._mat_mul(\n\u001b[0;32m-> 1844\u001b[0;31m           a, b, transpose_a=transpose_a, transpose_b=transpose_b, name=name)\n\u001b[0m\u001b[1;32m   1845\u001b[0m \u001b[0;34m\u001b[0m\u001b[0m\n\u001b[1;32m   1846\u001b[0m \u001b[0;34m\u001b[0m\u001b[0m\n", 
                        "\u001b[0;32m/opt/conda/envs/DSX-Python35/lib/python3.5/site-packages/tensorflow/python/ops/gen_math_ops.py\u001b[0m in \u001b[0;36m_mat_mul\u001b[0;34m(a, b, transpose_a, transpose_b, name)\u001b[0m\n\u001b[1;32m   1287\u001b[0m   \"\"\"\n\u001b[1;32m   1288\u001b[0m   result = _op_def_lib.apply_op(\"MatMul\", a=a, b=b, transpose_a=transpose_a,\n\u001b[0;32m-> 1289\u001b[0;31m                                 transpose_b=transpose_b, name=name)\n\u001b[0m\u001b[1;32m   1290\u001b[0m   \u001b[0;32mreturn\u001b[0m \u001b[0mresult\u001b[0m\u001b[0;34m\u001b[0m\u001b[0m\n\u001b[1;32m   1291\u001b[0m \u001b[0;34m\u001b[0m\u001b[0m\n", 
                        "\u001b[0;32m/opt/conda/envs/DSX-Python35/lib/python3.5/site-packages/tensorflow/python/framework/op_def_library.py\u001b[0m in \u001b[0;36mapply_op\u001b[0;34m(self, op_type_name, name, **keywords)\u001b[0m\n\u001b[1;32m    524\u001b[0m                   \u001b[0;34m\"%s type %s of argument '%s'.\"\u001b[0m \u001b[0;34m%\u001b[0m\u001b[0;34m\u001b[0m\u001b[0m\n\u001b[1;32m    525\u001b[0m                   (prefix, dtypes.as_dtype(attrs[input_arg.type_attr]).name,\n\u001b[0;32m--> 526\u001b[0;31m                    inferred_from[input_arg.type_attr]))\n\u001b[0m\u001b[1;32m    527\u001b[0m \u001b[0;34m\u001b[0m\u001b[0m\n\u001b[1;32m    528\u001b[0m           \u001b[0mtypes\u001b[0m \u001b[0;34m=\u001b[0m \u001b[0;34m[\u001b[0m\u001b[0mvalues\u001b[0m\u001b[0;34m.\u001b[0m\u001b[0mdtype\u001b[0m\u001b[0;34m]\u001b[0m\u001b[0;34m\u001b[0m\u001b[0m\n", 
                        "\u001b[0;31mTypeError\u001b[0m: Input 'b' of 'MatMul' Op has type float32 that does not match type int32 of argument 'a'."
                    ], 
                    "ename": "TypeError"
                }
            ], 
            "execution_count": 9
        }, 
        {
            "source": "num_steps = 100001\n\nwith tf.Session(graph=graph) as session:\n  tf.initialize_all_variables().run()\n  print('Initialized')\n  average_loss = 0\n  for step in range(num_steps):\n    batch_data, batch_labels = generate_batch(\n      batch_size, num_skips, skip_window)\n    feed_dict = {train_dataset : batch_data, train_labels : batch_labels}\n    _, l = session.run([optimizer, loss], feed_dict=feed_dict)\n    average_loss += l\n    if step % 2000 == 0:\n      if step > 0:\n        average_loss = average_loss / 2000\n      # The average loss is an estimate of the loss over the last 2000 batches.\n      print('Average loss at step %d: %f' % (step, average_loss))\n      average_loss = 0\n    # note that this is expensive (~20% slowdown if computed every 500 steps)\n    if step % 10000 == 0:\n      sim = similarity.eval()\n      for i in xrange(valid_size):\n        valid_word = reverse_dictionary[valid_examples[i]]\n        top_k = 8 # number of nearest neighbors\n        nearest = (-sim[i, :]).argsort()[1:top_k+1]\n        log = 'Nearest to %s:' % valid_word\n        for k in xrange(top_k):\n          close_word = reverse_dictionary[nearest[k]]\n          log = '%s %s,' % (log, close_word)\n        print(log)\n  final_embeddings = normalized_embeddings.eval()", 
            "cell_type": "code", 
            "metadata": {
                "outputId": "5ebd6d9a-33c6-4bcd-bf6d-252b0b6055e4", 
                "colab": {
                    "output_extras": [
                        {
                            "item_id": 23
                        }, 
                        {
                            "item_id": 48
                        }, 
                        {
                            "item_id": 61
                        }
                    ], 
                    "autoexec": {
                        "wait_interval": 0, 
                        "startup": false
                    }
                }, 
                "cellView": "both", 
                "colab_type": "code", 
                "id": "1bQFGceBxrWW", 
                "executionInfo": {
                    "status": "ok", 
                    "timestamp": 1445965429787, 
                    "user_tz": 420, 
                    "user": {
                        "permissionId": "05076109866853157986", 
                        "displayName": "Vincent Vanhoucke", 
                        "photoUrl": "//lh6.googleusercontent.com/-cCJa7dTDcgQ/AAAAAAAAAAI/AAAAAAAACgw/r2EZ_8oYer4/s50-c-k-no/photo.jpg", 
                        "color": "#1FA15D", 
                        "userId": "102167687554210253930", 
                        "sessionId": "2f1ffade4c9f20de", 
                        "isAnonymous": false, 
                        "isMe": true
                    }, 
                    "elapsed": 436189
                }
            }, 
            "outputs": [
                {
                    "output_type": "stream", 
                    "name": "stdout", 
                    "text": "WARNING:tensorflow:From /opt/conda/envs/DSX-Python35/lib/python3.5/site-packages/tensorflow/python/util/tf_should_use.py:175: initialize_all_variables (from tensorflow.python.ops.variables) is deprecated and will be removed after 2017-03-02.\nInstructions for updating:\nUse `tf.global_variables_initializer` instead.\nInitialized\n"
                }, 
                {
                    "output_type": "error", 
                    "evalue": "name 'generate_batch' is not defined", 
                    "traceback": [
                        "\u001b[0;31m---------------------------------------------------------------------------\u001b[0m", 
                        "\u001b[0;31mNameError\u001b[0m                                 Traceback (most recent call last)", 
                        "\u001b[0;32m<ipython-input-11-6657077daed1>\u001b[0m in \u001b[0;36m<module>\u001b[0;34m()\u001b[0m\n\u001b[1;32m      6\u001b[0m   \u001b[0maverage_loss\u001b[0m \u001b[0;34m=\u001b[0m \u001b[0;36m0\u001b[0m\u001b[0;34m\u001b[0m\u001b[0m\n\u001b[1;32m      7\u001b[0m   \u001b[0;32mfor\u001b[0m \u001b[0mstep\u001b[0m \u001b[0;32min\u001b[0m \u001b[0mrange\u001b[0m\u001b[0;34m(\u001b[0m\u001b[0mnum_steps\u001b[0m\u001b[0;34m)\u001b[0m\u001b[0;34m:\u001b[0m\u001b[0;34m\u001b[0m\u001b[0m\n\u001b[0;32m----> 8\u001b[0;31m     batch_data, batch_labels = generate_batch(\n\u001b[0m\u001b[1;32m      9\u001b[0m       batch_size, num_skips, skip_window)\n\u001b[1;32m     10\u001b[0m     \u001b[0mfeed_dict\u001b[0m \u001b[0;34m=\u001b[0m \u001b[0;34m{\u001b[0m\u001b[0mtrain_dataset\u001b[0m \u001b[0;34m:\u001b[0m \u001b[0mbatch_data\u001b[0m\u001b[0;34m,\u001b[0m \u001b[0mtrain_labels\u001b[0m \u001b[0;34m:\u001b[0m \u001b[0mbatch_labels\u001b[0m\u001b[0;34m}\u001b[0m\u001b[0;34m\u001b[0m\u001b[0m\n", 
                        "\u001b[0;31mNameError\u001b[0m: name 'generate_batch' is not defined"
                    ], 
                    "ename": "NameError"
                }
            ], 
            "execution_count": 11
        }, 
        {
            "source": "num_points = 400\n\ntsne = TSNE(perplexity=30, n_components=2, init='pca', n_iter=5000)\ntwo_d_embeddings = tsne.fit_transform(final_embeddings[1:num_points+1, :])", 
            "cell_type": "code", 
            "metadata": {
                "colab_type": "code", 
                "id": "jjJXYA_XzV79", 
                "colab": {
                    "autoexec": {
                        "wait_interval": 0, 
                        "startup": false
                    }
                }, 
                "cellView": "both"
            }, 
            "outputs": [
                {
                    "output_type": "error", 
                    "evalue": "name 'final_embeddings' is not defined", 
                    "traceback": [
                        "\u001b[0;31m---------------------------------------------------------------------------\u001b[0m", 
                        "\u001b[0;31mNameError\u001b[0m                                 Traceback (most recent call last)", 
                        "\u001b[0;32m<ipython-input-12-f70c03698d67>\u001b[0m in \u001b[0;36m<module>\u001b[0;34m()\u001b[0m\n\u001b[1;32m      2\u001b[0m \u001b[0;34m\u001b[0m\u001b[0m\n\u001b[1;32m      3\u001b[0m \u001b[0mtsne\u001b[0m \u001b[0;34m=\u001b[0m \u001b[0mTSNE\u001b[0m\u001b[0;34m(\u001b[0m\u001b[0mperplexity\u001b[0m\u001b[0;34m=\u001b[0m\u001b[0;36m30\u001b[0m\u001b[0;34m,\u001b[0m \u001b[0mn_components\u001b[0m\u001b[0;34m=\u001b[0m\u001b[0;36m2\u001b[0m\u001b[0;34m,\u001b[0m \u001b[0minit\u001b[0m\u001b[0;34m=\u001b[0m\u001b[0;34m'pca'\u001b[0m\u001b[0;34m,\u001b[0m \u001b[0mn_iter\u001b[0m\u001b[0;34m=\u001b[0m\u001b[0;36m5000\u001b[0m\u001b[0;34m)\u001b[0m\u001b[0;34m\u001b[0m\u001b[0m\n\u001b[0;32m----> 4\u001b[0;31m \u001b[0mtwo_d_embeddings\u001b[0m \u001b[0;34m=\u001b[0m \u001b[0mtsne\u001b[0m\u001b[0;34m.\u001b[0m\u001b[0mfit_transform\u001b[0m\u001b[0;34m(\u001b[0m\u001b[0mfinal_embeddings\u001b[0m\u001b[0;34m[\u001b[0m\u001b[0;36m1\u001b[0m\u001b[0;34m:\u001b[0m\u001b[0mnum_points\u001b[0m\u001b[0;34m+\u001b[0m\u001b[0;36m1\u001b[0m\u001b[0;34m,\u001b[0m \u001b[0;34m:\u001b[0m\u001b[0;34m]\u001b[0m\u001b[0;34m)\u001b[0m\u001b[0;34m\u001b[0m\u001b[0m\n\u001b[0m", 
                        "\u001b[0;31mNameError\u001b[0m: name 'final_embeddings' is not defined"
                    ], 
                    "ename": "NameError"
                }
            ], 
            "execution_count": 12
        }, 
        {
            "source": "%matplotlib inline\n\ndef plot(embeddings, labels):\n  assert embeddings.shape[0] >= len(labels), 'More labels than embeddings'\n  pylab.figure(figsize=(15,15))  # in inches\n  for i, label in enumerate(labels):\n    x, y = embeddings[i,:]\n    pylab.scatter(x, y)\n    pylab.annotate(label, xy=(x, y), xytext=(5, 2), textcoords='offset points',\n                   ha='right', va='bottom')\n  pylab.show()\n\nwords = [reverse_dictionary[i] for i in range(1, num_points+1)]\nplot(two_d_embeddings, words)", 
            "cell_type": "code", 
            "metadata": {
                "outputId": "df22e4a5-e8ec-4e5e-d384-c6cf37c68c34", 
                "colab": {
                    "output_extras": [
                        {
                            "item_id": 1
                        }
                    ], 
                    "autoexec": {
                        "wait_interval": 0, 
                        "startup": false
                    }
                }, 
                "cellView": "both", 
                "colab_type": "code", 
                "id": "o_e0D_UezcDe", 
                "executionInfo": {
                    "status": "ok", 
                    "timestamp": 1445965465525, 
                    "user_tz": 420, 
                    "user": {
                        "permissionId": "05076109866853157986", 
                        "displayName": "Vincent Vanhoucke", 
                        "photoUrl": "//lh6.googleusercontent.com/-cCJa7dTDcgQ/AAAAAAAAAAI/AAAAAAAACgw/r2EZ_8oYer4/s50-c-k-no/photo.jpg", 
                        "color": "#1FA15D", 
                        "userId": "102167687554210253930", 
                        "sessionId": "2f1ffade4c9f20de", 
                        "isAnonymous": false, 
                        "isMe": true
                    }, 
                    "elapsed": 4763
                }
            }, 
            "outputs": [
                {
                    "output_type": "error", 
                    "evalue": "name 'two_d_embeddings' is not defined", 
                    "traceback": [
                        "\u001b[0;31m---------------------------------------------------------------------------\u001b[0m", 
                        "\u001b[0;31mNameError\u001b[0m                                 Traceback (most recent call last)", 
                        "\u001b[0;32m<ipython-input-13-0fe7a32851d1>\u001b[0m in \u001b[0;36m<module>\u001b[0;34m()\u001b[0m\n\u001b[1;32m     12\u001b[0m \u001b[0;34m\u001b[0m\u001b[0m\n\u001b[1;32m     13\u001b[0m \u001b[0mwords\u001b[0m \u001b[0;34m=\u001b[0m \u001b[0;34m[\u001b[0m\u001b[0mreverse_dictionary\u001b[0m\u001b[0;34m[\u001b[0m\u001b[0mi\u001b[0m\u001b[0;34m]\u001b[0m \u001b[0;32mfor\u001b[0m \u001b[0mi\u001b[0m \u001b[0;32min\u001b[0m \u001b[0mrange\u001b[0m\u001b[0;34m(\u001b[0m\u001b[0;36m1\u001b[0m\u001b[0;34m,\u001b[0m \u001b[0mnum_points\u001b[0m\u001b[0;34m+\u001b[0m\u001b[0;36m1\u001b[0m\u001b[0;34m)\u001b[0m\u001b[0;34m]\u001b[0m\u001b[0;34m\u001b[0m\u001b[0m\n\u001b[0;32m---> 14\u001b[0;31m \u001b[0mplot\u001b[0m\u001b[0;34m(\u001b[0m\u001b[0mtwo_d_embeddings\u001b[0m\u001b[0;34m,\u001b[0m \u001b[0mwords\u001b[0m\u001b[0;34m)\u001b[0m\u001b[0;34m\u001b[0m\u001b[0m\n\u001b[0m", 
                        "\u001b[0;31mNameError\u001b[0m: name 'two_d_embeddings' is not defined"
                    ], 
                    "ename": "NameError"
                }
            ], 
            "execution_count": 13
        }, 
        {
            "source": "---\n\nProblem\n-------\n\nAn alternative to Word2Vec is called [CBOW](http://arxiv.org/abs/1301.3781) (Continuous Bag of Words). In the CBOW model, instead of predicting a context word from a word vector, you predict a word from the sum of all the word vectors in its context. Implement and evaluate a CBOW model trained on the text8 dataset.", 
            "cell_type": "markdown", 
            "metadata": {
                "colab_type": "text", 
                "id": "QB5EFrBnpNnc"
            }
        }, 
        {
            "source": "The main difference between skip-gram and CBOW is the inputs and outputs are reversed - skip-gram predicts the context given the word, while CBOW predicts the word given the context.  The second difference is that unlike skip-gram where each context word is a separate, label, in CBOW the context words are summed together in the input vector (so instead of having a single bit \"activated\" we'll have 2 or more bits turned on).  This [blog post](https://iksinc.wordpress.com/tag/continuous-bag-of-words-cbow/) explains it pretty well, although the exact implementation used here isn't as complicated as the one suggested in the post.\n\nThe code is very similar to skip-gram, with the exception of the batch generation function.\n\nFull disclousure: these code updates came from other course participants through discussions about the assignment.  There are multiple ways to implement this so there is no single right answer.", 
            "cell_type": "markdown", 
            "metadata": {}
        }, 
        {
            "source": "data_index = 0\n\ndef generate_batch_cbow(batch_size, skip_window):\n  global data_index\n  context_window = 2 * skip_window\n  assert batch_size % context_window == 0\n  num_labels = batch_size / context_window\n  batch = np.ndarray(shape=(batch_size), dtype=np.int32)\n  labels = np.ndarray(shape=(num_labels, 1), dtype=np.int32)\n  span = 2 * skip_window + 1 # [ skip_window target skip_window ]\n  buffer = collections.deque(maxlen=span)\n  for _ in range(span):\n    buffer.append(data[data_index])\n    data_index = (data_index + 1) % len(data)\n  for i in range(num_labels):\n    target = skip_window  # target label at the center of the buffer\n    labels[i, 0] = buffer[target]\n    targets_to_avoid = [ skip_window ]\n    for j in range(context_window):\n      while target in targets_to_avoid:\n        target = random.randint(0, span - 1)\n      targets_to_avoid.append(target)\n      batch[i * context_window + j] = buffer[target]\n    buffer.append(data[data_index])\n    data_index = (data_index + 1) % len(data)\n  return batch, labels", 
            "cell_type": "code", 
            "metadata": {}, 
            "outputs": [], 
            "execution_count": 14
        }, 
        {
            "source": "batch_size = 128\nembedding_size = 128 # Dimension of the embedding vector.\nskip_window = 1 # How many words to consider left and right.\ncontext_window = 2 * skip_window\nnum_labels = batch_size / context_window\n# num_skips = 2 # How many times to reuse an input to generate a label.\n# We pick a random validation set to sample nearest neighbors. here we limit the\n# validation samples to the words that have a low numeric ID, which by\n# construction are also the most frequent. \nvalid_size = 16 # Random set of words to evaluate similarity on.\nvalid_window = 100 # Only pick dev samples in the head of the distribution.\nvalid_examples = np.array(random.sample(range(valid_window), valid_size))\nnum_sampled = 32 # Number of negative examples to sample.\n\ngraph = tf.Graph()\n\nwith graph.as_default(), tf.device('/cpu:0'):\n\n  # Input data.\n  train_dataset = tf.placeholder(tf.int32, shape=[batch_size])\n  train_labels = tf.placeholder(tf.int32, shape=[num_labels, 1])\n  valid_dataset = tf.constant(valid_examples, dtype=tf.int32)\n  \n  # Variables.\n  embeddings = tf.Variable(\n    tf.random_uniform([vocabulary_size, embedding_size], -1.0, 1.0))\n  softmax_weights = tf.Variable(\n    tf.truncated_normal([vocabulary_size, embedding_size],\n                         stddev=1.0 / math.sqrt(embedding_size)))\n  softmax_biases = tf.Variable(tf.zeros([vocabulary_size]))\n  \n  # Model.\n  # Look up embeddings for inputs.\n  embed = tf.nn.embedding_lookup(embeddings, train_dataset)\n\n  # Create a mask to apply to the embed tensor to essentially \"sum\" the context words\n  seq_ids = np.zeros(batch_size, dtype=np.int32)\n  cur_id = -1\n  for i in range(batch_size):\n    if i % context_window == 0:\n      cur_id = cur_id + 1\n    seq_ids[i] = cur_id\n  \n  # Use segment_sum to add together the related words and reduce the output to be num_labels in size.\n  embed_sum = tf.segment_sum(embed, seq_ids)\n  \n  # Compute the softmax loss, using a sample of the negative labels each time.\n  loss = tf.reduce_mean(\n    tf.nn.sampled_softmax_loss(softmax_weights, softmax_biases, embed_sum,\n                               train_labels, num_sampled, vocabulary_size))\n\n  # Optimizer.\n  optimizer = tf.train.AdagradOptimizer(1.0).minimize(loss)\n  \n  # Compute the similarity between minibatch examples and all embeddings.\n  # We use the cosine distance:\n  norm = tf.sqrt(tf.reduce_sum(tf.square(embeddings), 1, keep_dims=True))\n  normalized_embeddings = embeddings / norm\n  valid_embeddings = tf.nn.embedding_lookup(\n    normalized_embeddings, valid_dataset)\n  similarity = tf.matmul(valid_embeddings, tf.transpose(normalized_embeddings))", 
            "cell_type": "code", 
            "metadata": {}, 
            "outputs": [
                {
                    "output_type": "error", 
                    "evalue": "Input 'b' of 'MatMul' Op has type float32 that does not match type int32 of argument 'a'.", 
                    "traceback": [
                        "\u001b[0;31m---------------------------------------------------------------------------\u001b[0m", 
                        "\u001b[0;31mValueError\u001b[0m                                Traceback (most recent call last)", 
                        "\u001b[0;32m/opt/conda/envs/DSX-Python35/lib/python3.5/site-packages/tensorflow/python/framework/op_def_library.py\u001b[0m in \u001b[0;36mapply_op\u001b[0;34m(self, op_type_name, name, **keywords)\u001b[0m\n\u001b[1;32m    489\u001b[0m                 \u001b[0mas_ref\u001b[0m\u001b[0;34m=\u001b[0m\u001b[0minput_arg\u001b[0m\u001b[0;34m.\u001b[0m\u001b[0mis_ref\u001b[0m\u001b[0;34m,\u001b[0m\u001b[0;34m\u001b[0m\u001b[0m\n\u001b[0;32m--> 490\u001b[0;31m                 preferred_dtype=default_dtype)\n\u001b[0m\u001b[1;32m    491\u001b[0m           \u001b[0;32mexcept\u001b[0m \u001b[0mTypeError\u001b[0m \u001b[0;32mas\u001b[0m \u001b[0merr\u001b[0m\u001b[0;34m:\u001b[0m\u001b[0;34m\u001b[0m\u001b[0m\n", 
                        "\u001b[0;32m/opt/conda/envs/DSX-Python35/lib/python3.5/site-packages/tensorflow/python/framework/ops.py\u001b[0m in \u001b[0;36minternal_convert_to_tensor\u001b[0;34m(value, dtype, name, as_ref, preferred_dtype)\u001b[0m\n\u001b[1;32m    675\u001b[0m         \u001b[0;32mif\u001b[0m \u001b[0mret\u001b[0m \u001b[0;32mis\u001b[0m \u001b[0;32mNone\u001b[0m\u001b[0;34m:\u001b[0m\u001b[0;34m\u001b[0m\u001b[0m\n\u001b[0;32m--> 676\u001b[0;31m           \u001b[0mret\u001b[0m \u001b[0;34m=\u001b[0m \u001b[0mconversion_func\u001b[0m\u001b[0;34m(\u001b[0m\u001b[0mvalue\u001b[0m\u001b[0;34m,\u001b[0m \u001b[0mdtype\u001b[0m\u001b[0;34m=\u001b[0m\u001b[0mdtype\u001b[0m\u001b[0;34m,\u001b[0m \u001b[0mname\u001b[0m\u001b[0;34m=\u001b[0m\u001b[0mname\u001b[0m\u001b[0;34m,\u001b[0m \u001b[0mas_ref\u001b[0m\u001b[0;34m=\u001b[0m\u001b[0mas_ref\u001b[0m\u001b[0;34m)\u001b[0m\u001b[0;34m\u001b[0m\u001b[0m\n\u001b[0m\u001b[1;32m    677\u001b[0m \u001b[0;34m\u001b[0m\u001b[0m\n", 
                        "\u001b[0;32m/opt/conda/envs/DSX-Python35/lib/python3.5/site-packages/tensorflow/python/framework/ops.py\u001b[0m in \u001b[0;36m_TensorTensorConversionFunction\u001b[0;34m(t, dtype, name, as_ref)\u001b[0m\n\u001b[1;32m    548\u001b[0m         \u001b[0;34m\"Tensor conversion requested dtype %s for Tensor with dtype %s: %r\"\u001b[0m\u001b[0;34m\u001b[0m\u001b[0m\n\u001b[0;32m--> 549\u001b[0;31m         % (dtype.name, t.dtype.name, str(t)))\n\u001b[0m\u001b[1;32m    550\u001b[0m   \u001b[0;32mreturn\u001b[0m \u001b[0mt\u001b[0m\u001b[0;34m\u001b[0m\u001b[0m\n", 
                        "\u001b[0;31mValueError\u001b[0m: Tensor conversion requested dtype int32 for Tensor with dtype float32: 'Tensor(\"sampled_softmax_loss/Slice_1:0\", shape=(?, 128), dtype=float32, device=/device:CPU:0)'", 
                        "\nDuring handling of the above exception, another exception occurred:\n", 
                        "\u001b[0;31mTypeError\u001b[0m                                 Traceback (most recent call last)", 
                        "\u001b[0;32m<ipython-input-15-5433b32036af>\u001b[0m in \u001b[0;36m<module>\u001b[0;34m()\u001b[0m\n\u001b[1;32m     48\u001b[0m   loss = tf.reduce_mean(\n\u001b[1;32m     49\u001b[0m     tf.nn.sampled_softmax_loss(softmax_weights, softmax_biases, embed_sum,\n\u001b[0;32m---> 50\u001b[0;31m                                train_labels, num_sampled, vocabulary_size))\n\u001b[0m\u001b[1;32m     51\u001b[0m \u001b[0;34m\u001b[0m\u001b[0m\n\u001b[1;32m     52\u001b[0m   \u001b[0;31m# Optimizer.\u001b[0m\u001b[0;34m\u001b[0m\u001b[0;34m\u001b[0m\u001b[0m\n", 
                        "\u001b[0;32m/opt/conda/envs/DSX-Python35/lib/python3.5/site-packages/tensorflow/python/ops/nn_impl.py\u001b[0m in \u001b[0;36msampled_softmax_loss\u001b[0;34m(weights, biases, labels, inputs, num_sampled, num_classes, num_true, sampled_values, remove_accidental_hits, partition_strategy, name)\u001b[0m\n\u001b[1;32m   1245\u001b[0m       \u001b[0mremove_accidental_hits\u001b[0m\u001b[0;34m=\u001b[0m\u001b[0mremove_accidental_hits\u001b[0m\u001b[0;34m,\u001b[0m\u001b[0;34m\u001b[0m\u001b[0m\n\u001b[1;32m   1246\u001b[0m       \u001b[0mpartition_strategy\u001b[0m\u001b[0;34m=\u001b[0m\u001b[0mpartition_strategy\u001b[0m\u001b[0;34m,\u001b[0m\u001b[0;34m\u001b[0m\u001b[0m\n\u001b[0;32m-> 1247\u001b[0;31m       name=name)\n\u001b[0m\u001b[1;32m   1248\u001b[0m   sampled_losses = nn_ops.softmax_cross_entropy_with_logits(\n\u001b[1;32m   1249\u001b[0m       labels=labels, logits=logits)\n", 
                        "\u001b[0;32m/opt/conda/envs/DSX-Python35/lib/python3.5/site-packages/tensorflow/python/ops/nn_impl.py\u001b[0m in \u001b[0;36m_compute_sampled_logits\u001b[0;34m(weights, biases, labels, inputs, num_sampled, num_classes, num_true, sampled_values, subtract_log_q, remove_accidental_hits, partition_strategy, name)\u001b[0m\n\u001b[1;32m    979\u001b[0m     \u001b[0;31m# sampled_w has shape [num_sampled, dim]\u001b[0m\u001b[0;34m\u001b[0m\u001b[0;34m\u001b[0m\u001b[0m\n\u001b[1;32m    980\u001b[0m     \u001b[0;31m# Apply X*W', which yields [batch_size, num_sampled]\u001b[0m\u001b[0;34m\u001b[0m\u001b[0;34m\u001b[0m\u001b[0m\n\u001b[0;32m--> 981\u001b[0;31m     \u001b[0msampled_logits\u001b[0m \u001b[0;34m=\u001b[0m \u001b[0mmath_ops\u001b[0m\u001b[0;34m.\u001b[0m\u001b[0mmatmul\u001b[0m\u001b[0;34m(\u001b[0m\u001b[0minputs\u001b[0m\u001b[0;34m,\u001b[0m \u001b[0msampled_w\u001b[0m\u001b[0;34m,\u001b[0m \u001b[0mtranspose_b\u001b[0m\u001b[0;34m=\u001b[0m\u001b[0;32mTrue\u001b[0m\u001b[0;34m)\u001b[0m\u001b[0;34m\u001b[0m\u001b[0m\n\u001b[0m\u001b[1;32m    982\u001b[0m \u001b[0;34m\u001b[0m\u001b[0m\n\u001b[1;32m    983\u001b[0m     \u001b[0;31m# Retrieve the true and sampled biases, compute the true logits, and\u001b[0m\u001b[0;34m\u001b[0m\u001b[0;34m\u001b[0m\u001b[0m\n", 
                        "\u001b[0;32m/opt/conda/envs/DSX-Python35/lib/python3.5/site-packages/tensorflow/python/ops/math_ops.py\u001b[0m in \u001b[0;36mmatmul\u001b[0;34m(a, b, transpose_a, transpose_b, adjoint_a, adjoint_b, a_is_sparse, b_is_sparse, name)\u001b[0m\n\u001b[1;32m   1842\u001b[0m     \u001b[0;32melse\u001b[0m\u001b[0;34m:\u001b[0m\u001b[0;34m\u001b[0m\u001b[0m\n\u001b[1;32m   1843\u001b[0m       return gen_math_ops._mat_mul(\n\u001b[0;32m-> 1844\u001b[0;31m           a, b, transpose_a=transpose_a, transpose_b=transpose_b, name=name)\n\u001b[0m\u001b[1;32m   1845\u001b[0m \u001b[0;34m\u001b[0m\u001b[0m\n\u001b[1;32m   1846\u001b[0m \u001b[0;34m\u001b[0m\u001b[0m\n", 
                        "\u001b[0;32m/opt/conda/envs/DSX-Python35/lib/python3.5/site-packages/tensorflow/python/ops/gen_math_ops.py\u001b[0m in \u001b[0;36m_mat_mul\u001b[0;34m(a, b, transpose_a, transpose_b, name)\u001b[0m\n\u001b[1;32m   1287\u001b[0m   \"\"\"\n\u001b[1;32m   1288\u001b[0m   result = _op_def_lib.apply_op(\"MatMul\", a=a, b=b, transpose_a=transpose_a,\n\u001b[0;32m-> 1289\u001b[0;31m                                 transpose_b=transpose_b, name=name)\n\u001b[0m\u001b[1;32m   1290\u001b[0m   \u001b[0;32mreturn\u001b[0m \u001b[0mresult\u001b[0m\u001b[0;34m\u001b[0m\u001b[0m\n\u001b[1;32m   1291\u001b[0m \u001b[0;34m\u001b[0m\u001b[0m\n", 
                        "\u001b[0;32m/opt/conda/envs/DSX-Python35/lib/python3.5/site-packages/tensorflow/python/framework/op_def_library.py\u001b[0m in \u001b[0;36mapply_op\u001b[0;34m(self, op_type_name, name, **keywords)\u001b[0m\n\u001b[1;32m    524\u001b[0m                   \u001b[0;34m\"%s type %s of argument '%s'.\"\u001b[0m \u001b[0;34m%\u001b[0m\u001b[0;34m\u001b[0m\u001b[0m\n\u001b[1;32m    525\u001b[0m                   (prefix, dtypes.as_dtype(attrs[input_arg.type_attr]).name,\n\u001b[0;32m--> 526\u001b[0;31m                    inferred_from[input_arg.type_attr]))\n\u001b[0m\u001b[1;32m    527\u001b[0m \u001b[0;34m\u001b[0m\u001b[0m\n\u001b[1;32m    528\u001b[0m           \u001b[0mtypes\u001b[0m \u001b[0;34m=\u001b[0m \u001b[0;34m[\u001b[0m\u001b[0mvalues\u001b[0m\u001b[0;34m.\u001b[0m\u001b[0mdtype\u001b[0m\u001b[0;34m]\u001b[0m\u001b[0;34m\u001b[0m\u001b[0m\n", 
                        "\u001b[0;31mTypeError\u001b[0m: Input 'b' of 'MatMul' Op has type float32 that does not match type int32 of argument 'a'."
                    ], 
                    "ename": "TypeError"
                }
            ], 
            "execution_count": 15
        }, 
        {
            "source": "num_steps = 100001\n\nwith tf.Session(graph=graph) as session:\n  tf.initialize_all_variables().run()\n  print('Initialized')\n  average_loss = 0\n  for step in range(num_steps):\n    batch_data, batch_labels = generate_batch_cbow(batch_size, skip_window)\n    feed_dict = {train_dataset : batch_data, train_labels : batch_labels}\n    _, l = session.run([optimizer, loss], feed_dict=feed_dict)\n    average_loss += l\n    if step % 2000 == 0:\n      if step > 0:\n        average_loss = average_loss / 2000\n      # The average loss is an estimate of the loss over the last 2000 batches.\n      print('Average loss at step %d: %f' % (step, average_loss))\n      average_loss = 0\n    # note that this is expensive (~20% slowdown if computed every 500 steps)\n    if step % 10000 == 0:\n      sim = similarity.eval()\n      for i in xrange(valid_size):\n        valid_word = reverse_dictionary[valid_examples[i]]\n        top_k = 8 # number of nearest neighbors\n        nearest = (-sim[i, :]).argsort()[1:top_k+1]\n        log = 'Nearest to %s:' % valid_word\n        for k in xrange(top_k):\n          close_word = reverse_dictionary[nearest[k]]\n          log = '%s %s,' % (log, close_word)\n        print(log)\n  final_embeddings = normalized_embeddings.eval()", 
            "cell_type": "code", 
            "metadata": {}, 
            "outputs": [
                {
                    "output_type": "stream", 
                    "name": "stdout", 
                    "text": "WARNING:tensorflow:From /opt/conda/envs/DSX-Python35/lib/python3.5/site-packages/tensorflow/python/util/tf_should_use.py:175: initialize_all_variables (from tensorflow.python.ops.variables) is deprecated and will be removed after 2017-03-02.\nInstructions for updating:\nUse `tf.global_variables_initializer` instead.\nInitialized\n"
                }, 
                {
                    "output_type": "error", 
                    "evalue": "'float' object cannot be interpreted as an integer", 
                    "traceback": [
                        "\u001b[0;31m---------------------------------------------------------------------------\u001b[0m", 
                        "\u001b[0;31mTypeError\u001b[0m                                 Traceback (most recent call last)", 
                        "\u001b[0;32m<ipython-input-16-c839f022bf0d>\u001b[0m in \u001b[0;36m<module>\u001b[0;34m()\u001b[0m\n\u001b[1;32m      6\u001b[0m   \u001b[0maverage_loss\u001b[0m \u001b[0;34m=\u001b[0m \u001b[0;36m0\u001b[0m\u001b[0;34m\u001b[0m\u001b[0m\n\u001b[1;32m      7\u001b[0m   \u001b[0;32mfor\u001b[0m \u001b[0mstep\u001b[0m \u001b[0;32min\u001b[0m \u001b[0mrange\u001b[0m\u001b[0;34m(\u001b[0m\u001b[0mnum_steps\u001b[0m\u001b[0;34m)\u001b[0m\u001b[0;34m:\u001b[0m\u001b[0;34m\u001b[0m\u001b[0m\n\u001b[0;32m----> 8\u001b[0;31m     \u001b[0mbatch_data\u001b[0m\u001b[0;34m,\u001b[0m \u001b[0mbatch_labels\u001b[0m \u001b[0;34m=\u001b[0m \u001b[0mgenerate_batch_cbow\u001b[0m\u001b[0;34m(\u001b[0m\u001b[0mbatch_size\u001b[0m\u001b[0;34m,\u001b[0m \u001b[0mskip_window\u001b[0m\u001b[0;34m)\u001b[0m\u001b[0;34m\u001b[0m\u001b[0m\n\u001b[0m\u001b[1;32m      9\u001b[0m     \u001b[0mfeed_dict\u001b[0m \u001b[0;34m=\u001b[0m \u001b[0;34m{\u001b[0m\u001b[0mtrain_dataset\u001b[0m \u001b[0;34m:\u001b[0m \u001b[0mbatch_data\u001b[0m\u001b[0;34m,\u001b[0m \u001b[0mtrain_labels\u001b[0m \u001b[0;34m:\u001b[0m \u001b[0mbatch_labels\u001b[0m\u001b[0;34m}\u001b[0m\u001b[0;34m\u001b[0m\u001b[0m\n\u001b[1;32m     10\u001b[0m     \u001b[0m_\u001b[0m\u001b[0;34m,\u001b[0m \u001b[0ml\u001b[0m \u001b[0;34m=\u001b[0m \u001b[0msession\u001b[0m\u001b[0;34m.\u001b[0m\u001b[0mrun\u001b[0m\u001b[0;34m(\u001b[0m\u001b[0;34m[\u001b[0m\u001b[0moptimizer\u001b[0m\u001b[0;34m,\u001b[0m \u001b[0mloss\u001b[0m\u001b[0;34m]\u001b[0m\u001b[0;34m,\u001b[0m \u001b[0mfeed_dict\u001b[0m\u001b[0;34m=\u001b[0m\u001b[0mfeed_dict\u001b[0m\u001b[0;34m)\u001b[0m\u001b[0;34m\u001b[0m\u001b[0m\n", 
                        "\u001b[0;32m<ipython-input-14-ef5751901b8b>\u001b[0m in \u001b[0;36mgenerate_batch_cbow\u001b[0;34m(batch_size, skip_window)\u001b[0m\n\u001b[1;32m      7\u001b[0m   \u001b[0mnum_labels\u001b[0m \u001b[0;34m=\u001b[0m \u001b[0mbatch_size\u001b[0m \u001b[0;34m/\u001b[0m \u001b[0mcontext_window\u001b[0m\u001b[0;34m\u001b[0m\u001b[0m\n\u001b[1;32m      8\u001b[0m   \u001b[0mbatch\u001b[0m \u001b[0;34m=\u001b[0m \u001b[0mnp\u001b[0m\u001b[0;34m.\u001b[0m\u001b[0mndarray\u001b[0m\u001b[0;34m(\u001b[0m\u001b[0mshape\u001b[0m\u001b[0;34m=\u001b[0m\u001b[0;34m(\u001b[0m\u001b[0mbatch_size\u001b[0m\u001b[0;34m)\u001b[0m\u001b[0;34m,\u001b[0m \u001b[0mdtype\u001b[0m\u001b[0;34m=\u001b[0m\u001b[0mnp\u001b[0m\u001b[0;34m.\u001b[0m\u001b[0mint32\u001b[0m\u001b[0;34m)\u001b[0m\u001b[0;34m\u001b[0m\u001b[0m\n\u001b[0;32m----> 9\u001b[0;31m   \u001b[0mlabels\u001b[0m \u001b[0;34m=\u001b[0m \u001b[0mnp\u001b[0m\u001b[0;34m.\u001b[0m\u001b[0mndarray\u001b[0m\u001b[0;34m(\u001b[0m\u001b[0mshape\u001b[0m\u001b[0;34m=\u001b[0m\u001b[0;34m(\u001b[0m\u001b[0mnum_labels\u001b[0m\u001b[0;34m,\u001b[0m \u001b[0;36m1\u001b[0m\u001b[0;34m)\u001b[0m\u001b[0;34m,\u001b[0m \u001b[0mdtype\u001b[0m\u001b[0;34m=\u001b[0m\u001b[0mnp\u001b[0m\u001b[0;34m.\u001b[0m\u001b[0mint32\u001b[0m\u001b[0;34m)\u001b[0m\u001b[0;34m\u001b[0m\u001b[0m\n\u001b[0m\u001b[1;32m     10\u001b[0m   \u001b[0mspan\u001b[0m \u001b[0;34m=\u001b[0m \u001b[0;36m2\u001b[0m \u001b[0;34m*\u001b[0m \u001b[0mskip_window\u001b[0m \u001b[0;34m+\u001b[0m \u001b[0;36m1\u001b[0m \u001b[0;31m# [ skip_window target skip_window ]\u001b[0m\u001b[0;34m\u001b[0m\u001b[0m\n\u001b[1;32m     11\u001b[0m   \u001b[0mbuffer\u001b[0m \u001b[0;34m=\u001b[0m \u001b[0mcollections\u001b[0m\u001b[0;34m.\u001b[0m\u001b[0mdeque\u001b[0m\u001b[0;34m(\u001b[0m\u001b[0mmaxlen\u001b[0m\u001b[0;34m=\u001b[0m\u001b[0mspan\u001b[0m\u001b[0;34m)\u001b[0m\u001b[0;34m\u001b[0m\u001b[0m\n", 
                        "\u001b[0;31mTypeError\u001b[0m: 'float' object cannot be interpreted as an integer"
                    ], 
                    "ename": "TypeError"
                }
            ], 
            "execution_count": 16
        }, 
        {
            "source": "num_points = 400\n\ntsne = TSNE(perplexity=30, n_components=2, init='pca', n_iter=5000)\ntwo_d_embeddings = tsne.fit_transform(final_embeddings[1:num_points+1, :])", 
            "cell_type": "code", 
            "metadata": {
                "collapsed": true
            }, 
            "outputs": [], 
            "execution_count": 13
        }, 
        {
            "source": "%matplotlib inline\n\ndef plot(embeddings, labels):\n  assert embeddings.shape[0] >= len(labels), 'More labels than embeddings'\n  pylab.figure(figsize=(15,15))  # in inches\n  for i, label in enumerate(labels):\n    x, y = embeddings[i,:]\n    pylab.scatter(x, y)\n    pylab.annotate(label, xy=(x, y), xytext=(5, 2), textcoords='offset points',\n                   ha='right', va='bottom')\n  pylab.show()\n\nwords = [reverse_dictionary[i] for i in range(1, num_points+1)]\nplot(two_d_embeddings, words)", 
            "cell_type": "code", 
            "metadata": {}, 
            "outputs": [
                {
                    "output_type": "error", 
                    "evalue": "name 'two_d_embeddings' is not defined", 
                    "traceback": [
                        "\u001b[0;31m---------------------------------------------------------------------------\u001b[0m", 
                        "\u001b[0;31mNameError\u001b[0m                                 Traceback (most recent call last)", 
                        "\u001b[0;32m<ipython-input-17-0fe7a32851d1>\u001b[0m in \u001b[0;36m<module>\u001b[0;34m()\u001b[0m\n\u001b[1;32m     12\u001b[0m \u001b[0;34m\u001b[0m\u001b[0m\n\u001b[1;32m     13\u001b[0m \u001b[0mwords\u001b[0m \u001b[0;34m=\u001b[0m \u001b[0;34m[\u001b[0m\u001b[0mreverse_dictionary\u001b[0m\u001b[0;34m[\u001b[0m\u001b[0mi\u001b[0m\u001b[0;34m]\u001b[0m \u001b[0;32mfor\u001b[0m \u001b[0mi\u001b[0m \u001b[0;32min\u001b[0m \u001b[0mrange\u001b[0m\u001b[0;34m(\u001b[0m\u001b[0;36m1\u001b[0m\u001b[0;34m,\u001b[0m \u001b[0mnum_points\u001b[0m\u001b[0;34m+\u001b[0m\u001b[0;36m1\u001b[0m\u001b[0;34m)\u001b[0m\u001b[0;34m]\u001b[0m\u001b[0;34m\u001b[0m\u001b[0m\n\u001b[0;32m---> 14\u001b[0;31m \u001b[0mplot\u001b[0m\u001b[0;34m(\u001b[0m\u001b[0mtwo_d_embeddings\u001b[0m\u001b[0;34m,\u001b[0m \u001b[0mwords\u001b[0m\u001b[0;34m)\u001b[0m\u001b[0;34m\u001b[0m\u001b[0m\n\u001b[0m", 
                        "\u001b[0;31mNameError\u001b[0m: name 'two_d_embeddings' is not defined"
                    ], 
                    "ename": "NameError"
                }
            ], 
            "execution_count": 17
        }, 
        {
            "source": "", 
            "cell_type": "code", 
            "metadata": {}, 
            "outputs": [], 
            "execution_count": null
        }
    ], 
    "metadata": {
        "kernelspec": {
            "display_name": "Python 3.5", 
            "name": "python3", 
            "language": "python"
        }, 
        "language_info": {
            "mimetype": "text/x-python", 
            "nbconvert_exporter": "python", 
            "version": "3.5.4", 
            "name": "python", 
            "pygments_lexer": "ipython3", 
            "file_extension": ".py", 
            "codemirror_mode": {
                "version": 3, 
                "name": "ipython"
            }
        }, 
        "colab": {
            "default_view": {}, 
            "provenance": [], 
            "name": "5_word2vec.ipynb", 
            "version": "0.3.2", 
            "views": {}
        }
    }, 
    "nbformat": 4
}